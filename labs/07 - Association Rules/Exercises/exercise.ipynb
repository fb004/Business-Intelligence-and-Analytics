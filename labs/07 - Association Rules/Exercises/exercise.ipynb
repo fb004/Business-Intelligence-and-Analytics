{
  "cells": [
    {
      "cell_type": "markdown",
      "metadata": {
        "colab_type": "text",
        "id": "view-in-github"
      },
      "source": [
        "<a href=\"https://colab.research.google.com/github/michalis0/Business-Intelligence-and-Analytics/blob/master/labs/07%20-%20Association%20Rules/Exercises/exercise.ipynb\" target=\"_parent\"><img src=\"https://colab.research.google.com/assets/colab-badge.svg\" alt=\"Open In Colab\"/></a>"
      ]
    },
    {
      "cell_type": "markdown",
      "metadata": {
        "id": "nYhwpMKQnOTf"
      },
      "source": [
        "## Exercise\n",
        "\n",
        "Let's try with a more real and bigger dataset. Load the `Groceries.csv` file and try to find association rules using the __confidence__ metric. Use a support threshold of __0.01__ and confidence threshold of __0.1__."
      ]
    },
    {
      "cell_type": "markdown",
      "metadata": {
        "id": "N0AlavmZnVoG"
      },
      "source": [
        "### Load the data\n",
        "First, load the `Groceries.csv` file from the GitHub repository. Since this is not a proper csv file and there are different number of values in each row, you have to read the file manually. Run the code cell below to read the file and save it as a list of lists."
      ]
    },
    {
      "cell_type": "code",
      "execution_count": null,
      "metadata": {},
      "outputs": [],
      "source": [
        "import pandas as pd\n",
        "from mlxtend.preprocessing import TransactionEncoder\n",
        "from mlxtend.frequent_patterns import apriori, association_rules"
      ]
    },
    {
      "cell_type": "code",
      "execution_count": 1,
      "metadata": {
        "id": "3Em5kJKCm0FK"
      },
      "outputs": [],
      "source": [
        "# We need the requests package to read the data from url.\n",
        "import requests\n",
        "response = requests.get(\"https://media.githubusercontent.com/media/michalis0/Business-Intelligence-and-Analytics/master/data/Groceries.csv\")\n",
        "data = response.text\n",
        "\n",
        "dataset = []\n",
        "for line in data.split(\"\\n\"):\n",
        "    transaction = []\n",
        "    row = line.rstrip().split(\",\")\n",
        "    for item in row:\n",
        "        transaction.append(item)\n",
        "    dataset.append(transaction)"
      ]
    },
    {
      "cell_type": "markdown",
      "metadata": {
        "id": "b6zGpqcdnbgf"
      },
      "source": [
        "Next, create the one-hot encoded dataframe with `TransactionEncoder()`."
      ]
    },
    {
      "cell_type": "code",
      "execution_count": null,
      "metadata": {
        "id": "N1Uv15MSncAC"
      },
      "outputs": [],
      "source": [
        "# Create the one_hot encoded dataframe with TransactionEncoder()\n"
      ]
    },
    {
      "cell_type": "markdown",
      "metadata": {
        "id": "jp0H6hD8niTe"
      },
      "source": [
        "Then find the frequexnt itemsets with `min_support=0.01` and `max_len=2`.\n",
        "\n",
        "Then find the association rules with `metric='confidence'` and `min_threshold=0.1`."
      ]
    },
    {
      "cell_type": "code",
      "execution_count": null,
      "metadata": {
        "id": "kLhz4jlKnfbn"
      },
      "outputs": [],
      "source": [
        "# Find the frequent itemsets with  min_support=0.01, max_len=2\n",
        "# YOUR CODE HERE\n",
        "\n",
        "# Find the association rules with metric='confidence' and min_threshold=0.1\n",
        "# YOUR CODE HERE"
      ]
    },
    {
      "cell_type": "markdown",
      "metadata": {
        "id": "pN_k9hnYnmOn"
      },
      "source": [
        "Check out the rules you have found that have \"soda\" as antecedant. Are all of these rules interesting?\n",
        "\n",
        "<h2> Important: This question is related to the Moodle quiz question 1. <h2>"
      ]
    },
    {
      "cell_type": "code",
      "execution_count": null,
      "metadata": {
        "id": "6bwSc65fnffT"
      },
      "outputs": [],
      "source": [
        "# Extract rules with 'soda' as antecedents and sort them to find the rules with the highest lift values\n",
        "# YOUR CODE HERE"
      ]
    },
    {
      "cell_type": "markdown",
      "metadata": {
        "id": "uNC9NjAknxbi"
      },
      "source": [
        "Check out the rules you have found that have \"butter\" as antecedant. Are all of these rules interesting?\n",
        "\n",
        "<h2> Important: This question is related to the Moodle quiz question 2. <h2>"
      ]
    },
    {
      "cell_type": "code",
      "execution_count": null,
      "metadata": {
        "id": "Vxbrfejtnx6x"
      },
      "outputs": [],
      "source": [
        "# Extract rules with 'butter' as antecedents and sort them to find the rules with the highest confidence values\n",
        "# YOUR CODE HERE"
      ]
    }
  ],
  "metadata": {
    "colab": {
      "include_colab_link": true,
      "provenance": []
    },
    "kernelspec": {
      "display_name": "ada",
      "language": "python",
      "name": "python3"
    },
    "language_info": {
      "codemirror_mode": {
        "name": "ipython",
        "version": 3
      },
      "file_extension": ".py",
      "mimetype": "text/x-python",
      "name": "python",
      "nbconvert_exporter": "python",
      "pygments_lexer": "ipython3",
      "version": "3.11.9"
    }
  },
  "nbformat": 4,
  "nbformat_minor": 0
}
