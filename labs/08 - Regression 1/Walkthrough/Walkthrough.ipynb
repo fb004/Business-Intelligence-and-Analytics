{
  "cells": [
    {
      "cell_type": "markdown",
      "metadata": {
        "colab_type": "text",
        "id": "view-in-github"
      },
      "source": [
        "<a href=\"https://colab.research.google.com/github/michalis0/Business-Intelligence-and-Analytics/blob/master/labs/08%20-%20Regression%201/Walkthrough/Walkthrough.ipynb\" target=\"_parent\"><img src=\"https://colab.research.google.com/assets/colab-badge.svg\" alt=\"Open In Colab\"/></a>"
      ]
    },
    {
      "cell_type": "markdown",
      "metadata": {
        "id": "IQtsQ4oEB0kB"
      },
      "source": [
        "<h1 align=\"center\"> Walkthrough - Regression 1</h1>\n",
        "\n",
        "<div>\n",
        "<td>\n",
        "<img src=\"https://upload.wikimedia.org/wikipedia/commons/thumb/2/2b/Logo_Universit%C3%A9_de_Lausanne.svg/2000px-Logo_Universit%C3%A9_de_Lausanne.svg.png\" style=\"padding-right:10px;width:240px;float:left\"/></td>\n",
        "<h2 style=\"white-space: nowrap\">Business Intelligence and Analytics</h2></td>\n",
        "<hr style=\"clear:both\">\n",
        "<p style=\"font-size:0.85em; margin:2px; text-align:justify\">\n",
        "\n",
        "</div>"
      ]
    },
    {
      "cell_type": "markdown",
      "metadata": {
        "id": "u461z_Wk-K-P"
      },
      "source": [
        "Regression is to relate input variables to the output variable, to either predict outputs for new inputs and/or to understand the effect of the input on the output.\n",
        "\n",
        "In prediction, we wish to predict the output for a new input vector.\n",
        "\n",
        "In interpretation, we wish to understand the effect of inputs on output.\n",
        "\n",
        "For both goals, we need to find a function that approximates the output “well enough” given some inputs:\n",
        "\n",
        "$$y_n =f(\\boldsymbol{x_{n}})$$\n",
        "\n",
        "In python, a useful library exists to apply regression and other Machine Learning and statisticals tools over the data. It is the so called **sklearn**.\n",
        "\n",
        "This walkthrough will teach you how to use this library in the context of regression."
      ]
    },
    {
      "cell_type": "code",
      "execution_count": 4,
      "metadata": {
        "id": "Oi8vCkNF_B3P"
      },
      "outputs": [],
      "source": [
        "import matplotlib.pylab as plt\n",
        "import pandas as pd\n",
        "import numpy as np\n",
        "from sklearn.linear_model import LinearRegression\n",
        "from sklearn.metrics import mean_absolute_error, r2_score, mean_squared_error\n",
        "from sklearn.preprocessing import MinMaxScaler\n",
        "pd.set_option('display.max_columns', None)\n",
        "# %matplotlib inline"
      ]
    },
    {
      "cell_type": "markdown",
      "metadata": {
        "id": "32vbaIBt_5KF"
      },
      "source": [
        "## 1. Load the dataset\n",
        "\n",
        "\n",
        "From this library we import the `LinearRegression` module and the different datasets used for our examples. In this section, we will discuss the basics of using the linear model with the weather dataset as example. Then you will be given a task and perform your own linear regression."
      ]
    },
    {
      "cell_type": "code",
      "execution_count": 5,
      "metadata": {
        "colab": {
          "base_uri": "https://localhost:8080/",
          "height": 868
        },
        "id": "FRP6bS5fABwY",
        "outputId": "72782e14-d802-4996-bc70-16afbbbcb3af"
      },
      "outputs": [
        {
          "data": {
            "text/html": [
              "<div>\n",
              "<style scoped>\n",
              "    .dataframe tbody tr th:only-of-type {\n",
              "        vertical-align: middle;\n",
              "    }\n",
              "\n",
              "    .dataframe tbody tr th {\n",
              "        vertical-align: top;\n",
              "    }\n",
              "\n",
              "    .dataframe thead th {\n",
              "        text-align: right;\n",
              "    }\n",
              "</style>\n",
              "<table border=\"1\" class=\"dataframe\">\n",
              "  <thead>\n",
              "    <tr style=\"text-align: right;\">\n",
              "      <th></th>\n",
              "      <th>Date</th>\n",
              "      <th>Location</th>\n",
              "      <th>MinTemp</th>\n",
              "      <th>MaxTemp</th>\n",
              "      <th>Rainfall</th>\n",
              "      <th>Evaporation</th>\n",
              "      <th>Sunshine</th>\n",
              "      <th>WindGustDir</th>\n",
              "      <th>WindGustSpeed</th>\n",
              "      <th>WindDir9am</th>\n",
              "      <th>WindDir3pm</th>\n",
              "      <th>WindSpeed9am</th>\n",
              "      <th>WindSpeed3pm</th>\n",
              "      <th>Humidity9am</th>\n",
              "      <th>Humidity3pm</th>\n",
              "      <th>Pressure9am</th>\n",
              "      <th>Pressure3pm</th>\n",
              "      <th>Cloud9am</th>\n",
              "      <th>Cloud3pm</th>\n",
              "      <th>Temp9am</th>\n",
              "      <th>Temp3pm</th>\n",
              "      <th>RainToday</th>\n",
              "      <th>RISK_MM</th>\n",
              "      <th>RainTomorrow</th>\n",
              "    </tr>\n",
              "  </thead>\n",
              "  <tbody>\n",
              "    <tr>\n",
              "      <th>0</th>\n",
              "      <td>2007-11-01</td>\n",
              "      <td>Canberra</td>\n",
              "      <td>8.0</td>\n",
              "      <td>24.3</td>\n",
              "      <td>0.0</td>\n",
              "      <td>3.4</td>\n",
              "      <td>6.3</td>\n",
              "      <td>NW</td>\n",
              "      <td>30.0</td>\n",
              "      <td>SW</td>\n",
              "      <td>NW</td>\n",
              "      <td>6.0</td>\n",
              "      <td>20</td>\n",
              "      <td>68</td>\n",
              "      <td>29</td>\n",
              "      <td>1019.7</td>\n",
              "      <td>1015.0</td>\n",
              "      <td>7</td>\n",
              "      <td>7</td>\n",
              "      <td>14.4</td>\n",
              "      <td>23.6</td>\n",
              "      <td>No</td>\n",
              "      <td>3.6</td>\n",
              "      <td>Yes</td>\n",
              "    </tr>\n",
              "    <tr>\n",
              "      <th>1</th>\n",
              "      <td>2007-11-02</td>\n",
              "      <td>Canberra</td>\n",
              "      <td>14.0</td>\n",
              "      <td>26.9</td>\n",
              "      <td>3.6</td>\n",
              "      <td>4.4</td>\n",
              "      <td>9.7</td>\n",
              "      <td>ENE</td>\n",
              "      <td>39.0</td>\n",
              "      <td>E</td>\n",
              "      <td>W</td>\n",
              "      <td>4.0</td>\n",
              "      <td>17</td>\n",
              "      <td>80</td>\n",
              "      <td>36</td>\n",
              "      <td>1012.4</td>\n",
              "      <td>1008.4</td>\n",
              "      <td>5</td>\n",
              "      <td>3</td>\n",
              "      <td>17.5</td>\n",
              "      <td>25.7</td>\n",
              "      <td>Yes</td>\n",
              "      <td>3.6</td>\n",
              "      <td>Yes</td>\n",
              "    </tr>\n",
              "    <tr>\n",
              "      <th>2</th>\n",
              "      <td>2007-11-03</td>\n",
              "      <td>Canberra</td>\n",
              "      <td>13.7</td>\n",
              "      <td>23.4</td>\n",
              "      <td>3.6</td>\n",
              "      <td>5.8</td>\n",
              "      <td>3.3</td>\n",
              "      <td>NW</td>\n",
              "      <td>85.0</td>\n",
              "      <td>N</td>\n",
              "      <td>NNE</td>\n",
              "      <td>6.0</td>\n",
              "      <td>6</td>\n",
              "      <td>82</td>\n",
              "      <td>69</td>\n",
              "      <td>1009.5</td>\n",
              "      <td>1007.2</td>\n",
              "      <td>8</td>\n",
              "      <td>7</td>\n",
              "      <td>15.4</td>\n",
              "      <td>20.2</td>\n",
              "      <td>Yes</td>\n",
              "      <td>39.8</td>\n",
              "      <td>Yes</td>\n",
              "    </tr>\n",
              "    <tr>\n",
              "      <th>3</th>\n",
              "      <td>2007-11-04</td>\n",
              "      <td>Canberra</td>\n",
              "      <td>13.3</td>\n",
              "      <td>15.5</td>\n",
              "      <td>39.8</td>\n",
              "      <td>7.2</td>\n",
              "      <td>9.1</td>\n",
              "      <td>NW</td>\n",
              "      <td>54.0</td>\n",
              "      <td>WNW</td>\n",
              "      <td>W</td>\n",
              "      <td>30.0</td>\n",
              "      <td>24</td>\n",
              "      <td>62</td>\n",
              "      <td>56</td>\n",
              "      <td>1005.5</td>\n",
              "      <td>1007.0</td>\n",
              "      <td>2</td>\n",
              "      <td>7</td>\n",
              "      <td>13.5</td>\n",
              "      <td>14.1</td>\n",
              "      <td>Yes</td>\n",
              "      <td>2.8</td>\n",
              "      <td>Yes</td>\n",
              "    </tr>\n",
              "    <tr>\n",
              "      <th>4</th>\n",
              "      <td>2007-11-05</td>\n",
              "      <td>Canberra</td>\n",
              "      <td>7.6</td>\n",
              "      <td>16.1</td>\n",
              "      <td>2.8</td>\n",
              "      <td>5.6</td>\n",
              "      <td>10.6</td>\n",
              "      <td>SSE</td>\n",
              "      <td>50.0</td>\n",
              "      <td>SSE</td>\n",
              "      <td>ESE</td>\n",
              "      <td>20.0</td>\n",
              "      <td>28</td>\n",
              "      <td>68</td>\n",
              "      <td>49</td>\n",
              "      <td>1018.3</td>\n",
              "      <td>1018.5</td>\n",
              "      <td>7</td>\n",
              "      <td>7</td>\n",
              "      <td>11.1</td>\n",
              "      <td>15.4</td>\n",
              "      <td>Yes</td>\n",
              "      <td>0.0</td>\n",
              "      <td>No</td>\n",
              "    </tr>\n",
              "  </tbody>\n",
              "</table>\n",
              "</div>"
            ],
            "text/plain": [
              "         Date  Location  MinTemp  MaxTemp  Rainfall  Evaporation  Sunshine  \\\n",
              "0  2007-11-01  Canberra      8.0     24.3       0.0          3.4       6.3   \n",
              "1  2007-11-02  Canberra     14.0     26.9       3.6          4.4       9.7   \n",
              "2  2007-11-03  Canberra     13.7     23.4       3.6          5.8       3.3   \n",
              "3  2007-11-04  Canberra     13.3     15.5      39.8          7.2       9.1   \n",
              "4  2007-11-05  Canberra      7.6     16.1       2.8          5.6      10.6   \n",
              "\n",
              "  WindGustDir  WindGustSpeed WindDir9am WindDir3pm  WindSpeed9am  \\\n",
              "0          NW           30.0         SW         NW           6.0   \n",
              "1         ENE           39.0          E          W           4.0   \n",
              "2          NW           85.0          N        NNE           6.0   \n",
              "3          NW           54.0        WNW          W          30.0   \n",
              "4         SSE           50.0        SSE        ESE          20.0   \n",
              "\n",
              "   WindSpeed3pm  Humidity9am  Humidity3pm  Pressure9am  Pressure3pm  Cloud9am  \\\n",
              "0            20           68           29       1019.7       1015.0         7   \n",
              "1            17           80           36       1012.4       1008.4         5   \n",
              "2             6           82           69       1009.5       1007.2         8   \n",
              "3            24           62           56       1005.5       1007.0         2   \n",
              "4            28           68           49       1018.3       1018.5         7   \n",
              "\n",
              "   Cloud3pm  Temp9am  Temp3pm RainToday  RISK_MM RainTomorrow  \n",
              "0         7     14.4     23.6        No      3.6          Yes  \n",
              "1         3     17.5     25.7       Yes      3.6          Yes  \n",
              "2         7     15.4     20.2       Yes     39.8          Yes  \n",
              "3         7     13.5     14.1       Yes      2.8          Yes  \n",
              "4         7     11.1     15.4       Yes      0.0           No  "
            ]
          },
          "metadata": {},
          "output_type": "display_data"
        },
        {
          "name": "stdout",
          "output_type": "stream",
          "text": [
            "Date              object\n",
            "Location          object\n",
            "MinTemp          float64\n",
            "MaxTemp          float64\n",
            "Rainfall         float64\n",
            "Evaporation      float64\n",
            "Sunshine         float64\n",
            "WindGustDir       object\n",
            "WindGustSpeed    float64\n",
            "WindDir9am        object\n",
            "WindDir3pm        object\n",
            "WindSpeed9am     float64\n",
            "WindSpeed3pm       int64\n",
            "Humidity9am        int64\n",
            "Humidity3pm        int64\n",
            "Pressure9am      float64\n",
            "Pressure3pm      float64\n",
            "Cloud9am           int64\n",
            "Cloud3pm           int64\n",
            "Temp9am          float64\n",
            "Temp3pm          float64\n",
            "RainToday         object\n",
            "RISK_MM          float64\n",
            "RainTomorrow      object\n",
            "dtype: object\n",
            "Data matrix shape:  (328, 24)\n",
            "Columns names:  Index(['Date', 'Location', 'MinTemp', 'MaxTemp', 'Rainfall', 'Evaporation',\n",
            "       'Sunshine', 'WindGustDir', 'WindGustSpeed', 'WindDir9am', 'WindDir3pm',\n",
            "       'WindSpeed9am', 'WindSpeed3pm', 'Humidity9am', 'Humidity3pm',\n",
            "       'Pressure9am', 'Pressure3pm', 'Cloud9am', 'Cloud3pm', 'Temp9am',\n",
            "       'Temp3pm', 'RainToday', 'RISK_MM', 'RainTomorrow'],\n",
            "      dtype='object')\n"
          ]
        }
      ],
      "source": [
        "# Load the dataset\n",
        "url = \"https://media.githubusercontent.com/media/michalis0/Business-Intelligence-and-Analytics/master/data/weather.csv\"\n",
        "weather = pd.read_csv(url).drop_duplicates().dropna()\n",
        "\n",
        "# Display a sample of the data\n",
        "display(weather.head())\n",
        "\n",
        "# Print the data types\n",
        "print(weather.dtypes)\n",
        "print(\"Data matrix shape: \", weather.shape)\n",
        "\n",
        "# Display the columns names\n",
        "print(\"Columns names: \", weather.columns)"
      ]
    },
    {
      "cell_type": "code",
      "execution_count": 6,
      "metadata": {
        "colab": {
          "base_uri": "https://localhost:8080/",
          "height": 914
        },
        "id": "SCCEbriGAmSX",
        "outputId": "61fd3766-f18e-4d69-f1d8-0db0e131a1f1"
      },
      "outputs": [
        {
          "data": {
            "text/html": [
              "<div>\n",
              "<style scoped>\n",
              "    .dataframe tbody tr th:only-of-type {\n",
              "        vertical-align: middle;\n",
              "    }\n",
              "\n",
              "    .dataframe tbody tr th {\n",
              "        vertical-align: top;\n",
              "    }\n",
              "\n",
              "    .dataframe thead th {\n",
              "        text-align: right;\n",
              "    }\n",
              "</style>\n",
              "<table border=\"1\" class=\"dataframe\">\n",
              "  <thead>\n",
              "    <tr style=\"text-align: right;\">\n",
              "      <th></th>\n",
              "      <th>MinTemp</th>\n",
              "      <th>MaxTemp</th>\n",
              "      <th>Rainfall</th>\n",
              "      <th>Evaporation</th>\n",
              "      <th>Sunshine</th>\n",
              "      <th>WindGustSpeed</th>\n",
              "      <th>WindSpeed9am</th>\n",
              "      <th>WindSpeed3pm</th>\n",
              "      <th>Humidity9am</th>\n",
              "      <th>Humidity3pm</th>\n",
              "      <th>Pressure9am</th>\n",
              "      <th>Pressure3pm</th>\n",
              "      <th>Cloud9am</th>\n",
              "      <th>Cloud3pm</th>\n",
              "      <th>Temp9am</th>\n",
              "      <th>Temp3pm</th>\n",
              "      <th>RISK_MM</th>\n",
              "    </tr>\n",
              "  </thead>\n",
              "  <tbody>\n",
              "    <tr>\n",
              "      <th>MinTemp</th>\n",
              "      <td>1.000000</td>\n",
              "      <td>0.745911</td>\n",
              "      <td>0.197339</td>\n",
              "      <td>0.634720</td>\n",
              "      <td>0.007730</td>\n",
              "      <td>0.190596</td>\n",
              "      <td>0.058319</td>\n",
              "      <td>-0.106321</td>\n",
              "      <td>-0.160781</td>\n",
              "      <td>-0.013897</td>\n",
              "      <td>-0.502352</td>\n",
              "      <td>-0.503255</td>\n",
              "      <td>0.211640</td>\n",
              "      <td>0.125914</td>\n",
              "      <td>0.910805</td>\n",
              "      <td>0.716051</td>\n",
              "      <td>0.251519</td>\n",
              "    </tr>\n",
              "    <tr>\n",
              "      <th>MaxTemp</th>\n",
              "      <td>0.745911</td>\n",
              "      <td>1.000000</td>\n",
              "      <td>-0.077263</td>\n",
              "      <td>0.673162</td>\n",
              "      <td>0.444863</td>\n",
              "      <td>0.070911</td>\n",
              "      <td>-0.296485</td>\n",
              "      <td>-0.219886</td>\n",
              "      <td>-0.325106</td>\n",
              "      <td>-0.520412</td>\n",
              "      <td>-0.268054</td>\n",
              "      <td>-0.367040</td>\n",
              "      <td>-0.187416</td>\n",
              "      <td>-0.144976</td>\n",
              "      <td>0.869609</td>\n",
              "      <td>0.988925</td>\n",
              "      <td>0.058638</td>\n",
              "    </tr>\n",
              "    <tr>\n",
              "      <th>Rainfall</th>\n",
              "      <td>0.197339</td>\n",
              "      <td>-0.077263</td>\n",
              "      <td>1.000000</td>\n",
              "      <td>-0.011767</td>\n",
              "      <td>-0.158062</td>\n",
              "      <td>0.099442</td>\n",
              "      <td>0.238705</td>\n",
              "      <td>0.058151</td>\n",
              "      <td>0.146321</td>\n",
              "      <td>0.287244</td>\n",
              "      <td>-0.348731</td>\n",
              "      <td>-0.263710</td>\n",
              "      <td>0.172610</td>\n",
              "      <td>0.134894</td>\n",
              "      <td>0.071893</td>\n",
              "      <td>-0.089740</td>\n",
              "      <td>0.101909</td>\n",
              "    </tr>\n",
              "    <tr>\n",
              "      <th>Evaporation</th>\n",
              "      <td>0.634720</td>\n",
              "      <td>0.673162</td>\n",
              "      <td>-0.011767</td>\n",
              "      <td>1.000000</td>\n",
              "      <td>0.310124</td>\n",
              "      <td>0.258050</td>\n",
              "      <td>0.006259</td>\n",
              "      <td>0.019594</td>\n",
              "      <td>-0.492218</td>\n",
              "      <td>-0.374532</td>\n",
              "      <td>-0.363936</td>\n",
              "      <td>-0.380702</td>\n",
              "      <td>-0.114261</td>\n",
              "      <td>-0.111387</td>\n",
              "      <td>0.688749</td>\n",
              "      <td>0.655896</td>\n",
              "      <td>0.099727</td>\n",
              "    </tr>\n",
              "    <tr>\n",
              "      <th>Sunshine</th>\n",
              "      <td>0.007730</td>\n",
              "      <td>0.444863</td>\n",
              "      <td>-0.158062</td>\n",
              "      <td>0.310124</td>\n",
              "      <td>1.000000</td>\n",
              "      <td>0.084768</td>\n",
              "      <td>-0.103841</td>\n",
              "      <td>0.046140</td>\n",
              "      <td>-0.501596</td>\n",
              "      <td>-0.760267</td>\n",
              "      <td>0.025630</td>\n",
              "      <td>-0.024120</td>\n",
              "      <td>-0.697603</td>\n",
              "      <td>-0.657198</td>\n",
              "      <td>0.199659</td>\n",
              "      <td>0.463721</td>\n",
              "      <td>-0.357231</td>\n",
              "    </tr>\n",
              "    <tr>\n",
              "      <th>WindGustSpeed</th>\n",
              "      <td>0.190596</td>\n",
              "      <td>0.070911</td>\n",
              "      <td>0.099442</td>\n",
              "      <td>0.258050</td>\n",
              "      <td>0.084768</td>\n",
              "      <td>1.000000</td>\n",
              "      <td>0.540717</td>\n",
              "      <td>0.687071</td>\n",
              "      <td>-0.338276</td>\n",
              "      <td>-0.043254</td>\n",
              "      <td>-0.524737</td>\n",
              "      <td>-0.510826</td>\n",
              "      <td>-0.018216</td>\n",
              "      <td>0.042849</td>\n",
              "      <td>0.229164</td>\n",
              "      <td>0.036039</td>\n",
              "      <td>0.269151</td>\n",
              "    </tr>\n",
              "    <tr>\n",
              "      <th>WindSpeed9am</th>\n",
              "      <td>0.058319</td>\n",
              "      <td>-0.296485</td>\n",
              "      <td>0.238705</td>\n",
              "      <td>0.006259</td>\n",
              "      <td>-0.103841</td>\n",
              "      <td>0.540717</td>\n",
              "      <td>1.000000</td>\n",
              "      <td>0.495946</td>\n",
              "      <td>-0.222337</td>\n",
              "      <td>0.202122</td>\n",
              "      <td>-0.344290</td>\n",
              "      <td>-0.233682</td>\n",
              "      <td>0.117625</td>\n",
              "      <td>-0.012990</td>\n",
              "      <td>-0.017843</td>\n",
              "      <td>-0.315906</td>\n",
              "      <td>0.053529</td>\n",
              "    </tr>\n",
              "    <tr>\n",
              "      <th>WindSpeed3pm</th>\n",
              "      <td>-0.106321</td>\n",
              "      <td>-0.219886</td>\n",
              "      <td>0.058151</td>\n",
              "      <td>0.019594</td>\n",
              "      <td>0.046140</td>\n",
              "      <td>0.687071</td>\n",
              "      <td>0.495946</td>\n",
              "      <td>1.000000</td>\n",
              "      <td>-0.260960</td>\n",
              "      <td>0.015860</td>\n",
              "      <td>-0.344889</td>\n",
              "      <td>-0.318008</td>\n",
              "      <td>-0.033882</td>\n",
              "      <td>0.011625</td>\n",
              "      <td>-0.057454</td>\n",
              "      <td>-0.239119</td>\n",
              "      <td>0.012931</td>\n",
              "    </tr>\n",
              "    <tr>\n",
              "      <th>Humidity9am</th>\n",
              "      <td>-0.160781</td>\n",
              "      <td>-0.325106</td>\n",
              "      <td>0.146321</td>\n",
              "      <td>-0.492218</td>\n",
              "      <td>-0.501596</td>\n",
              "      <td>-0.338276</td>\n",
              "      <td>-0.222337</td>\n",
              "      <td>-0.260960</td>\n",
              "      <td>1.000000</td>\n",
              "      <td>0.526695</td>\n",
              "      <td>0.102250</td>\n",
              "      <td>0.109549</td>\n",
              "      <td>0.417496</td>\n",
              "      <td>0.289618</td>\n",
              "      <td>-0.395647</td>\n",
              "      <td>-0.321299</td>\n",
              "      <td>0.157148</td>\n",
              "    </tr>\n",
              "    <tr>\n",
              "      <th>Humidity3pm</th>\n",
              "      <td>-0.013897</td>\n",
              "      <td>-0.520412</td>\n",
              "      <td>0.287244</td>\n",
              "      <td>-0.374532</td>\n",
              "      <td>-0.760267</td>\n",
              "      <td>-0.043254</td>\n",
              "      <td>0.202122</td>\n",
              "      <td>0.015860</td>\n",
              "      <td>0.526695</td>\n",
              "      <td>1.000000</td>\n",
              "      <td>-0.136289</td>\n",
              "      <td>-0.047607</td>\n",
              "      <td>0.565174</td>\n",
              "      <td>0.530715</td>\n",
              "      <td>-0.230820</td>\n",
              "      <td>-0.569348</td>\n",
              "      <td>0.323494</td>\n",
              "    </tr>\n",
              "    <tr>\n",
              "      <th>Pressure9am</th>\n",
              "      <td>-0.502352</td>\n",
              "      <td>-0.268054</td>\n",
              "      <td>-0.348731</td>\n",
              "      <td>-0.363936</td>\n",
              "      <td>0.025630</td>\n",
              "      <td>-0.524737</td>\n",
              "      <td>-0.344290</td>\n",
              "      <td>-0.344889</td>\n",
              "      <td>0.102250</td>\n",
              "      <td>-0.136289</td>\n",
              "      <td>1.000000</td>\n",
              "      <td>0.966744</td>\n",
              "      <td>-0.168316</td>\n",
              "      <td>-0.146196</td>\n",
              "      <td>-0.453669</td>\n",
              "      <td>-0.229817</td>\n",
              "      <td>-0.314815</td>\n",
              "    </tr>\n",
              "    <tr>\n",
              "      <th>Pressure3pm</th>\n",
              "      <td>-0.503255</td>\n",
              "      <td>-0.367040</td>\n",
              "      <td>-0.263710</td>\n",
              "      <td>-0.380702</td>\n",
              "      <td>-0.024120</td>\n",
              "      <td>-0.510826</td>\n",
              "      <td>-0.233682</td>\n",
              "      <td>-0.318008</td>\n",
              "      <td>0.109549</td>\n",
              "      <td>-0.047607</td>\n",
              "      <td>0.966744</td>\n",
              "      <td>1.000000</td>\n",
              "      <td>-0.132247</td>\n",
              "      <td>-0.146235</td>\n",
              "      <td>-0.496853</td>\n",
              "      <td>-0.332099</td>\n",
              "      <td>-0.336461</td>\n",
              "    </tr>\n",
              "    <tr>\n",
              "      <th>Cloud9am</th>\n",
              "      <td>0.211640</td>\n",
              "      <td>-0.187416</td>\n",
              "      <td>0.172610</td>\n",
              "      <td>-0.114261</td>\n",
              "      <td>-0.697603</td>\n",
              "      <td>-0.018216</td>\n",
              "      <td>0.117625</td>\n",
              "      <td>-0.033882</td>\n",
              "      <td>0.417496</td>\n",
              "      <td>0.565174</td>\n",
              "      <td>-0.168316</td>\n",
              "      <td>-0.132247</td>\n",
              "      <td>1.000000</td>\n",
              "      <td>0.528296</td>\n",
              "      <td>0.010012</td>\n",
              "      <td>-0.213509</td>\n",
              "      <td>0.268979</td>\n",
              "    </tr>\n",
              "    <tr>\n",
              "      <th>Cloud3pm</th>\n",
              "      <td>0.125914</td>\n",
              "      <td>-0.144976</td>\n",
              "      <td>0.134894</td>\n",
              "      <td>-0.111387</td>\n",
              "      <td>-0.657198</td>\n",
              "      <td>0.042849</td>\n",
              "      <td>-0.012990</td>\n",
              "      <td>0.011625</td>\n",
              "      <td>0.289618</td>\n",
              "      <td>0.530715</td>\n",
              "      <td>-0.146196</td>\n",
              "      <td>-0.146235</td>\n",
              "      <td>0.528296</td>\n",
              "      <td>1.000000</td>\n",
              "      <td>0.044542</td>\n",
              "      <td>-0.181667</td>\n",
              "      <td>0.311882</td>\n",
              "    </tr>\n",
              "    <tr>\n",
              "      <th>Temp9am</th>\n",
              "      <td>0.910805</td>\n",
              "      <td>0.869609</td>\n",
              "      <td>0.071893</td>\n",
              "      <td>0.688749</td>\n",
              "      <td>0.199659</td>\n",
              "      <td>0.229164</td>\n",
              "      <td>-0.017843</td>\n",
              "      <td>-0.057454</td>\n",
              "      <td>-0.395647</td>\n",
              "      <td>-0.230820</td>\n",
              "      <td>-0.453669</td>\n",
              "      <td>-0.496853</td>\n",
              "      <td>0.010012</td>\n",
              "      <td>0.044542</td>\n",
              "      <td>1.000000</td>\n",
              "      <td>0.843509</td>\n",
              "      <td>0.201508</td>\n",
              "    </tr>\n",
              "    <tr>\n",
              "      <th>Temp3pm</th>\n",
              "      <td>0.716051</td>\n",
              "      <td>0.988925</td>\n",
              "      <td>-0.089740</td>\n",
              "      <td>0.655896</td>\n",
              "      <td>0.463721</td>\n",
              "      <td>0.036039</td>\n",
              "      <td>-0.315906</td>\n",
              "      <td>-0.239119</td>\n",
              "      <td>-0.321299</td>\n",
              "      <td>-0.569348</td>\n",
              "      <td>-0.229817</td>\n",
              "      <td>-0.332099</td>\n",
              "      <td>-0.213509</td>\n",
              "      <td>-0.181667</td>\n",
              "      <td>0.843509</td>\n",
              "      <td>1.000000</td>\n",
              "      <td>0.028888</td>\n",
              "    </tr>\n",
              "    <tr>\n",
              "      <th>RISK_MM</th>\n",
              "      <td>0.251519</td>\n",
              "      <td>0.058638</td>\n",
              "      <td>0.101909</td>\n",
              "      <td>0.099727</td>\n",
              "      <td>-0.357231</td>\n",
              "      <td>0.269151</td>\n",
              "      <td>0.053529</td>\n",
              "      <td>0.012931</td>\n",
              "      <td>0.157148</td>\n",
              "      <td>0.323494</td>\n",
              "      <td>-0.314815</td>\n",
              "      <td>-0.336461</td>\n",
              "      <td>0.268979</td>\n",
              "      <td>0.311882</td>\n",
              "      <td>0.201508</td>\n",
              "      <td>0.028888</td>\n",
              "      <td>1.000000</td>\n",
              "    </tr>\n",
              "  </tbody>\n",
              "</table>\n",
              "</div>"
            ],
            "text/plain": [
              "                MinTemp   MaxTemp  Rainfall  Evaporation  Sunshine  \\\n",
              "MinTemp        1.000000  0.745911  0.197339     0.634720  0.007730   \n",
              "MaxTemp        0.745911  1.000000 -0.077263     0.673162  0.444863   \n",
              "Rainfall       0.197339 -0.077263  1.000000    -0.011767 -0.158062   \n",
              "Evaporation    0.634720  0.673162 -0.011767     1.000000  0.310124   \n",
              "Sunshine       0.007730  0.444863 -0.158062     0.310124  1.000000   \n",
              "WindGustSpeed  0.190596  0.070911  0.099442     0.258050  0.084768   \n",
              "WindSpeed9am   0.058319 -0.296485  0.238705     0.006259 -0.103841   \n",
              "WindSpeed3pm  -0.106321 -0.219886  0.058151     0.019594  0.046140   \n",
              "Humidity9am   -0.160781 -0.325106  0.146321    -0.492218 -0.501596   \n",
              "Humidity3pm   -0.013897 -0.520412  0.287244    -0.374532 -0.760267   \n",
              "Pressure9am   -0.502352 -0.268054 -0.348731    -0.363936  0.025630   \n",
              "Pressure3pm   -0.503255 -0.367040 -0.263710    -0.380702 -0.024120   \n",
              "Cloud9am       0.211640 -0.187416  0.172610    -0.114261 -0.697603   \n",
              "Cloud3pm       0.125914 -0.144976  0.134894    -0.111387 -0.657198   \n",
              "Temp9am        0.910805  0.869609  0.071893     0.688749  0.199659   \n",
              "Temp3pm        0.716051  0.988925 -0.089740     0.655896  0.463721   \n",
              "RISK_MM        0.251519  0.058638  0.101909     0.099727 -0.357231   \n",
              "\n",
              "               WindGustSpeed  WindSpeed9am  WindSpeed3pm  Humidity9am  \\\n",
              "MinTemp             0.190596      0.058319     -0.106321    -0.160781   \n",
              "MaxTemp             0.070911     -0.296485     -0.219886    -0.325106   \n",
              "Rainfall            0.099442      0.238705      0.058151     0.146321   \n",
              "Evaporation         0.258050      0.006259      0.019594    -0.492218   \n",
              "Sunshine            0.084768     -0.103841      0.046140    -0.501596   \n",
              "WindGustSpeed       1.000000      0.540717      0.687071    -0.338276   \n",
              "WindSpeed9am        0.540717      1.000000      0.495946    -0.222337   \n",
              "WindSpeed3pm        0.687071      0.495946      1.000000    -0.260960   \n",
              "Humidity9am        -0.338276     -0.222337     -0.260960     1.000000   \n",
              "Humidity3pm        -0.043254      0.202122      0.015860     0.526695   \n",
              "Pressure9am        -0.524737     -0.344290     -0.344889     0.102250   \n",
              "Pressure3pm        -0.510826     -0.233682     -0.318008     0.109549   \n",
              "Cloud9am           -0.018216      0.117625     -0.033882     0.417496   \n",
              "Cloud3pm            0.042849     -0.012990      0.011625     0.289618   \n",
              "Temp9am             0.229164     -0.017843     -0.057454    -0.395647   \n",
              "Temp3pm             0.036039     -0.315906     -0.239119    -0.321299   \n",
              "RISK_MM             0.269151      0.053529      0.012931     0.157148   \n",
              "\n",
              "               Humidity3pm  Pressure9am  Pressure3pm  Cloud9am  Cloud3pm  \\\n",
              "MinTemp          -0.013897    -0.502352    -0.503255  0.211640  0.125914   \n",
              "MaxTemp          -0.520412    -0.268054    -0.367040 -0.187416 -0.144976   \n",
              "Rainfall          0.287244    -0.348731    -0.263710  0.172610  0.134894   \n",
              "Evaporation      -0.374532    -0.363936    -0.380702 -0.114261 -0.111387   \n",
              "Sunshine         -0.760267     0.025630    -0.024120 -0.697603 -0.657198   \n",
              "WindGustSpeed    -0.043254    -0.524737    -0.510826 -0.018216  0.042849   \n",
              "WindSpeed9am      0.202122    -0.344290    -0.233682  0.117625 -0.012990   \n",
              "WindSpeed3pm      0.015860    -0.344889    -0.318008 -0.033882  0.011625   \n",
              "Humidity9am       0.526695     0.102250     0.109549  0.417496  0.289618   \n",
              "Humidity3pm       1.000000    -0.136289    -0.047607  0.565174  0.530715   \n",
              "Pressure9am      -0.136289     1.000000     0.966744 -0.168316 -0.146196   \n",
              "Pressure3pm      -0.047607     0.966744     1.000000 -0.132247 -0.146235   \n",
              "Cloud9am          0.565174    -0.168316    -0.132247  1.000000  0.528296   \n",
              "Cloud3pm          0.530715    -0.146196    -0.146235  0.528296  1.000000   \n",
              "Temp9am          -0.230820    -0.453669    -0.496853  0.010012  0.044542   \n",
              "Temp3pm          -0.569348    -0.229817    -0.332099 -0.213509 -0.181667   \n",
              "RISK_MM           0.323494    -0.314815    -0.336461  0.268979  0.311882   \n",
              "\n",
              "                Temp9am   Temp3pm   RISK_MM  \n",
              "MinTemp        0.910805  0.716051  0.251519  \n",
              "MaxTemp        0.869609  0.988925  0.058638  \n",
              "Rainfall       0.071893 -0.089740  0.101909  \n",
              "Evaporation    0.688749  0.655896  0.099727  \n",
              "Sunshine       0.199659  0.463721 -0.357231  \n",
              "WindGustSpeed  0.229164  0.036039  0.269151  \n",
              "WindSpeed9am  -0.017843 -0.315906  0.053529  \n",
              "WindSpeed3pm  -0.057454 -0.239119  0.012931  \n",
              "Humidity9am   -0.395647 -0.321299  0.157148  \n",
              "Humidity3pm   -0.230820 -0.569348  0.323494  \n",
              "Pressure9am   -0.453669 -0.229817 -0.314815  \n",
              "Pressure3pm   -0.496853 -0.332099 -0.336461  \n",
              "Cloud9am       0.010012 -0.213509  0.268979  \n",
              "Cloud3pm       0.044542 -0.181667  0.311882  \n",
              "Temp9am        1.000000  0.843509  0.201508  \n",
              "Temp3pm        0.843509  1.000000  0.028888  \n",
              "RISK_MM        0.201508  0.028888  1.000000  "
            ]
          },
          "metadata": {},
          "output_type": "display_data"
        },
        {
          "data": {
            "text/plain": [
              "MinTemp          0.716051\n",
              "MaxTemp          0.988925\n",
              "Rainfall        -0.089740\n",
              "Evaporation      0.655896\n",
              "Sunshine         0.463721\n",
              "WindGustSpeed    0.036039\n",
              "WindSpeed9am    -0.315906\n",
              "WindSpeed3pm    -0.239119\n",
              "Humidity9am     -0.321299\n",
              "Humidity3pm     -0.569348\n",
              "Pressure9am     -0.229817\n",
              "Pressure3pm     -0.332099\n",
              "Cloud9am        -0.213509\n",
              "Cloud3pm        -0.181667\n",
              "Temp9am          0.843509\n",
              "Temp3pm          1.000000\n",
              "RISK_MM          0.028888\n",
              "dtype: float64"
            ]
          },
          "metadata": {},
          "output_type": "display_data"
        }
      ],
      "source": [
        "# Display correlation of the features for numeric_only features\n",
        "display(weather.corr(numeric_only=True))\n",
        "display(weather.corrwith(weather['Temp3pm'], numeric_only=True))"
      ]
    },
    {
      "cell_type": "markdown",
      "metadata": {
        "id": "CdrFokUIEDci"
      },
      "source": [
        "**Note:** The purpose here, is to predict the temperature from other features (like humidity or pression). It is called multivariate linear regression when we use several features as input, univariate otherwise. We will only work with values concerning **3pm** for simplicity.\n",
        "\n",
        "A LinearRegression has this form for one feature: $$ y_i = w_0 + w_1 x_i + \\epsilon_i$$\n",
        "\n",
        "where  \n",
        "- $y_i$  is the target variable (dependent variable) for observation  i .\n",
        "- $x_i$  is the feature (independent variable)\n",
        "- $w_0$  (intercept) and  w_1  (coefficient) are the model parameters to be estimated (or the weights of the variables)\n",
        "- $\\epsilon_i$  represents the error term, accounting for noise or variability not captured by the model.\n",
        "\n",
        "The LinearRegression will compute the best values of $w_0$ and $w_1$.\n",
        "\n",
        "In general, for multiple features, we express the model in matrix form as:\n",
        "$$\\mathbf{y} = X\\mathbf{w} + \\mathbf{\\epsilon}$$\n",
        "\n",
        "where:\n",
        "- $X$  is the feature matrix,\n",
        "- $\\mathbf{w}$  is the vector of coefficients, and\n",
        "- $\\mathbf{y}$  is the vector of target values.\n",
        "\n",
        "For now we will focus on a simple linear regression with **one feature variable**. We would like to know if we can use the humity to predict the temperature. Let's separate the feature input from the target output."
      ]
    },
    {
      "cell_type": "code",
      "execution_count": 7,
      "metadata": {
        "id": "DvHMm6n5Uhef"
      },
      "outputs": [],
      "source": [
        "X = weather[['Humidity3pm']]\n",
        "y = weather[['Temp3pm']]"
      ]
    },
    {
      "cell_type": "markdown",
      "metadata": {
        "id": "KbFaMRiOF-Kr"
      },
      "source": [
        "## 2. Splitting the dataset\n",
        "Sklearn provides a useful module to split a dataset into training and testing sets. The **training set** is used to learn the optimal weight values by fitting the model to input-output pairs, while the **test set** is used to evaluate the model’s performance on unseen data.\n",
        "\n",
        "Since the model is trained on specific data points, testing it on a separate dataset ensures it generalizes well to new inputs.\n",
        "\n",
        "In this case, the test set size is 20% of the original dataset."
      ]
    },
    {
      "cell_type": "code",
      "execution_count": 8,
      "metadata": {
        "id": "pa-wOqD6Cei3"
      },
      "outputs": [],
      "source": [
        "# Split the data into training/testing sets\n",
        "# Split the targets into training/testing sets\n",
        "# Fix the random seed to zero to ensure reproducibility\n",
        "from sklearn.model_selection import train_test_split\n",
        "X_train, X_test, y_train, y_test = train_test_split(X, y, test_size=0.2, random_state=0, shuffle=True)"
      ]
    },
    {
      "cell_type": "markdown",
      "metadata": {
        "id": "RUoAlVFvLK8a"
      },
      "source": [
        "**Note:** Generally you should normalize the data right after splitting the datset. The normalization is important here to reduce the variance of our model and get better results. We skip this step for now.\n",
        "\n",
        "The sklearn code uses `MinMaxScaler` module to normalize the data. This estimator scales and translates each feature individually such that it is in the given range on the training set, e.g. between zero and one.  \n",
        "\n",
        "We always want to fit the scaler on the training data and then use the fitted scaler to transform the test data. This is an example of how to use it:\n",
        "\n",
        "```python\n",
        "from sklearn.preprocessing import MinMaxScaler\n",
        "# Define the scaler\n",
        "scaler = MinMaxScaler()\n",
        "\n",
        "# Fit the scaler\n",
        "scaler.fit(X_train)\n",
        "# Transform the train and the test set\n",
        "X_train = scaler.transform(X_train)\n",
        "X_test = scaler.transform(X_test)\n",
        "\n",
        "# These two steps can be merged into one (only for the train set)\n",
        "X_train = scaler.fit_transform(X_train)\n",
        "X_test = scaler.transform(X_test)\n",
        "```"
      ]
    },
    {
      "cell_type": "markdown",
      "metadata": {
        "id": "hFz94n5GIP_T"
      },
      "source": [
        "## 3. Create/Fit the model\n",
        "\n",
        "To predict the target variable we will use a simple linear regression. We can import the module following this path (already done at the beginning of the file):\n",
        "\n",
        "```python\n",
        "from sklearn.linear_model import LinearRegression\n",
        "```"
      ]
    },
    {
      "cell_type": "markdown",
      "metadata": {
        "id": "qygxTo56HkeH"
      },
      "source": [
        "**Note:**\n",
        "- We create a new LinearRegression model from sklearn\n",
        "- The `fit()` function will fill the linear model from the X_train (feature) and the y_train data (target)\n",
        "- The ``score()``function returns the coefficient of determination $R^2$ of the prediction. The best possible score is 1.0 and it can be negative (because the model can be arbitrarily worse). A constant model that always predicts the expected value of y, disregarding the input features, would get a $R^2$ score of 0.0.\n",
        "\n",
        "After fitting the model, we can easily retrieve the values of the different coefficients (the intercept, and the weight of each feature)."
      ]
    },
    {
      "cell_type": "code",
      "execution_count": 9,
      "metadata": {
        "colab": {
          "base_uri": "https://localhost:8080/"
        },
        "id": "ebSpuUsrG-RF",
        "outputId": "34137657-eeec-4949-bace-9aaa187d7bcf"
      },
      "outputs": [
        {
          "name": "stdout",
          "output_type": "stream",
          "text": [
            "R^2 Score of the model:  0.372\n"
          ]
        }
      ],
      "source": [
        "# There are three steps to model something with sklearn\n",
        "\n",
        "# 1. Set up the model\n",
        "model = LinearRegression(fit_intercept= True)\n",
        "\n",
        "# 2. Use fit\n",
        "model.fit(X_train, y_train)\n",
        "\n",
        "# 3. Check the score/accuracy\n",
        "print(\"R^2 Score of the model: \", round(model.score(X_test, y_test), 3))\n"
      ]
    },
    {
      "cell_type": "code",
      "execution_count": 10,
      "metadata": {
        "colab": {
          "base_uri": "https://localhost:8080/"
        },
        "id": "WAMS6qKIHC35",
        "outputId": "b627469d-9405-4b89-bccb-4bd6b24ac516"
      },
      "outputs": [
        {
          "name": "stdout",
          "output_type": "stream",
          "text": [
            "Intercept:  29.54300305976949\n",
            "Features coefficients (weigths):  -0.22661055784458142\n"
          ]
        }
      ],
      "source": [
        "print(\"Intercept: \", model.intercept_[0]) # w0\n",
        "print(\"Features coefficients (weigths): \", model.coef_.flatten()[0]) # Get the coefficients, w1"
      ]
    },
    {
      "cell_type": "markdown",
      "metadata": {
        "id": "w3_SgE4nsCIp"
      },
      "source": [
        "**Note:** Considering this linear equation: $ y_i = w_0 + w_1 x_i + \\epsilon_i$\n",
        "\n",
        "The intercept corresponds to the value of $w_0$. There is only one coefficient,  $w_1$ linked to the humidity feature. Since we have only one value for intercept and coefficients represented as arrays, we apply `flatten()` and `[0]`."
      ]
    },
    {
      "cell_type": "markdown",
      "metadata": {
        "id": "dkdOvMjoI6mQ"
      },
      "source": [
        "## 4. Prediction/Evaluation\n",
        "\n",
        "Once the model is trained, we can use the ``predict()`` function to predict the values of the test set using `X_test`. This prediction can be compared to the truth value i.e `y_test`.\n",
        "\n",
        "Here is an example for one value prediction. Our model takes a matrix as inputs (X matrix), so even if we want to predict for a single instance, we should first convert it to a matrix."
      ]
    },
    {
      "cell_type": "code",
      "execution_count": 11,
      "metadata": {
        "colab": {
          "base_uri": "https://localhost:8080/"
        },
        "id": "wJm-HPRYtGF6",
        "outputId": "984192cd-7472-434b-eb59-239f4117b1b8"
      },
      "outputs": [
        {
          "name": "stdout",
          "output_type": "stream",
          "text": [
            "Particular value of humidity:  [28]\n",
            "Prediction/Truth for humidity 28:  [[23.19790744]] [27.]\n"
          ]
        },
        {
          "name": "stderr",
          "output_type": "stream",
          "text": [
            "/Users/iris/miniconda3/envs/ada/lib/python3.11/site-packages/sklearn/base.py:493: UserWarning: X does not have valid feature names, but LinearRegression was fitted with feature names\n",
            "  warnings.warn(\n"
          ]
        }
      ],
      "source": [
        "print(\"Particular value of humidity: \", X_test.iloc[0].values)\n",
        "\n",
        "# Compute the prediction for input 28 (humidity)\n",
        "prediction = model.predict([[28]])\n",
        "print(\"Prediction/Truth for humidity 28: \", prediction, y_test.iloc[0].values)"
      ]
    },
    {
      "cell_type": "markdown",
      "metadata": {
        "id": "u3CbNbOeB6lE"
      },
      "source": [
        "**Note:** Try to use `flatten()` and `[0]` in order to display correctly the above values."
      ]
    },
    {
      "cell_type": "code",
      "execution_count": 12,
      "metadata": {
        "colab": {
          "base_uri": "https://localhost:8080/"
        },
        "id": "QU-L5rmUB0kR",
        "outputId": "df4b5249-0422-4e4c-c744-4eb95b2e76d0"
      },
      "outputs": [
        {
          "name": "stdout",
          "output_type": "stream",
          "text": [
            "Prediction for humidity 28:  23.19790744012121 but the true value is: 27.0\n"
          ]
        }
      ],
      "source": [
        "# Compute the prediction for input 28 (humidity) with flatten\n",
        "print(\"Prediction for humidity 28: \", prediction.flatten()[0], \"but the true value is:\",y_test.iloc[0].values.flatten()[0])"
      ]
    },
    {
      "cell_type": "markdown",
      "metadata": {
        "id": "uLEovOE8tGyV"
      },
      "source": [
        "## 5. Evaluation and plotting\n",
        "\n",
        "To better understand why the prediction and actual value are different , we can plot the predictions (line) and the true values from the test set (dots). It is more interesting to predict from the test set because our model is not trained on these values unlike the train set."
      ]
    },
    {
      "cell_type": "code",
      "execution_count": 13,
      "metadata": {
        "id": "D1bnZYPnHK8V"
      },
      "outputs": [],
      "source": [
        "# Model prediction from X_test\n",
        "predictions = model.predict(X_test)"
      ]
    },
    {
      "cell_type": "code",
      "execution_count": 14,
      "metadata": {
        "colab": {
          "base_uri": "https://localhost:8080/",
          "height": 472
        },
        "id": "3QWBgialsjhv",
        "outputId": "75aa5a4a-b1f0-4a32-b97e-d9d35ad22482"
      },
      "outputs": [
        {
          "data": {
            "image/png": "[encoded data removed]",
            "text/plain": [
              "<Figure size 640x480 with 1 Axes>"
            ]
          },
          "metadata": {},
          "output_type": "display_data"
        }
      ],
      "source": [
        "# Plot the prediction (the line) over the true value (the dots)\n",
        "import seaborn as sns\n",
        "sns.set_style(\"darkgrid\")\n",
        "plt.scatter(X_test, y_test)\n",
        "plt.plot(X_test, predictions, 'r')\n",
        "plt.title(\"Humidity against temperature\")\n",
        "plt.xlabel('Humidity')\n",
        "plt.ylabel('Temperature')\n",
        "plt.show()"
      ]
    },
    {
      "cell_type": "markdown",
      "metadata": {
        "id": "Asy8tfPuvrKd"
      },
      "source": [
        "We can compare the error of our model by using some metrics like the **MAE (mean absolute error)**, **MSE (mean squared error)** or **R^2** score. Sklearn offers some nice modules to compute these measures. These modules are imported at the begining of the file.\n",
        "\n",
        "These metrics takes the `y_test` values and the `predictions` as arguments. Basically it will analyse how far the prediction is from the true value. Using these metrics is very helpful when looking for the best model."
      ]
    },
    {
      "cell_type": "code",
      "execution_count": 18,
      "metadata": {
        "colab": {
          "base_uri": "https://localhost:8080/"
        },
        "id": "syKiA49gvpNQ",
        "outputId": "0358de45-84ce-4207-e0d6-af36ed792018"
      },
      "outputs": [
        {
          "name": "stdout",
          "output_type": "stream",
          "text": [
            "MAE for the test set 4.27\n",
            "MSE for the test set 24.44\n",
            "R^2 for the test set 0.37\n"
          ]
        }
      ],
      "source": [
        "# Compare the MAE the MSE and the R^2\n",
        "mae = mean_absolute_error(y_test, predictions)\n",
        "mse = mean_squared_error(y_test, predictions)\n",
        "r2 = r2_score(y_test, predictions)\n",
        "\n",
        "print(\"MAE for the test set %.2f\" % mae)\n",
        "print(\"MSE for the test set %.2f\" % mse)\n",
        "print(\"R^2 for the test set %.2f\" % r2)"
      ]
    },
    {
      "cell_type": "markdown",
      "metadata": {
        "id": "OVSZVya0iNIy"
      },
      "source": [
        "It is also interesting to compare the result of these metrics between the data from the `test set` and those from the `train set` as it enables you to see whether your model gives a good prediction or not."
      ]
    },
    {
      "cell_type": "code",
      "execution_count": 17,
      "metadata": {
        "colab": {
          "base_uri": "https://localhost:8080/"
        },
        "id": "iQzowsWVh0ip",
        "outputId": "6cfa16ef-e3e1-482b-ed19-2d382746b6b2"
      },
      "outputs": [
        {
          "name": "stdout",
          "output_type": "stream",
          "text": [
            "MAE for the train set 4.77\n",
            "MSE for the train set 31.08\n",
            "R^2 for the train set 0.31\n"
          ]
        }
      ],
      "source": [
        "pred = model.predict(X_train)\n",
        "mae = mean_absolute_error(y_train, pred)\n",
        "mse = mean_squared_error(y_train, pred)\n",
        "r2 = r2_score(y_train, pred)\n",
        "\n",
        "print(\"MAE for the train set %.2f\" % mae)\n",
        "print(\"MSE for the train set %.2f\" % mse)\n",
        "print(\"R^2 for the train set %.2f\" % r2)"
      ]
    },
    {
      "cell_type": "markdown",
      "metadata": {
        "id": "g0iXKhoXkUyN"
      },
      "source": [
        "Remember, the higher the R² value, the better the fit. In this case, the testing data yields a higher coefficient. While it might seem a bit counterintuitive.\n",
        " Furthermore, the R² calculated with test data is an unbiased measure of your model’s prediction performance."
      ]
    },
    {
      "cell_type": "markdown",
      "metadata": {
        "id": "p0P-xYawgLRH"
      },
      "source": [
        "## 6. Multivariate Regression\n",
        "\n",
        "\n",
        "Here, we will apply the same method to several features. For instance it should be interesting to use these variables: humidity, pressure, sunshine and cloud data to predict the temperature. We continue to work with values concerning 3pm for simplicity."
      ]
    },
    {
      "cell_type": "code",
      "execution_count": 19,
      "metadata": {
        "id": "kTAqzfNAg4Bs"
      },
      "outputs": [],
      "source": [
        "X = weather[['Humidity3pm', 'Cloud3pm', 'Pressure3pm', 'Sunshine']]\n",
        "y = weather[['Temp3pm']]"
      ]
    },
    {
      "cell_type": "markdown",
      "metadata": {
        "id": "xPtVWHZMg8sD"
      },
      "source": [
        "### Split the data into a training set and a test set"
      ]
    },
    {
      "cell_type": "code",
      "execution_count": 20,
      "metadata": {
        "id": "vfvjzYBFg4qi"
      },
      "outputs": [],
      "source": [
        "X_train, X_test, y_train, y_test = train_test_split(X, y, test_size=0.2, random_state=0, shuffle=True)"
      ]
    },
    {
      "cell_type": "markdown",
      "metadata": {
        "id": "j_B1LnPqhGz1"
      },
      "source": [
        "### Fit the model"
      ]
    },
    {
      "cell_type": "code",
      "execution_count": 21,
      "metadata": {
        "colab": {
          "base_uri": "https://localhost:8080/"
        },
        "id": "7-Dxbc6VhF_f",
        "outputId": "82588177-bded-4909-efaf-b8274138e126"
      },
      "outputs": [
        {
          "name": "stdout",
          "output_type": "stream",
          "text": [
            "R^2 Score of the model:  0.438\n",
            "Intercept:  [361.96448369]\n",
            "Features coefficients (weigths):  [[-0.20850482  0.53595273 -0.33294024  0.39432442]]\n"
          ]
        }
      ],
      "source": [
        "# 1. Set up the model\n",
        "model = LinearRegression()\n",
        "# 2. Use fit\n",
        "model.fit(X_train, y_train)\n",
        "# 3. Check the score/accuracy\n",
        "print(\"R^2 Score of the model: \", round(model.score(X_test, y_test), 3))\n",
        "# 4. Print the coefficients of the linear model\n",
        "print(\"Intercept: \", model.intercept_)\n",
        "print(\"Features coefficients (weigths): \", model.coef_)# Get the coefficients, w"
      ]
    },
    {
      "cell_type": "markdown",
      "metadata": {
        "id": "VTTfQrJEhJGA"
      },
      "source": [
        "### Prediction\n",
        "We use the predict() function to predict the values of the test set using X_test.\n",
        "This prediction can be compared to the truth value i.e y_test.\n"
      ]
    },
    {
      "cell_type": "code",
      "execution_count": 23,
      "metadata": {
        "colab": {
          "base_uri": "https://localhost:8080/"
        },
        "id": "6HwEZhg8hQ-W",
        "outputId": "8c536ebe-aedd-43c7-f7ff-a70594ddb469"
      },
      "outputs": [
        {
          "name": "stdout",
          "output_type": "stream",
          "text": [
            "Particular value of ['Humidity3pm', 'Cloud3pm', 'Pressure3pm', 'Sunshine']:  [  28.     7.  1018.2    7.3]\n",
            "Prediction for [ 28.0, 7.0, 1018.2, 7.3]:  23.75683012590224 but real value: 27.0\n"
          ]
        },
        {
          "name": "stderr",
          "output_type": "stream",
          "text": [
            "/Users/iris/miniconda3/envs/ada/lib/python3.11/site-packages/sklearn/base.py:493: UserWarning: X does not have valid feature names, but LinearRegression was fitted with feature names\n",
            "  warnings.warn(\n"
          ]
        }
      ],
      "source": [
        "print(\"Particular value of ['Humidity3pm', 'Cloud3pm', 'Pressure3pm', 'Sunshine']: \", X_test.iloc[0].values)\n",
        "prediction = model.predict([[ 28.0, 7.0, 1018.2, 7.3]])\n",
        "print(\"Prediction for [ 28.0, 7.0, 1018.2, 7.3]: \", prediction.flatten()[0], \"but real value:\" ,y_test.iloc[0].values.flatten()[0])"
      ]
    },
    {
      "cell_type": "markdown",
      "metadata": {
        "id": "TuY3hTDahTKQ"
      },
      "source": [
        "### Evaluation\n",
        "Lastly, we use the MAE (mean absolute error), MSE (mean squared error) or R^2 score to analyse how far the prediction is from the true value.\n",
        "These  metrics takes the `y_test` values and the `predictions` as arguments."
      ]
    },
    {
      "cell_type": "code",
      "execution_count": 24,
      "metadata": {
        "colab": {
          "base_uri": "https://localhost:8080/"
        },
        "id": "cjdFBojChWDT",
        "outputId": "847ea3f7-e089-4f51-d33a-b6fda6973ed1"
      },
      "outputs": [
        {
          "name": "stdout",
          "output_type": "stream",
          "text": [
            "MAE 3.90\n",
            "MSE 21.85\n",
            "R^2 0.44\n"
          ]
        }
      ],
      "source": [
        "# For the test data\n",
        "predictions = model.predict(X_test)\n",
        "\n",
        "print(\"MAE %.2f\" % mean_absolute_error(y_test, predictions))\n",
        "print(\"MSE %.2f\" % mean_squared_error(y_test, predictions))\n",
        "print(\"R^2 %.2f\" % r2_score(y_test, predictions))"
      ]
    },
    {
      "cell_type": "code",
      "execution_count": 25,
      "metadata": {
        "colab": {
          "base_uri": "https://localhost:8080/"
        },
        "id": "5hOMwpd2oSDh",
        "outputId": "05d06ab3-0eb2-4f1e-9895-afdb04838295"
      },
      "outputs": [
        {
          "name": "stdout",
          "output_type": "stream",
          "text": [
            "MAE 4.13\n",
            "MSE 24.11\n",
            "R^2 0.47\n"
          ]
        }
      ],
      "source": [
        "# For the training data\n",
        "predictions = model.predict(X_train)\n",
        "\n",
        "print(\"MAE %.2f\" % mean_absolute_error(y_train, predictions))\n",
        "print(\"MSE %.2f\" % mean_squared_error(y_train, predictions))\n",
        "print(\"R^2 %.2f\" % r2_score(y_train, predictions))"
      ]
    },
    {
      "cell_type": "markdown",
      "metadata": {
        "id": "Fah7-75jMgH0"
      },
      "source": [
        "#### Feature Selection and Error Analysis in Linear Regression"
      ]
    },
    {
      "cell_type": "code",
      "execution_count": 26,
      "metadata": {
        "colab": {
          "base_uri": "https://localhost:8080/",
          "height": 507
        },
        "id": "MkwGK6Q5fslb",
        "outputId": "6c329235-8f75-4230-ba6e-b197b5b7b4ba"
      },
      "outputs": [
        {
          "name": "stdout",
          "output_type": "stream",
          "text": [
            "Train error:  [11.02629934559219, 10.546349892010538, 7.945720705222089, 5.098494310131527]\n",
            "Test error :  [10.906664493008064, 10.664354128593098, 7.555059569256485, 4.183558321749932]\n"
          ]
        },
        {
          "data": {
            "image/png": "[encoded data removed]",
            "text/plain": [
              "<Figure size 640x480 with 1 Axes>"
            ]
          },
          "metadata": {},
          "output_type": "display_data"
        }
      ],
      "source": [
        "# Arrays to save the different errors\n",
        "train_err = []\n",
        "test_err = []\n",
        "\n",
        "# Iterate over 1, 2, 3 and 4 features\n",
        "for nbr_col in range(1, len(X.columns)+1):\n",
        "    # Select the good number of features for X\n",
        "    X_temp = X[X.columns[:nbr_col]]\n",
        "    # Split the dat set\n",
        "    X_train, X_test, y_train, y_test = train_test_split(X_temp, y, test_size=0.2, random_state=10)\n",
        "    # Normalize the data\n",
        "    # Create new scaler from MinMaxScaler()\n",
        "    scaler = MinMaxScaler()\n",
        "    # Fit and transform the original data\n",
        "    scaler.fit(X_train, y_train)\n",
        "    X_train = scaler.fit_transform(X_train)\n",
        "    X_test = scaler.transform(X_test)\n",
        "    # Create the linear model\n",
        "    LR = LinearRegression(fit_intercept=False)\n",
        "    # Fit the linear model\n",
        "    LR.fit(X_train, y_train)\n",
        "\n",
        "    # Compute and save the mean absolute error fro training and testing set\n",
        "    train_err.append(mean_absolute_error(y_train, LR.predict(X_train)))\n",
        "    test_err.append(mean_absolute_error(y_test, LR.predict(X_test)))\n",
        "\n",
        "# Print the train and the test errors\n",
        "print(\"Train error: \", train_err)\n",
        "print(\"Test error : \", test_err)\n",
        "\n",
        "plt.title(\"Training and test error regarding the number of features\")\n",
        "plt.plot(range(1,len(X.columns)+1), train_err, label=\"train_error\")\n",
        "plt.plot(range(1,len(X.columns)+1), test_err, label=\"test_error\")\n",
        "plt.legend(fontsize=10)\n",
        "plt.xlabel(\"Number of features\")\n",
        "plt.ylabel(\"Error\")\n",
        "plt.show()\n"
      ]
    }
  ],
  "metadata": {
    "colab": {
      "include_colab_link": true,
      "provenance": []
    },
    "kernelspec": {
      "display_name": "ada",
      "language": "python",
      "name": "python3"
    },
    "language_info": {
      "codemirror_mode": {
        "name": "ipython",
        "version": 3
      },
      "file_extension": ".py",
      "mimetype": "text/x-python",
      "name": "python",
      "nbconvert_exporter": "python",
      "pygments_lexer": "ipython3",
      "version": "3.11.9"
    }
  },
  "nbformat": 4,
  "nbformat_minor": 0
}
