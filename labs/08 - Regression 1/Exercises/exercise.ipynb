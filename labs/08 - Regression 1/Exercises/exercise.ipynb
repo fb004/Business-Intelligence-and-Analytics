{
  "cells": [
    {
      "cell_type": "markdown",
      "metadata": {
        "id": "LIELXelXiP_1"
      },
      "source": [
        "<a href=\"https://colab.research.google.com/github/michalis0/Business-Intelligence-and-Analytics/blob/master/labs/08%20-%20Regression%201/Exercises/exercise.ipynb\" target=\"_parent\"><img src=\"https://colab.research.google.com/assets/colab-badge.svg\" alt=\"Open In Colab\"/></a>"
      ]
    },
    {
      "cell_type": "markdown",
      "metadata": {
        "id": "pKDGpBpWiP_4"
      },
      "source": [
        "# Exercise: Supervised Learning, Linear Regression\n",
        "\n",
        "This exercise is an application of what you learned in the walkthrough. The following cell gather the different modules you need for this exercise (take a look at the sklearn library).\n",
        "\n",
        "Some exercises consist of filling a part of the code without writing the whole code. Replace the `\"YOUR CODE HERE\"` with your own code."
      ]
    },
    {
      "cell_type": "code",
      "execution_count": null,
      "metadata": {
        "id": "tRJYHwrWiP_5"
      },
      "outputs": [],
      "source": [
        "# Useful starting lines\n",
        "%matplotlib inline\n",
        "%load_ext autoreload\n",
        "%autoreload 2\n",
        "\n",
        "import numpy as np\n",
        "import matplotlib.pyplot as plt\n",
        "import pandas as pd\n",
        "import seaborn as sns\n",
        "sns.set_style(\"darkgrid\")\n",
        "\n",
        "import warnings\n",
        "warnings.filterwarnings('ignore')\n",
        "\n",
        "# Sklearn import\n",
        "from sklearn.preprocessing import MinMaxScaler # Normalization\n",
        "from sklearn.linear_model import LinearRegression # Regression linear model\n",
        "from sklearn.model_selection import train_test_split # Splitting the data set\n",
        "from sklearn.metrics import r2_score, mean_squared_error, mean_absolute_error # Metrics for errors\n",
        "from sklearn.model_selection import KFold # Cross validation"
      ]
    },
    {
      "cell_type": "markdown",
      "metadata": {
        "id": "KnD2etTqiP_6"
      },
      "source": [
        "## 1. Load data"
      ]
    },
    {
      "cell_type": "markdown",
      "metadata": {
        "id": "LiKHNn7UiP_6"
      },
      "source": [
        "In this exercise, we use data on advertising expenses across various platforms and product sales. The goal is to understand how different advertising platforms impact sales.\n",
        "\n",
        "Load the dataset from the given URL. Then display the first 5 rows.\n"
      ]
    },
    {
      "cell_type": "code",
      "execution_count": null,
      "metadata": {
        "id": "-P-LPZI9iP_6",
        "outputId": "a2431ca4-d1d1-4ec5-bbb3-270877223e2d"
      },
      "outputs": [],
      "source": [
        "url = 'https://media.githubusercontent.com/media/michalis0/Business-Intelligence-and-Analytics/master/data/Advertising.csv'\n",
        "# Load the data\n",
        "# YOUR CODE HERE\n",
        "\n",
        "# Number of oberservations and columns\n",
        "# YOUR CODE HERE"
      ]
    },
    {
      "cell_type": "markdown",
      "metadata": {
        "id": "AewzD6DJiP_7"
      },
      "source": [
        "Next, we will try a simple linear regression using only one feature (univariate regression), that is, we want to predict the `sales` using only the `TV` feature (which is money spent on TV).\n",
        "\n",
        "To get a first sense of the relationship between different variables, display the correlation table."
      ]
    },
    {
      "cell_type": "code",
      "execution_count": null,
      "metadata": {
        "id": "N1MMZ7QPiP_7",
        "outputId": "487a1868-e8fc-4d36-c3c6-48464f3b459e"
      },
      "outputs": [],
      "source": [
        "# Display the correlation table\n",
        "# YOUR CODE HERE"
      ]
    },
    {
      "cell_type": "markdown",
      "metadata": {
        "id": "IpSKH1JxiP_8"
      },
      "source": [
        "## 2. Using Sklearn"
      ]
    },
    {
      "cell_type": "markdown",
      "metadata": {
        "id": "TyKD0Wb0iP_9"
      },
      "source": [
        "When using sklearn, we don't need to add a column of ones to the data in order to have the constant parameter. Sklearn takes care of it for you, you just need to set the `fit_intercept` argument to be True (which also the default value for this argument).\n",
        "\n",
        "1. From the dataset, save the feature `TV` and the target `Sales` in two different variables X and y respectively in a dataframe pandas format (not as a series) (`data[['sth']]` instead of `data['sth]`).\n",
        "2. Split the data into a train and a test set. The test set size should be 20% of the original data. Additionally, set the `random_state` to 0 and `shuffle` to `True`.\n",
        "3. Create a linear regression model using `LinearRegression` module from sklearn. Make sure it includes an intercept. Then, fit the model with the corresponding data.\n",
        "4. Print the values of the intercept and coefficients.\n",
        "5. Compute the R2, MAE, and MSE.\n",
        "6. Plot the regression\n"
      ]
    },
    {
      "cell_type": "code",
      "execution_count": null,
      "metadata": {
        "id": "XPaeGfg_iP_9"
      },
      "outputs": [],
      "source": [
        "# 1. Create X, y\n",
        "# YOUR CODE HERE"
      ]
    },
    {
      "cell_type": "code",
      "execution_count": null,
      "metadata": {
        "id": "2JN4A6W5iP_-"
      },
      "outputs": [],
      "source": [
        "# 2. Split the data\n",
        "# YOUR CODE HERE"
      ]
    },
    {
      "cell_type": "markdown",
      "metadata": {
        "id": "vvGRRCHGiP_-"
      },
      "source": [
        "For this excerise, we don't require you to normalize the data, but this is how it can be done:\n",
        "\n",
        "```python\n",
        "scaler = MinMaxScaler()\n",
        "scaler.fit(X_train)\n",
        "X_train = pd.DataFrame(scaler.transform(X_train))\n",
        "X_test = pd.DataFrame(scaler.transfrom(X_test))\n",
        "```"
      ]
    },
    {
      "cell_type": "code",
      "execution_count": null,
      "metadata": {
        "id": "5DUEeDyMiP_-"
      },
      "outputs": [],
      "source": [
        "# 3. Create the linear regression model\n",
        "#Y OUR CODE HERE\n",
        "\n",
        "# Fit model\n",
        "# YOUR CODE HERE"
      ]
    },
    {
      "cell_type": "code",
      "execution_count": null,
      "metadata": {
        "id": "eNe5Kwk4iP_-",
        "outputId": "80220473-7ac2-4f21-83c6-bcb6ca68e358"
      },
      "outputs": [],
      "source": [
        "# 4. Model parameters\n",
        "# YOUR CODE HERE"
      ]
    },
    {
      "cell_type": "code",
      "execution_count": null,
      "metadata": {
        "id": "TJENbwociP__",
        "outputId": "d963f650-5fd2-4edd-a7c1-7cb997bb93c5"
      },
      "outputs": [],
      "source": [
        "# 5. Model performance\n",
        "# YOUR CODE HERE"
      ]
    },
    {
      "cell_type": "code",
      "execution_count": null,
      "metadata": {
        "id": "MK-Jr9EQiP__",
        "outputId": "e0784bad-c6e1-406c-edee-72e895838e25"
      },
      "outputs": [],
      "source": [
        "# 6. Plot the regression\n",
        "# YOUR CODE HERE"
      ]
    },
    {
      "cell_type": "markdown",
      "metadata": {
        "id": "6iKOF2rOiP__"
      },
      "source": [
        "Using this single-variate model, you can simply switch the feature (`TV`, `Radio`, `Newspapers`) to see which predicts the target variable (`Sales`) the best.\n",
        "\n",
        "**Hint:** Simply change the feature variable and re-run the cells above. Then compare the evaluation metrics (r2, MAE and MSE).\n",
        "\n",
        "<h2> IMPORTANT: This exercise answers the moodle quiz question 1. <h2>"
      ]
    },
    {
      "cell_type": "code",
      "execution_count": null,
      "metadata": {
        "id": "yF4Eio-1iP__"
      },
      "outputs": [],
      "source": [
        "# YOUR CODE HERE"
      ]
    },
    {
      "cell_type": "markdown",
      "metadata": {
        "id": "qF6FqddsiQAA"
      },
      "source": [
        "## 3. Using more features for prediction"
      ]
    },
    {
      "cell_type": "markdown",
      "metadata": {
        "id": "avwFsjTeiQAA"
      },
      "source": [
        "Let's try to use all features to predict the sales.\n",
        "\n",
        "1. From the dataset, save all the features to X and the target `sales` to y in dataframe pandas format.\n",
        "2. Split the data into a train and a test set. The test set size should be 20% of the original data. Additionally, set the `random_state` to 0 and `shuffle` to `True`.\n",
        "3. Create a linear regression model using `LinearRegression` module from sklearn. Make sure it includes an intercept. Then, fit the model with the corresponding data.\n",
        "4. Print the values of the intercept and coefficients.\n",
        "5. Compute the R2, MAE, and MSE."
      ]
    },
    {
      "cell_type": "code",
      "execution_count": null,
      "metadata": {
        "id": "PkgkiUG2iQAA"
      },
      "outputs": [],
      "source": [
        "# 1. Use all features\n",
        "# YOUR CODE HERE"
      ]
    },
    {
      "cell_type": "code",
      "execution_count": null,
      "metadata": {
        "id": "X2nDNctwiQAA"
      },
      "outputs": [],
      "source": [
        "# 2. Split the data\n",
        "# YOUR CODE HERE"
      ]
    },
    {
      "cell_type": "code",
      "execution_count": null,
      "metadata": {
        "id": "nYggv2EciQAA"
      },
      "outputs": [],
      "source": [
        "# 3. Create the linear regression model\n",
        "# YOUR CODE HERE"
      ]
    },
    {
      "cell_type": "code",
      "execution_count": null,
      "metadata": {
        "id": "HADqzsdZiQAA"
      },
      "outputs": [],
      "source": [
        "# 4. Print the model parameters\n",
        "# YOUR CODE HERE"
      ]
    },
    {
      "cell_type": "code",
      "execution_count": null,
      "metadata": {
        "id": "_ifmVs9ziQAA"
      },
      "outputs": [],
      "source": [
        "# 5. Model performance\n",
        "# YOUR CODE HERE"
      ]
    },
    {
      "cell_type": "markdown",
      "metadata": {
        "id": "5i_T3oZtiQAA"
      },
      "source": [
        "Does the model performance (evaluated using R2, MAE, and MSE) improve significantly when using all features? Does the model become \"better\"?\n",
        "\n",
        "<h2> IMPORTANT: This exercise answers the moodle quiz question 2. <h2>"
      ]
    },
    {
      "cell_type": "code",
      "execution_count": null,
      "metadata": {
        "id": "DksRiEoOiQAA"
      },
      "outputs": [],
      "source": [
        "# Compute how much each of the metrics has improved\n",
        "# YOUR CODE HERE"
      ]
    }
  ],
  "metadata": {
    "colab": {
      "provenance": []
    },
    "kernelspec": {
      "display_name": "ada",
      "language": "python",
      "name": "python3"
    },
    "language_info": {
      "codemirror_mode": {
        "name": "ipython",
        "version": 3
      },
      "file_extension": ".py",
      "mimetype": "text/x-python",
      "name": "python",
      "nbconvert_exporter": "python",
      "pygments_lexer": "ipython3",
      "version": "3.11.9"
    }
  },
  "nbformat": 4,
  "nbformat_minor": 0
}
