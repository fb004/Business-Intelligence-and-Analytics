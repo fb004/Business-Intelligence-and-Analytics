{
  "cells": [
    {
      "cell_type": "markdown",
      "metadata": {},
      "source": [
        "<a href=\"https://colab.research.google.com/github/michalis0/Business-Intelligence-and-Analytics/blob/master/labs/03%20-%20Pandas%20and%20Python/%40Home/solutions/take_home_exercises.ipynb\" target=\"_parent\"><img src=\"https://colab.research.google.com/assets/colab-badge.svg\" alt=\"Open In Colab\"/></a>"
      ]
    },
    {
      "cell_type": "markdown",
      "metadata": {
        "id": "F5Gf1PxzX5sO"
      },
      "source": [
        "# Solutions\n",
        "This notebook contains solutions to all the exercises from the Selecting Subsets of Data Series\n",
        "\n",
        "1. [Part 1: Selection with [], .loc and .iloc](#Part-1:-Selection-with-[],-.loc-and-.iloc)\n",
        "1. [Part 2: Boolean Indexing](#Part-2:-Boolean-Indexing)\n",
        "1. [Part 3: Assigning subsets of data](#Part-3:-Assigning-subsets-of-data)\n",
        "1. [Part 4: How NOT to select subsets of data](#Part-4:-How-NOT-to-select-subsets-of-data)"
      ]
    },
    {
      "cell_type": "code",
      "execution_count": 3,
      "metadata": {
        "collapsed": true,
        "id": "ICXhR1B1X5sQ"
      },
      "outputs": [],
      "source": [
        "import pandas as pd\n",
        "import numpy as np"
      ]
    },
    {
      "cell_type": "markdown",
      "metadata": {
        "id": "EOB2uY3tX5sR"
      },
      "source": [
        "# Part 1: Selection with `[]`, `.loc` and `.iloc`"
      ]
    },
    {
      "cell_type": "code",
      "execution_count": null,
      "metadata": {
        "colab": {
          "base_uri": "https://localhost:8080/",
          "height": 204
        },
        "id": "flj9_ryjX5sR",
        "outputId": "a185ca9f-bc3e-4a70-b374-0aba6b22bedd"
      },
      "outputs": [
        {
          "data": {
            "text/html": [
              "<div>\n",
              "<style scoped>\n",
              "    .dataframe tbody tr th:only-of-type {\n",
              "        vertical-align: middle;\n",
              "    }\n",
              "\n",
              "    .dataframe tbody tr th {\n",
              "        vertical-align: top;\n",
              "    }\n",
              "\n",
              "    .dataframe thead th {\n",
              "        text-align: right;\n",
              "    }\n",
              "</style>\n",
              "<table border=\"1\" class=\"dataframe\">\n",
              "  <thead>\n",
              "    <tr style=\"text-align: right;\">\n",
              "      <th></th>\n",
              "      <th>DBA Name</th>\n",
              "      <th>Facility Type</th>\n",
              "      <th>Risk</th>\n",
              "      <th>Address</th>\n",
              "      <th>Zip</th>\n",
              "      <th>Inspection Date</th>\n",
              "      <th>Inspection Type</th>\n",
              "      <th>Results</th>\n",
              "      <th>Violations</th>\n",
              "    </tr>\n",
              "  </thead>\n",
              "  <tbody>\n",
              "    <tr>\n",
              "      <th>0</th>\n",
              "      <td>DANY'S TACOS</td>\n",
              "      <td>Restaurant</td>\n",
              "      <td>Risk 1 (High)</td>\n",
              "      <td>2857 S ST LOUIS AVE</td>\n",
              "      <td>60623.0</td>\n",
              "      <td>03/27/2017</td>\n",
              "      <td>License</td>\n",
              "      <td>Fail</td>\n",
              "      <td>16. FOOD PROTECTED DURING STORAGE, PREPARATION...</td>\n",
              "    </tr>\n",
              "    <tr>\n",
              "      <th>1</th>\n",
              "      <td>BILLY FOOD MARKET INC</td>\n",
              "      <td>NaN</td>\n",
              "      <td>Risk 3 (Low)</td>\n",
              "      <td>3906 W ROOSEVELT RD</td>\n",
              "      <td>60624.0</td>\n",
              "      <td>03/27/2017</td>\n",
              "      <td>License</td>\n",
              "      <td>Not Ready</td>\n",
              "      <td>NaN</td>\n",
              "    </tr>\n",
              "    <tr>\n",
              "      <th>2</th>\n",
              "      <td>TAQUERIA HACIENDA TAPATIA</td>\n",
              "      <td>Restaurant</td>\n",
              "      <td>Risk 1 (High)</td>\n",
              "      <td>4125 W 26TH ST</td>\n",
              "      <td>60623.0</td>\n",
              "      <td>03/27/2017</td>\n",
              "      <td>License Re-Inspection</td>\n",
              "      <td>Pass</td>\n",
              "      <td>2. FACILITIES TO MAINTAIN PROPER TEMPERATURE -...</td>\n",
              "    </tr>\n",
              "    <tr>\n",
              "      <th>3</th>\n",
              "      <td>WILD GOOSE BAR &amp; GRILL</td>\n",
              "      <td>Restaurant</td>\n",
              "      <td>Risk 1 (High)</td>\n",
              "      <td>4265 N LINCOLN AVE</td>\n",
              "      <td>60618.0</td>\n",
              "      <td>03/27/2017</td>\n",
              "      <td>Canvass</td>\n",
              "      <td>Fail</td>\n",
              "      <td>16. FOOD PROTECTED DURING STORAGE, PREPARATION...</td>\n",
              "    </tr>\n",
              "    <tr>\n",
              "      <th>4</th>\n",
              "      <td>PUBLICAN TAVERN K1</td>\n",
              "      <td>Restaurant</td>\n",
              "      <td>Risk 1 (High)</td>\n",
              "      <td>11601 W TOUHY AVE</td>\n",
              "      <td>60666.0</td>\n",
              "      <td>03/27/2017</td>\n",
              "      <td>Canvass</td>\n",
              "      <td>Fail</td>\n",
              "      <td>18. NO EVIDENCE OF RODENT OR INSECT OUTER OPEN...</td>\n",
              "    </tr>\n",
              "  </tbody>\n",
              "</table>\n",
              "</div>"
            ],
            "text/plain": [
              "                    DBA Name  ...                                         Violations\n",
              "0               DANY'S TACOS  ...  16. FOOD PROTECTED DURING STORAGE, PREPARATION...\n",
              "1      BILLY FOOD MARKET INC  ...                                                NaN\n",
              "2  TAQUERIA HACIENDA TAPATIA  ...  2. FACILITIES TO MAINTAIN PROPER TEMPERATURE -...\n",
              "3     WILD GOOSE BAR & GRILL  ...  16. FOOD PROTECTED DURING STORAGE, PREPARATION...\n",
              "4         PUBLICAN TAVERN K1  ...  18. NO EVIDENCE OF RODENT OR INSECT OUTER OPEN...\n",
              "\n",
              "[5 rows x 9 columns]"
            ]
          },
          "execution_count": 2,
          "metadata": {
            "tags": []
          },
          "output_type": "execute_result"
        }
      ],
      "source": [
        "df = pd.read_csv('https://raw.githubusercontent.com/michalis0/Business-Intelligence-and-Analytics/master/week2%20-%20Pandas%20and%20Python/Pandas/data/food_inspections.csv')\n",
        "df.head()"
      ]
    },
    {
      "cell_type": "markdown",
      "metadata": {
        "id": "aRKBSxrOX5sS"
      },
      "source": [
        "### Exercise 1\n",
        "<span  style=\"color:green; font-size:16px\">The current DataFrame has a simple `RangeIndex`. Let make the **`DBA Name`** column the index to make it more meaningful. Save the result to variable **`df`**.</span>"
      ]
    },
    {
      "cell_type": "code",
      "execution_count": null,
      "metadata": {
        "colab": {
          "base_uri": "https://localhost:8080/",
          "height": 235
        },
        "id": "BfYPimfVX5sT",
        "outputId": "ce2870d2-b780-4a5b-9fa0-9b80538a4162"
      },
      "outputs": [
        {
          "data": {
            "text/html": [
              "<div>\n",
              "<style scoped>\n",
              "    .dataframe tbody tr th:only-of-type {\n",
              "        vertical-align: middle;\n",
              "    }\n",
              "\n",
              "    .dataframe tbody tr th {\n",
              "        vertical-align: top;\n",
              "    }\n",
              "\n",
              "    .dataframe thead th {\n",
              "        text-align: right;\n",
              "    }\n",
              "</style>\n",
              "<table border=\"1\" class=\"dataframe\">\n",
              "  <thead>\n",
              "    <tr style=\"text-align: right;\">\n",
              "      <th></th>\n",
              "      <th>Facility Type</th>\n",
              "      <th>Risk</th>\n",
              "      <th>Address</th>\n",
              "      <th>Zip</th>\n",
              "      <th>Inspection Date</th>\n",
              "      <th>Inspection Type</th>\n",
              "      <th>Results</th>\n",
              "      <th>Violations</th>\n",
              "    </tr>\n",
              "    <tr>\n",
              "      <th>DBA Name</th>\n",
              "      <th></th>\n",
              "      <th></th>\n",
              "      <th></th>\n",
              "      <th></th>\n",
              "      <th></th>\n",
              "      <th></th>\n",
              "      <th></th>\n",
              "      <th></th>\n",
              "    </tr>\n",
              "  </thead>\n",
              "  <tbody>\n",
              "    <tr>\n",
              "      <th>DANY'S TACOS</th>\n",
              "      <td>Restaurant</td>\n",
              "      <td>Risk 1 (High)</td>\n",
              "      <td>2857 S ST LOUIS AVE</td>\n",
              "      <td>60623.0</td>\n",
              "      <td>03/27/2017</td>\n",
              "      <td>License</td>\n",
              "      <td>Fail</td>\n",
              "      <td>16. FOOD PROTECTED DURING STORAGE, PREPARATION...</td>\n",
              "    </tr>\n",
              "    <tr>\n",
              "      <th>BILLY FOOD MARKET INC</th>\n",
              "      <td>NaN</td>\n",
              "      <td>Risk 3 (Low)</td>\n",
              "      <td>3906 W ROOSEVELT RD</td>\n",
              "      <td>60624.0</td>\n",
              "      <td>03/27/2017</td>\n",
              "      <td>License</td>\n",
              "      <td>Not Ready</td>\n",
              "      <td>NaN</td>\n",
              "    </tr>\n",
              "    <tr>\n",
              "      <th>TAQUERIA HACIENDA TAPATIA</th>\n",
              "      <td>Restaurant</td>\n",
              "      <td>Risk 1 (High)</td>\n",
              "      <td>4125 W 26TH ST</td>\n",
              "      <td>60623.0</td>\n",
              "      <td>03/27/2017</td>\n",
              "      <td>License Re-Inspection</td>\n",
              "      <td>Pass</td>\n",
              "      <td>2. FACILITIES TO MAINTAIN PROPER TEMPERATURE -...</td>\n",
              "    </tr>\n",
              "    <tr>\n",
              "      <th>WILD GOOSE BAR &amp; GRILL</th>\n",
              "      <td>Restaurant</td>\n",
              "      <td>Risk 1 (High)</td>\n",
              "      <td>4265 N LINCOLN AVE</td>\n",
              "      <td>60618.0</td>\n",
              "      <td>03/27/2017</td>\n",
              "      <td>Canvass</td>\n",
              "      <td>Fail</td>\n",
              "      <td>16. FOOD PROTECTED DURING STORAGE, PREPARATION...</td>\n",
              "    </tr>\n",
              "    <tr>\n",
              "      <th>PUBLICAN TAVERN K1</th>\n",
              "      <td>Restaurant</td>\n",
              "      <td>Risk 1 (High)</td>\n",
              "      <td>11601 W TOUHY AVE</td>\n",
              "      <td>60666.0</td>\n",
              "      <td>03/27/2017</td>\n",
              "      <td>Canvass</td>\n",
              "      <td>Fail</td>\n",
              "      <td>18. NO EVIDENCE OF RODENT OR INSECT OUTER OPEN...</td>\n",
              "    </tr>\n",
              "  </tbody>\n",
              "</table>\n",
              "</div>"
            ],
            "text/plain": [
              "                          Facility Type  ...                                         Violations\n",
              "DBA Name                                 ...                                                   \n",
              "DANY'S TACOS                 Restaurant  ...  16. FOOD PROTECTED DURING STORAGE, PREPARATION...\n",
              "BILLY FOOD MARKET INC               NaN  ...                                                NaN\n",
              "TAQUERIA HACIENDA TAPATIA    Restaurant  ...  2. FACILITIES TO MAINTAIN PROPER TEMPERATURE -...\n",
              "WILD GOOSE BAR & GRILL       Restaurant  ...  16. FOOD PROTECTED DURING STORAGE, PREPARATION...\n",
              "PUBLICAN TAVERN K1           Restaurant  ...  18. NO EVIDENCE OF RODENT OR INSECT OUTER OPEN...\n",
              "\n",
              "[5 rows x 8 columns]"
            ]
          },
          "execution_count": 3,
          "metadata": {
            "tags": []
          },
          "output_type": "execute_result"
        }
      ],
      "source": [
        "df = df.set_index('DBA Name')\n",
        "df.head()"
      ]
    },
    {
      "cell_type": "markdown",
      "metadata": {
        "id": "HMC5I-9mX5sT"
      },
      "source": [
        "### Exercise 2\n",
        "<span  style=\"color:green; font-size:16px\">Select the **`Risk`** column as a Series with just the indexing operator. Also select it with attribute access.</span>"
      ]
    },
    {
      "cell_type": "code",
      "execution_count": null,
      "metadata": {
        "colab": {
          "base_uri": "https://localhost:8080/"
        },
        "id": "YYcME5OBX5sT",
        "outputId": "94846981-6dbb-4020-bee3-3beba4261f77"
      },
      "outputs": [
        {
          "data": {
            "text/plain": [
              "DBA Name\n",
              "DANY'S TACOS                 Risk 1 (High)\n",
              "BILLY FOOD MARKET INC         Risk 3 (Low)\n",
              "TAQUERIA HACIENDA TAPATIA    Risk 1 (High)\n",
              "WILD GOOSE BAR & GRILL       Risk 1 (High)\n",
              "PUBLICAN TAVERN K1           Risk 1 (High)\n",
              "Name: Risk, dtype: object"
            ]
          },
          "execution_count": 4,
          "metadata": {
            "tags": []
          },
          "output_type": "execute_result"
        }
      ],
      "source": [
        "df['Risk'].head()"
      ]
    },
    {
      "cell_type": "code",
      "execution_count": null,
      "metadata": {
        "colab": {
          "base_uri": "https://localhost:8080/"
        },
        "id": "KoGZmLkKX5sT",
        "outputId": "bcc2dff9-f809-48f4-a073-60446543db1a"
      },
      "outputs": [
        {
          "data": {
            "text/plain": [
              "DBA Name\n",
              "DANY'S TACOS                 Risk 1 (High)\n",
              "BILLY FOOD MARKET INC         Risk 3 (Low)\n",
              "TAQUERIA HACIENDA TAPATIA    Risk 1 (High)\n",
              "WILD GOOSE BAR & GRILL       Risk 1 (High)\n",
              "PUBLICAN TAVERN K1           Risk 1 (High)\n",
              "Name: Risk, dtype: object"
            ]
          },
          "execution_count": 5,
          "metadata": {
            "tags": []
          },
          "output_type": "execute_result"
        }
      ],
      "source": [
        "df.Risk.head()"
      ]
    },
    {
      "cell_type": "markdown",
      "metadata": {
        "id": "CIVR9tJLX5sU"
      },
      "source": [
        "### Exercise 3\n",
        "<span  style=\"color:green; font-size:16px\">Select the **`Risk`** and **`Results`** columns</span>"
      ]
    },
    {
      "cell_type": "code",
      "execution_count": null,
      "metadata": {
        "colab": {
          "base_uri": "https://localhost:8080/",
          "height": 235
        },
        "id": "5inkb8crX5sU",
        "outputId": "42dfbf1d-f572-4a5c-e618-7538e8b7dee5"
      },
      "outputs": [
        {
          "data": {
            "text/html": [
              "<div>\n",
              "<style scoped>\n",
              "    .dataframe tbody tr th:only-of-type {\n",
              "        vertical-align: middle;\n",
              "    }\n",
              "\n",
              "    .dataframe tbody tr th {\n",
              "        vertical-align: top;\n",
              "    }\n",
              "\n",
              "    .dataframe thead th {\n",
              "        text-align: right;\n",
              "    }\n",
              "</style>\n",
              "<table border=\"1\" class=\"dataframe\">\n",
              "  <thead>\n",
              "    <tr style=\"text-align: right;\">\n",
              "      <th></th>\n",
              "      <th>Risk</th>\n",
              "      <th>Results</th>\n",
              "    </tr>\n",
              "    <tr>\n",
              "      <th>DBA Name</th>\n",
              "      <th></th>\n",
              "      <th></th>\n",
              "    </tr>\n",
              "  </thead>\n",
              "  <tbody>\n",
              "    <tr>\n",
              "      <th>DANY'S TACOS</th>\n",
              "      <td>Risk 1 (High)</td>\n",
              "      <td>Fail</td>\n",
              "    </tr>\n",
              "    <tr>\n",
              "      <th>BILLY FOOD MARKET INC</th>\n",
              "      <td>Risk 3 (Low)</td>\n",
              "      <td>Not Ready</td>\n",
              "    </tr>\n",
              "    <tr>\n",
              "      <th>TAQUERIA HACIENDA TAPATIA</th>\n",
              "      <td>Risk 1 (High)</td>\n",
              "      <td>Pass</td>\n",
              "    </tr>\n",
              "    <tr>\n",
              "      <th>WILD GOOSE BAR &amp; GRILL</th>\n",
              "      <td>Risk 1 (High)</td>\n",
              "      <td>Fail</td>\n",
              "    </tr>\n",
              "    <tr>\n",
              "      <th>PUBLICAN TAVERN K1</th>\n",
              "      <td>Risk 1 (High)</td>\n",
              "      <td>Fail</td>\n",
              "    </tr>\n",
              "  </tbody>\n",
              "</table>\n",
              "</div>"
            ],
            "text/plain": [
              "                                    Risk    Results\n",
              "DBA Name                                           \n",
              "DANY'S TACOS               Risk 1 (High)       Fail\n",
              "BILLY FOOD MARKET INC       Risk 3 (Low)  Not Ready\n",
              "TAQUERIA HACIENDA TAPATIA  Risk 1 (High)       Pass\n",
              "WILD GOOSE BAR & GRILL     Risk 1 (High)       Fail\n",
              "PUBLICAN TAVERN K1         Risk 1 (High)       Fail"
            ]
          },
          "execution_count": 6,
          "metadata": {
            "tags": []
          },
          "output_type": "execute_result"
        }
      ],
      "source": [
        "df[['Risk', 'Results']].head()"
      ]
    },
    {
      "cell_type": "markdown",
      "metadata": {
        "id": "QoOGd-3PX5sU"
      },
      "source": [
        "### Exercise 4\n",
        "<span  style=\"color:green; font-size:16px\">Select a single column as a DataFrame</span>"
      ]
    },
    {
      "cell_type": "code",
      "execution_count": null,
      "metadata": {
        "colab": {
          "base_uri": "https://localhost:8080/",
          "height": 235
        },
        "id": "9e2Pm5sVX5sV",
        "outputId": "d5a905c2-b257-4843-f596-59f1d2aa7fd0"
      },
      "outputs": [
        {
          "data": {
            "text/html": [
              "<div>\n",
              "<style scoped>\n",
              "    .dataframe tbody tr th:only-of-type {\n",
              "        vertical-align: middle;\n",
              "    }\n",
              "\n",
              "    .dataframe tbody tr th {\n",
              "        vertical-align: top;\n",
              "    }\n",
              "\n",
              "    .dataframe thead th {\n",
              "        text-align: right;\n",
              "    }\n",
              "</style>\n",
              "<table border=\"1\" class=\"dataframe\">\n",
              "  <thead>\n",
              "    <tr style=\"text-align: right;\">\n",
              "      <th></th>\n",
              "      <th>Zip</th>\n",
              "    </tr>\n",
              "    <tr>\n",
              "      <th>DBA Name</th>\n",
              "      <th></th>\n",
              "    </tr>\n",
              "  </thead>\n",
              "  <tbody>\n",
              "    <tr>\n",
              "      <th>DANY'S TACOS</th>\n",
              "      <td>60623.0</td>\n",
              "    </tr>\n",
              "    <tr>\n",
              "      <th>BILLY FOOD MARKET INC</th>\n",
              "      <td>60624.0</td>\n",
              "    </tr>\n",
              "    <tr>\n",
              "      <th>TAQUERIA HACIENDA TAPATIA</th>\n",
              "      <td>60623.0</td>\n",
              "    </tr>\n",
              "    <tr>\n",
              "      <th>WILD GOOSE BAR &amp; GRILL</th>\n",
              "      <td>60618.0</td>\n",
              "    </tr>\n",
              "    <tr>\n",
              "      <th>PUBLICAN TAVERN K1</th>\n",
              "      <td>60666.0</td>\n",
              "    </tr>\n",
              "  </tbody>\n",
              "</table>\n",
              "</div>"
            ],
            "text/plain": [
              "                               Zip\n",
              "DBA Name                          \n",
              "DANY'S TACOS               60623.0\n",
              "BILLY FOOD MARKET INC      60624.0\n",
              "TAQUERIA HACIENDA TAPATIA  60623.0\n",
              "WILD GOOSE BAR & GRILL     60618.0\n",
              "PUBLICAN TAVERN K1         60666.0"
            ]
          },
          "execution_count": 7,
          "metadata": {
            "tags": []
          },
          "output_type": "execute_result"
        }
      ],
      "source": [
        "df[['Zip']].head()"
      ]
    },
    {
      "cell_type": "markdown",
      "metadata": {
        "id": "_iWONcaCX5sV"
      },
      "source": [
        "### Exercise 5\n",
        "<span  style=\"color:green; font-size:16px\">Select the row for the restaurant **`WILD GOOSE BAR & GRILL`**. What object is returned?</span>"
      ]
    },
    {
      "cell_type": "code",
      "execution_count": null,
      "metadata": {
        "colab": {
          "base_uri": "https://localhost:8080/"
        },
        "id": "dOE852F1X5sV",
        "outputId": "b106c60d-d035-4bc9-8c8f-caed0e92ceb9"
      },
      "outputs": [
        {
          "data": {
            "text/plain": [
              "Facility Type                                             Restaurant\n",
              "Risk                                                   Risk 1 (High)\n",
              "Address                                          4265 N LINCOLN AVE \n",
              "Zip                                                            60618\n",
              "Inspection Date                                           03/27/2017\n",
              "Inspection Type                                              Canvass\n",
              "Results                                                         Fail\n",
              "Violations         16. FOOD PROTECTED DURING STORAGE, PREPARATION...\n",
              "Name: WILD GOOSE BAR & GRILL, dtype: object"
            ]
          },
          "execution_count": 8,
          "metadata": {
            "tags": []
          },
          "output_type": "execute_result"
        }
      ],
      "source": [
        "df.loc['WILD GOOSE BAR & GRILL'] # returns a Series"
      ]
    },
    {
      "cell_type": "markdown",
      "metadata": {
        "id": "1hGjEOw5X5sV"
      },
      "source": [
        "### Exercise 6\n",
        "<span  style=\"color:green; font-size:16px\">Select the rows for the restaurants **`WILD GOOSE BAR & GRILL`** and **`TAQUERIA HACIENDA TAPATIA`** along with columns **`Risk`** and **`Results`**.</span>"
      ]
    },
    {
      "cell_type": "code",
      "execution_count": null,
      "metadata": {
        "colab": {
          "base_uri": "https://localhost:8080/",
          "height": 142
        },
        "id": "oM7sj6jtX5sW",
        "outputId": "60fb8e92-021d-484e-90d4-28392197f1c6"
      },
      "outputs": [
        {
          "data": {
            "text/html": [
              "<div>\n",
              "<style scoped>\n",
              "    .dataframe tbody tr th:only-of-type {\n",
              "        vertical-align: middle;\n",
              "    }\n",
              "\n",
              "    .dataframe tbody tr th {\n",
              "        vertical-align: top;\n",
              "    }\n",
              "\n",
              "    .dataframe thead th {\n",
              "        text-align: right;\n",
              "    }\n",
              "</style>\n",
              "<table border=\"1\" class=\"dataframe\">\n",
              "  <thead>\n",
              "    <tr style=\"text-align: right;\">\n",
              "      <th></th>\n",
              "      <th>Risk</th>\n",
              "      <th>Results</th>\n",
              "    </tr>\n",
              "    <tr>\n",
              "      <th>DBA Name</th>\n",
              "      <th></th>\n",
              "      <th></th>\n",
              "    </tr>\n",
              "  </thead>\n",
              "  <tbody>\n",
              "    <tr>\n",
              "      <th>WILD GOOSE BAR &amp; GRILL</th>\n",
              "      <td>Risk 1 (High)</td>\n",
              "      <td>Fail</td>\n",
              "    </tr>\n",
              "    <tr>\n",
              "      <th>TAQUERIA HACIENDA TAPATIA</th>\n",
              "      <td>Risk 1 (High)</td>\n",
              "      <td>Pass</td>\n",
              "    </tr>\n",
              "  </tbody>\n",
              "</table>\n",
              "</div>"
            ],
            "text/plain": [
              "                                    Risk Results\n",
              "DBA Name                                        \n",
              "WILD GOOSE BAR & GRILL     Risk 1 (High)    Fail\n",
              "TAQUERIA HACIENDA TAPATIA  Risk 1 (High)    Pass"
            ]
          },
          "execution_count": 9,
          "metadata": {
            "tags": []
          },
          "output_type": "execute_result"
        }
      ],
      "source": [
        "df.loc[['WILD GOOSE BAR & GRILL', 'TAQUERIA HACIENDA TAPATIA'], ['Risk', 'Results']]"
      ]
    },
    {
      "cell_type": "markdown",
      "metadata": {
        "id": "vppDjaK6X5sW"
      },
      "source": [
        "### Exercise 7\n",
        "<span  style=\"color:green; font-size:16px\">What is the risk of restaurant **`SCRUB A DUB`**?</span>"
      ]
    },
    {
      "cell_type": "code",
      "execution_count": null,
      "metadata": {
        "colab": {
          "base_uri": "https://localhost:8080/",
          "height": 35
        },
        "id": "5OF2Kng9X5sW",
        "outputId": "a7e945f3-375a-4038-c000-0d6dea44a2ad"
      },
      "outputs": [
        {
          "data": {
            "application/vnd.google.colaboratory.intrinsic+json": {
              "type": "string"
            },
            "text/plain": [
              "'Risk 2 (Medium)'"
            ]
          },
          "execution_count": 10,
          "metadata": {
            "tags": []
          },
          "output_type": "execute_result"
        }
      ],
      "source": [
        "df.loc['SCRUB A DUB', 'Risk']"
      ]
    },
    {
      "cell_type": "markdown",
      "metadata": {
        "id": "FDIJ6u3aX5sW"
      },
      "source": [
        "### Exercise 8\n",
        "<span  style=\"color:green; font-size:16px\">Select every 3,000th restaurant from **`THRESHOLD SCHOOL`** to **`SCRUB A DUB`** and the columns from **`Inspection Type`** on to the end of the DataFrame.</span>"
      ]
    },
    {
      "cell_type": "code",
      "execution_count": null,
      "metadata": {
        "colab": {
          "base_uri": "https://localhost:8080/",
          "height": 359
        },
        "id": "nYtYHb9IX5sX",
        "outputId": "c5ca980d-3222-47cc-96c7-1df6bf044e36"
      },
      "outputs": [
        {
          "data": {
            "text/html": [
              "<div>\n",
              "<style scoped>\n",
              "    .dataframe tbody tr th:only-of-type {\n",
              "        vertical-align: middle;\n",
              "    }\n",
              "\n",
              "    .dataframe tbody tr th {\n",
              "        vertical-align: top;\n",
              "    }\n",
              "\n",
              "    .dataframe thead th {\n",
              "        text-align: right;\n",
              "    }\n",
              "</style>\n",
              "<table border=\"1\" class=\"dataframe\">\n",
              "  <thead>\n",
              "    <tr style=\"text-align: right;\">\n",
              "      <th></th>\n",
              "      <th>Inspection Type</th>\n",
              "      <th>Results</th>\n",
              "      <th>Violations</th>\n",
              "    </tr>\n",
              "    <tr>\n",
              "      <th>DBA Name</th>\n",
              "      <th></th>\n",
              "      <th></th>\n",
              "      <th></th>\n",
              "    </tr>\n",
              "  </thead>\n",
              "  <tbody>\n",
              "    <tr>\n",
              "      <th>THRESHOLD SCHOOL</th>\n",
              "      <td>Canvass</td>\n",
              "      <td>Pass</td>\n",
              "      <td>38. VENTILATION: ROOMS AND EQUIPMENT VENTED AS...</td>\n",
              "    </tr>\n",
              "    <tr>\n",
              "      <th>SAN JOSE FAST FOOD</th>\n",
              "      <td>Canvass</td>\n",
              "      <td>Out of Business</td>\n",
              "      <td>NaN</td>\n",
              "    </tr>\n",
              "    <tr>\n",
              "      <th>CHUCHOS ON ADDISON INC</th>\n",
              "      <td>Canvass</td>\n",
              "      <td>Pass w/ Conditions</td>\n",
              "      <td>33. FOOD AND NON-FOOD CONTACT EQUIPMENT UTENSI...</td>\n",
              "    </tr>\n",
              "    <tr>\n",
              "      <th>PIZZERIA AROMA</th>\n",
              "      <td>Canvass Re-Inspection</td>\n",
              "      <td>Pass</td>\n",
              "      <td>2. FACILITIES TO MAINTAIN PROPER TEMPERATURE -...</td>\n",
              "    </tr>\n",
              "    <tr>\n",
              "      <th>JEWEL FOOD STORE #3210</th>\n",
              "      <td>Canvass</td>\n",
              "      <td>No Entry</td>\n",
              "      <td>NaN</td>\n",
              "    </tr>\n",
              "    <tr>\n",
              "      <th>EGANS TAVERN</th>\n",
              "      <td>Canvass</td>\n",
              "      <td>Out of Business</td>\n",
              "      <td>NaN</td>\n",
              "    </tr>\n",
              "    <tr>\n",
              "      <th>Los Amigos Grill</th>\n",
              "      <td>Canvass</td>\n",
              "      <td>Out of Business</td>\n",
              "      <td>NaN</td>\n",
              "    </tr>\n",
              "    <tr>\n",
              "      <th>JOHNNY VAN'S SMOKEHOUSE</th>\n",
              "      <td>License</td>\n",
              "      <td>Pass</td>\n",
              "      <td>NaN</td>\n",
              "    </tr>\n",
              "    <tr>\n",
              "      <th>WEN   CAFE INC</th>\n",
              "      <td>Out of Business</td>\n",
              "      <td>Fail</td>\n",
              "      <td>NaN</td>\n",
              "    </tr>\n",
              "  </tbody>\n",
              "</table>\n",
              "</div>"
            ],
            "text/plain": [
              "                               Inspection Type  ...                                         Violations\n",
              "DBA Name                                        ...                                                   \n",
              "THRESHOLD SCHOOL                       Canvass  ...  38. VENTILATION: ROOMS AND EQUIPMENT VENTED AS...\n",
              "SAN JOSE FAST FOOD                     Canvass  ...                                                NaN\n",
              "CHUCHOS ON ADDISON INC                 Canvass  ...  33. FOOD AND NON-FOOD CONTACT EQUIPMENT UTENSI...\n",
              "PIZZERIA AROMA           Canvass Re-Inspection  ...  2. FACILITIES TO MAINTAIN PROPER TEMPERATURE -...\n",
              "JEWEL FOOD STORE #3210                 Canvass  ...                                                NaN\n",
              "EGANS TAVERN                           Canvass  ...                                                NaN\n",
              "Los Amigos Grill                       Canvass  ...                                                NaN\n",
              "JOHNNY VAN'S SMOKEHOUSE                License  ...                                                NaN\n",
              "WEN   CAFE INC                 Out of Business  ...                                                NaN\n",
              "\n",
              "[9 rows x 3 columns]"
            ]
          },
          "execution_count": 11,
          "metadata": {
            "tags": []
          },
          "output_type": "execute_result"
        }
      ],
      "source": [
        "df.loc['THRESHOLD SCHOOL':'SCRUB A DUB':3000, 'Inspection Type':]"
      ]
    },
    {
      "cell_type": "markdown",
      "metadata": {
        "id": "WgGdpGh6X5sX"
      },
      "source": [
        "### Exercise 9\n",
        "<span  style=\"color:green; font-size:16px\">Select all columns from the 500th restaurant to the 510th</span>"
      ]
    },
    {
      "cell_type": "code",
      "execution_count": null,
      "metadata": {
        "colab": {
          "base_uri": "https://localhost:8080/",
          "height": 390
        },
        "id": "Z3KI6z2JX5sX",
        "outputId": "c68f362c-85b1-4c10-894b-7daa18d93201",
        "scrolled": false
      },
      "outputs": [
        {
          "data": {
            "text/html": [
              "<div>\n",
              "<style scoped>\n",
              "    .dataframe tbody tr th:only-of-type {\n",
              "        vertical-align: middle;\n",
              "    }\n",
              "\n",
              "    .dataframe tbody tr th {\n",
              "        vertical-align: top;\n",
              "    }\n",
              "\n",
              "    .dataframe thead th {\n",
              "        text-align: right;\n",
              "    }\n",
              "</style>\n",
              "<table border=\"1\" class=\"dataframe\">\n",
              "  <thead>\n",
              "    <tr style=\"text-align: right;\">\n",
              "      <th></th>\n",
              "      <th>Facility Type</th>\n",
              "      <th>Risk</th>\n",
              "      <th>Address</th>\n",
              "      <th>Zip</th>\n",
              "      <th>Inspection Date</th>\n",
              "      <th>Inspection Type</th>\n",
              "      <th>Results</th>\n",
              "      <th>Violations</th>\n",
              "    </tr>\n",
              "    <tr>\n",
              "      <th>DBA Name</th>\n",
              "      <th></th>\n",
              "      <th></th>\n",
              "      <th></th>\n",
              "      <th></th>\n",
              "      <th></th>\n",
              "      <th></th>\n",
              "      <th></th>\n",
              "      <th></th>\n",
              "    </tr>\n",
              "  </thead>\n",
              "  <tbody>\n",
              "    <tr>\n",
              "      <th>THE MECCA RESTAURANT</th>\n",
              "      <td>Restaurant</td>\n",
              "      <td>Risk 1 (High)</td>\n",
              "      <td>6666 N NORTHWEST HWY</td>\n",
              "      <td>60631.0</td>\n",
              "      <td>03/14/2017</td>\n",
              "      <td>Canvass</td>\n",
              "      <td>Pass w/ Conditions</td>\n",
              "      <td>8. SANITIZING RINSE FOR EQUIPMENT AND UTENSILS...</td>\n",
              "    </tr>\n",
              "    <tr>\n",
              "      <th>L &amp; T CHINA FAST WOK INC.</th>\n",
              "      <td>Restaurant</td>\n",
              "      <td>Risk 1 (High)</td>\n",
              "      <td>2020 N CALIFORNIA AVE</td>\n",
              "      <td>60647.0</td>\n",
              "      <td>03/14/2017</td>\n",
              "      <td>Canvass</td>\n",
              "      <td>Pass</td>\n",
              "      <td>33. FOOD AND NON-FOOD CONTACT EQUIPMENT UTENSI...</td>\n",
              "    </tr>\n",
              "    <tr>\n",
              "      <th>SCHNEIDER  SENIOR  APARTMENT</th>\n",
              "      <td>Golden Diner</td>\n",
              "      <td>Risk 1 (High)</td>\n",
              "      <td>1750 W PETERSON AVE</td>\n",
              "      <td>60660.0</td>\n",
              "      <td>03/14/2017</td>\n",
              "      <td>Canvass Re-Inspection</td>\n",
              "      <td>Pass</td>\n",
              "      <td>35. WALLS, CEILINGS, ATTACHED EQUIPMENT CONSTR...</td>\n",
              "    </tr>\n",
              "    <tr>\n",
              "      <th>ECKHARDT CAFE</th>\n",
              "      <td>Restaurant</td>\n",
              "      <td>Risk 1 (High)</td>\n",
              "      <td>5640 S ELLIS AVE</td>\n",
              "      <td>60637.0</td>\n",
              "      <td>03/14/2017</td>\n",
              "      <td>Canvass</td>\n",
              "      <td>Pass</td>\n",
              "      <td>33. FOOD AND NON-FOOD CONTACT EQUIPMENT UTENSI...</td>\n",
              "    </tr>\n",
              "    <tr>\n",
              "      <th>WING ZONE</th>\n",
              "      <td>Restaurant</td>\n",
              "      <td>Risk 1 (High)</td>\n",
              "      <td>1757 W 87TH ST</td>\n",
              "      <td>60620.0</td>\n",
              "      <td>03/14/2017</td>\n",
              "      <td>Canvass</td>\n",
              "      <td>Out of Business</td>\n",
              "      <td>NaN</td>\n",
              "    </tr>\n",
              "    <tr>\n",
              "      <th>ARBYS</th>\n",
              "      <td>Restaurant</td>\n",
              "      <td>Risk 1 (High)</td>\n",
              "      <td>500 W MADISON ST</td>\n",
              "      <td>60661.0</td>\n",
              "      <td>03/14/2017</td>\n",
              "      <td>Canvass</td>\n",
              "      <td>Pass</td>\n",
              "      <td>34. FLOORS: CONSTRUCTED PER CODE, CLEANED, GOO...</td>\n",
              "    </tr>\n",
              "    <tr>\n",
              "      <th>LAS ISLAS MARIAS</th>\n",
              "      <td>Restaurant</td>\n",
              "      <td>Risk 1 (High)</td>\n",
              "      <td>8205-8209 S PULASKI RD</td>\n",
              "      <td>60652.0</td>\n",
              "      <td>03/14/2017</td>\n",
              "      <td>Canvass</td>\n",
              "      <td>Pass</td>\n",
              "      <td>30. FOOD IN ORIGINAL CONTAINER, PROPERLY LABEL...</td>\n",
              "    </tr>\n",
              "    <tr>\n",
              "      <th>MARGARET'S</th>\n",
              "      <td>Restaurant</td>\n",
              "      <td>Risk 1 (High)</td>\n",
              "      <td>5134 W IRVING PARK RD</td>\n",
              "      <td>60641.0</td>\n",
              "      <td>03/14/2017</td>\n",
              "      <td>Canvass</td>\n",
              "      <td>Pass</td>\n",
              "      <td>33. FOOD AND NON-FOOD CONTACT EQUIPMENT UTENSI...</td>\n",
              "    </tr>\n",
              "    <tr>\n",
              "      <th>POPEYES FAMOUS FRIED CHICKEN</th>\n",
              "      <td>Restaurant</td>\n",
              "      <td>Risk 2 (Medium)</td>\n",
              "      <td>9516 S VINCENNES AVE</td>\n",
              "      <td>60643.0</td>\n",
              "      <td>03/14/2017</td>\n",
              "      <td>Complaint</td>\n",
              "      <td>Pass w/ Conditions</td>\n",
              "      <td>3. POTENTIALLY HAZARDOUS FOOD MEETS TEMPERATUR...</td>\n",
              "    </tr>\n",
              "    <tr>\n",
              "      <th>PJ PIZZA COMPANY 1 DBA PAPA JOHNS</th>\n",
              "      <td>Restaurant</td>\n",
              "      <td>Risk 2 (Medium)</td>\n",
              "      <td>1755 W 87TH ST</td>\n",
              "      <td>60620.0</td>\n",
              "      <td>03/14/2017</td>\n",
              "      <td>Canvass</td>\n",
              "      <td>Out of Business</td>\n",
              "      <td>NaN</td>\n",
              "    </tr>\n",
              "  </tbody>\n",
              "</table>\n",
              "</div>"
            ],
            "text/plain": [
              "                                  Facility Type  ...                                         Violations\n",
              "DBA Name                                         ...                                                   \n",
              "THE MECCA RESTAURANT                 Restaurant  ...  8. SANITIZING RINSE FOR EQUIPMENT AND UTENSILS...\n",
              "L & T CHINA FAST WOK INC.            Restaurant  ...  33. FOOD AND NON-FOOD CONTACT EQUIPMENT UTENSI...\n",
              "SCHNEIDER  SENIOR  APARTMENT       Golden Diner  ...  35. WALLS, CEILINGS, ATTACHED EQUIPMENT CONSTR...\n",
              "ECKHARDT CAFE                        Restaurant  ...  33. FOOD AND NON-FOOD CONTACT EQUIPMENT UTENSI...\n",
              "WING ZONE                            Restaurant  ...                                                NaN\n",
              "ARBYS                                Restaurant  ...  34. FLOORS: CONSTRUCTED PER CODE, CLEANED, GOO...\n",
              "LAS ISLAS MARIAS                     Restaurant  ...  30. FOOD IN ORIGINAL CONTAINER, PROPERLY LABEL...\n",
              "MARGARET'S                           Restaurant  ...  33. FOOD AND NON-FOOD CONTACT EQUIPMENT UTENSI...\n",
              "POPEYES FAMOUS FRIED CHICKEN         Restaurant  ...  3. POTENTIALLY HAZARDOUS FOOD MEETS TEMPERATUR...\n",
              "PJ PIZZA COMPANY 1 DBA PAPA JOHNS    Restaurant  ...                                                NaN\n",
              "\n",
              "[10 rows x 8 columns]"
            ]
          },
          "execution_count": 12,
          "metadata": {
            "tags": []
          },
          "output_type": "execute_result"
        }
      ],
      "source": [
        "df.iloc[500:510]"
      ]
    },
    {
      "cell_type": "markdown",
      "metadata": {
        "id": "X5FvgmYoX5sX"
      },
      "source": [
        "### Exercise 10\n",
        "<span  style=\"color:green; font-size:16px\">Select restaurants 100, 1,000 and 10,000 along with columns 5, 3, and 1</span>"
      ]
    },
    {
      "cell_type": "code",
      "execution_count": null,
      "metadata": {
        "colab": {
          "base_uri": "https://localhost:8080/",
          "height": 173
        },
        "id": "mD0hBIUFX5sY",
        "outputId": "3d30cb57-0479-4bd9-cbfc-09ccdbe108b5"
      },
      "outputs": [
        {
          "data": {
            "text/html": [
              "<div>\n",
              "<style scoped>\n",
              "    .dataframe tbody tr th:only-of-type {\n",
              "        vertical-align: middle;\n",
              "    }\n",
              "\n",
              "    .dataframe tbody tr th {\n",
              "        vertical-align: top;\n",
              "    }\n",
              "\n",
              "    .dataframe thead th {\n",
              "        text-align: right;\n",
              "    }\n",
              "</style>\n",
              "<table border=\"1\" class=\"dataframe\">\n",
              "  <thead>\n",
              "    <tr style=\"text-align: right;\">\n",
              "      <th></th>\n",
              "      <th>Inspection Type</th>\n",
              "      <th>Zip</th>\n",
              "      <th>Risk</th>\n",
              "    </tr>\n",
              "    <tr>\n",
              "      <th>DBA Name</th>\n",
              "      <th></th>\n",
              "      <th></th>\n",
              "      <th></th>\n",
              "    </tr>\n",
              "  </thead>\n",
              "  <tbody>\n",
              "    <tr>\n",
              "      <th>TAQUERIA LA CANTERA</th>\n",
              "      <td>License</td>\n",
              "      <td>60608.0</td>\n",
              "      <td>Risk 1 (High)</td>\n",
              "    </tr>\n",
              "    <tr>\n",
              "      <th>PARK TAVERN CHICAGO</th>\n",
              "      <td>Complaint</td>\n",
              "      <td>60612.0</td>\n",
              "      <td>Risk 1 (High)</td>\n",
              "    </tr>\n",
              "    <tr>\n",
              "      <th>LITTLE VILLAGE HIGH SCHOOL</th>\n",
              "      <td>Canvass</td>\n",
              "      <td>60623.0</td>\n",
              "      <td>Risk 1 (High)</td>\n",
              "    </tr>\n",
              "  </tbody>\n",
              "</table>\n",
              "</div>"
            ],
            "text/plain": [
              "                           Inspection Type      Zip           Risk\n",
              "DBA Name                                                          \n",
              "TAQUERIA LA CANTERA                License  60608.0  Risk 1 (High)\n",
              "PARK TAVERN CHICAGO              Complaint  60612.0  Risk 1 (High)\n",
              "LITTLE VILLAGE HIGH SCHOOL         Canvass  60623.0  Risk 1 (High)"
            ]
          },
          "execution_count": 13,
          "metadata": {
            "tags": []
          },
          "output_type": "execute_result"
        }
      ],
      "source": [
        "df.iloc[[100, 1000, 10000], [5, 3, 1]]"
      ]
    },
    {
      "cell_type": "markdown",
      "metadata": {
        "id": "Wda80jEWX5sY"
      },
      "source": [
        "### Exercise 11\n",
        "<span  style=\"color:green; font-size:16px\">Select the **`Risk`** column and save it to a Series</span>"
      ]
    },
    {
      "cell_type": "code",
      "execution_count": null,
      "metadata": {
        "colab": {
          "base_uri": "https://localhost:8080/"
        },
        "id": "JEQlyrpoX5sY",
        "outputId": "85120a86-dc58-47be-8384-f3a5e2921892"
      },
      "outputs": [
        {
          "data": {
            "text/plain": [
              "DBA Name\n",
              "DANY'S TACOS                 Risk 1 (High)\n",
              "BILLY FOOD MARKET INC         Risk 3 (Low)\n",
              "TAQUERIA HACIENDA TAPATIA    Risk 1 (High)\n",
              "WILD GOOSE BAR & GRILL       Risk 1 (High)\n",
              "PUBLICAN TAVERN K1           Risk 1 (High)\n",
              "Name: Risk, dtype: object"
            ]
          },
          "execution_count": 14,
          "metadata": {
            "tags": []
          },
          "output_type": "execute_result"
        }
      ],
      "source": [
        "risk = df['Risk']\n",
        "risk.head()"
      ]
    },
    {
      "cell_type": "markdown",
      "metadata": {
        "id": "oXDQbI89X5sY"
      },
      "source": [
        "### Exercise 12\n",
        "<span  style=\"color:green; font-size:16px\">Using the risk Series, select **`ARBYS`** and **`POPEYES FAMOUS FRIED CHICKEN`**</span>"
      ]
    },
    {
      "cell_type": "code",
      "execution_count": null,
      "metadata": {
        "colab": {
          "base_uri": "https://localhost:8080/"
        },
        "id": "clXZE4MfX5sY",
        "outputId": "141e0da9-ffd3-4f91-ac8a-ce0c7b44dbb3"
      },
      "outputs": [
        {
          "data": {
            "text/plain": [
              "DBA Name\n",
              "ARBYS                             Risk 1 (High)\n",
              "POPEYES FAMOUS FRIED CHICKEN    Risk 2 (Medium)\n",
              "Name: Risk, dtype: object"
            ]
          },
          "execution_count": 15,
          "metadata": {
            "tags": []
          },
          "output_type": "execute_result"
        }
      ],
      "source": [
        "risk.loc[['ARBYS', 'POPEYES FAMOUS FRIED CHICKEN']]"
      ]
    },
    {
      "cell_type": "markdown",
      "metadata": {
        "collapsed": true,
        "id": "cx8jiiC7X5sZ"
      },
      "source": [
        "# Part 2: Boolean Indexing"
      ]
    },
    {
      "cell_type": "code",
      "execution_count": null,
      "metadata": {
        "colab": {
          "base_uri": "https://localhost:8080/",
          "height": 204
        },
        "id": "n8LAIXCaX5sZ",
        "outputId": "9ac78433-2be2-4b86-a661-814789248fef"
      },
      "outputs": [
        {
          "data": {
            "text/html": [
              "<div>\n",
              "<style scoped>\n",
              "    .dataframe tbody tr th:only-of-type {\n",
              "        vertical-align: middle;\n",
              "    }\n",
              "\n",
              "    .dataframe tbody tr th {\n",
              "        vertical-align: top;\n",
              "    }\n",
              "\n",
              "    .dataframe thead th {\n",
              "        text-align: right;\n",
              "    }\n",
              "</style>\n",
              "<table border=\"1\" class=\"dataframe\">\n",
              "  <thead>\n",
              "    <tr style=\"text-align: right;\">\n",
              "      <th></th>\n",
              "      <th>id</th>\n",
              "      <th>creationdate</th>\n",
              "      <th>score</th>\n",
              "      <th>viewcount</th>\n",
              "      <th>title</th>\n",
              "      <th>answercount</th>\n",
              "      <th>commentcount</th>\n",
              "      <th>favoritecount</th>\n",
              "      <th>quest_name</th>\n",
              "      <th>quest_rep</th>\n",
              "      <th>ans_name</th>\n",
              "      <th>ans_rep</th>\n",
              "    </tr>\n",
              "  </thead>\n",
              "  <tbody>\n",
              "    <tr>\n",
              "      <th>0</th>\n",
              "      <td>5486226</td>\n",
              "      <td>2011-03-30 12:26:50</td>\n",
              "      <td>4</td>\n",
              "      <td>2113</td>\n",
              "      <td>Rolling median in python</td>\n",
              "      <td>3</td>\n",
              "      <td>4</td>\n",
              "      <td>1.0</td>\n",
              "      <td>yueerhu</td>\n",
              "      <td>125.0</td>\n",
              "      <td>Mike Pennington</td>\n",
              "      <td>26995.0</td>\n",
              "    </tr>\n",
              "    <tr>\n",
              "      <th>1</th>\n",
              "      <td>5515021</td>\n",
              "      <td>2011-04-01 14:50:44</td>\n",
              "      <td>8</td>\n",
              "      <td>7015</td>\n",
              "      <td>Compute a compounded return series in Python</td>\n",
              "      <td>3</td>\n",
              "      <td>6</td>\n",
              "      <td>7.0</td>\n",
              "      <td>Jason Strimpel</td>\n",
              "      <td>3301.0</td>\n",
              "      <td>Mike Pennington</td>\n",
              "      <td>26995.0</td>\n",
              "    </tr>\n",
              "    <tr>\n",
              "      <th>2</th>\n",
              "      <td>5558607</td>\n",
              "      <td>2011-04-05 21:13:50</td>\n",
              "      <td>2</td>\n",
              "      <td>7392</td>\n",
              "      <td>Sort a pandas DataMatrix in ascending order</td>\n",
              "      <td>2</td>\n",
              "      <td>0</td>\n",
              "      <td>1.0</td>\n",
              "      <td>Jason Strimpel</td>\n",
              "      <td>3301.0</td>\n",
              "      <td>Wes McKinney</td>\n",
              "      <td>43310.0</td>\n",
              "    </tr>\n",
              "    <tr>\n",
              "      <th>3</th>\n",
              "      <td>6467832</td>\n",
              "      <td>2011-06-24 12:31:45</td>\n",
              "      <td>9</td>\n",
              "      <td>13056</td>\n",
              "      <td>How to get the correlation between two timeser...</td>\n",
              "      <td>1</td>\n",
              "      <td>0</td>\n",
              "      <td>7.0</td>\n",
              "      <td>user814005</td>\n",
              "      <td>117.0</td>\n",
              "      <td>Wes McKinney</td>\n",
              "      <td>43310.0</td>\n",
              "    </tr>\n",
              "    <tr>\n",
              "      <th>4</th>\n",
              "      <td>7577546</td>\n",
              "      <td>2011-09-28 01:58:38</td>\n",
              "      <td>9</td>\n",
              "      <td>2488</td>\n",
              "      <td>Using pandas, how do I subsample a large DataF...</td>\n",
              "      <td>1</td>\n",
              "      <td>0</td>\n",
              "      <td>5.0</td>\n",
              "      <td>Uri Laserson</td>\n",
              "      <td>958.0</td>\n",
              "      <td>HYRY</td>\n",
              "      <td>54137.0</td>\n",
              "    </tr>\n",
              "  </tbody>\n",
              "</table>\n",
              "</div>"
            ],
            "text/plain": [
              "        id         creationdate  score  ...  quest_rep         ans_name  ans_rep\n",
              "0  5486226  2011-03-30 12:26:50      4  ...      125.0  Mike Pennington  26995.0\n",
              "1  5515021  2011-04-01 14:50:44      8  ...     3301.0  Mike Pennington  26995.0\n",
              "2  5558607  2011-04-05 21:13:50      2  ...     3301.0     Wes McKinney  43310.0\n",
              "3  6467832  2011-06-24 12:31:45      9  ...      117.0     Wes McKinney  43310.0\n",
              "4  7577546  2011-09-28 01:58:38      9  ...      958.0             HYRY  54137.0\n",
              "\n",
              "[5 rows x 12 columns]"
            ]
          },
          "execution_count": 16,
          "metadata": {
            "tags": []
          },
          "output_type": "execute_result"
        }
      ],
      "source": [
        "import pandas as pd\n",
        "import numpy as np\n",
        "\n",
        "so = pd.read_csv('https://raw.githubusercontent.com/michalis0/Business-Intelligence-and-Analytics/master/week2%20-%20Pandas%20and%20Python/Pandas/data/stackoverflow_qa.csv')\n",
        "so.head()"
      ]
    },
    {
      "cell_type": "markdown",
      "metadata": {
        "id": "fYfUYVHMX5sZ"
      },
      "source": [
        "### Exercise 1\n",
        "<span  style=\"color:green; font-size:16px\">Find all the questions that have exactly 5 answers.</span>"
      ]
    },
    {
      "cell_type": "code",
      "execution_count": null,
      "metadata": {
        "colab": {
          "base_uri": "https://localhost:8080/",
          "height": 204
        },
        "id": "TbV2AFcOX5sZ",
        "outputId": "afcc281f-080e-477e-f50b-3702b60710fb"
      },
      "outputs": [
        {
          "data": {
            "text/html": [
              "<div>\n",
              "<style scoped>\n",
              "    .dataframe tbody tr th:only-of-type {\n",
              "        vertical-align: middle;\n",
              "    }\n",
              "\n",
              "    .dataframe tbody tr th {\n",
              "        vertical-align: top;\n",
              "    }\n",
              "\n",
              "    .dataframe thead th {\n",
              "        text-align: right;\n",
              "    }\n",
              "</style>\n",
              "<table border=\"1\" class=\"dataframe\">\n",
              "  <thead>\n",
              "    <tr style=\"text-align: right;\">\n",
              "      <th></th>\n",
              "      <th>id</th>\n",
              "      <th>creationdate</th>\n",
              "      <th>score</th>\n",
              "      <th>viewcount</th>\n",
              "      <th>title</th>\n",
              "      <th>answercount</th>\n",
              "      <th>commentcount</th>\n",
              "      <th>favoritecount</th>\n",
              "      <th>quest_name</th>\n",
              "      <th>quest_rep</th>\n",
              "      <th>ans_name</th>\n",
              "      <th>ans_rep</th>\n",
              "    </tr>\n",
              "  </thead>\n",
              "  <tbody>\n",
              "    <tr>\n",
              "      <th>75</th>\n",
              "      <td>10373660</td>\n",
              "      <td>2012-04-29 16:10:35</td>\n",
              "      <td>199</td>\n",
              "      <td>207980</td>\n",
              "      <td>Converting a Pandas GroupBy object to DataFrame</td>\n",
              "      <td>5</td>\n",
              "      <td>0</td>\n",
              "      <td>90.0</td>\n",
              "      <td>saveenr</td>\n",
              "      <td>2421.0</td>\n",
              "      <td>Wes McKinney</td>\n",
              "      <td>43310.0</td>\n",
              "    </tr>\n",
              "    <tr>\n",
              "      <th>115</th>\n",
              "      <td>10791661</td>\n",
              "      <td>2012-05-29 00:06:52</td>\n",
              "      <td>7</td>\n",
              "      <td>12210</td>\n",
              "      <td>How do I discretize values in a pandas DataFra...</td>\n",
              "      <td>5</td>\n",
              "      <td>0</td>\n",
              "      <td>3.0</td>\n",
              "      <td>Uri Laserson</td>\n",
              "      <td>958.0</td>\n",
              "      <td>lbolla</td>\n",
              "      <td>4552.0</td>\n",
              "    </tr>\n",
              "    <tr>\n",
              "      <th>130</th>\n",
              "      <td>10972410</td>\n",
              "      <td>2012-06-10 21:12:43</td>\n",
              "      <td>19</td>\n",
              "      <td>46428</td>\n",
              "      <td>pandas: combine two columns in a DataFrame</td>\n",
              "      <td>5</td>\n",
              "      <td>0</td>\n",
              "      <td>5.0</td>\n",
              "      <td>BFTM</td>\n",
              "      <td>895.0</td>\n",
              "      <td>BrenBarn</td>\n",
              "      <td>136870.0</td>\n",
              "    </tr>\n",
              "    <tr>\n",
              "      <th>189</th>\n",
              "      <td>11391969</td>\n",
              "      <td>2012-07-09 09:04:33</td>\n",
              "      <td>44</td>\n",
              "      <td>27467</td>\n",
              "      <td>How to group pandas DataFrame entries by date ...</td>\n",
              "      <td>5</td>\n",
              "      <td>1</td>\n",
              "      <td>15.0</td>\n",
              "      <td>Boris Gorelik</td>\n",
              "      <td>9605.0</td>\n",
              "      <td>Wes McKinney</td>\n",
              "      <td>43310.0</td>\n",
              "    </tr>\n",
              "    <tr>\n",
              "      <th>246</th>\n",
              "      <td>11811392</td>\n",
              "      <td>2012-08-04 19:25:34</td>\n",
              "      <td>17</td>\n",
              "      <td>20051</td>\n",
              "      <td>How to generate a list from a pandas DataFrame...</td>\n",
              "      <td>5</td>\n",
              "      <td>0</td>\n",
              "      <td>6.0</td>\n",
              "      <td>turtle</td>\n",
              "      <td>1260.0</td>\n",
              "      <td>BrenBarn</td>\n",
              "      <td>136870.0</td>\n",
              "    </tr>\n",
              "  </tbody>\n",
              "</table>\n",
              "</div>"
            ],
            "text/plain": [
              "           id         creationdate  score  ...  quest_rep      ans_name   ans_rep\n",
              "75   10373660  2012-04-29 16:10:35    199  ...     2421.0  Wes McKinney   43310.0\n",
              "115  10791661  2012-05-29 00:06:52      7  ...      958.0        lbolla    4552.0\n",
              "130  10972410  2012-06-10 21:12:43     19  ...      895.0      BrenBarn  136870.0\n",
              "189  11391969  2012-07-09 09:04:33     44  ...     9605.0  Wes McKinney   43310.0\n",
              "246  11811392  2012-08-04 19:25:34     17  ...     1260.0      BrenBarn  136870.0\n",
              "\n",
              "[5 rows x 12 columns]"
            ]
          },
          "execution_count": 17,
          "metadata": {
            "tags": []
          },
          "output_type": "execute_result"
        }
      ],
      "source": [
        "so[so['answercount'] == 5].head()"
      ]
    },
    {
      "cell_type": "markdown",
      "metadata": {
        "id": "yoLnoKWrX5sa"
      },
      "source": [
        "### Exercise 2\n",
        "<span  style=\"color:green; font-size:16px\">Find all the questions that have less than 10 views</span>"
      ]
    },
    {
      "cell_type": "code",
      "execution_count": null,
      "metadata": {
        "colab": {
          "base_uri": "https://localhost:8080/",
          "height": 204
        },
        "id": "bv2DNHQLX5sa",
        "outputId": "1fd8a669-106b-482a-a0bd-846a18f907c9"
      },
      "outputs": [
        {
          "data": {
            "text/html": [
              "<div>\n",
              "<style scoped>\n",
              "    .dataframe tbody tr th:only-of-type {\n",
              "        vertical-align: middle;\n",
              "    }\n",
              "\n",
              "    .dataframe tbody tr th {\n",
              "        vertical-align: top;\n",
              "    }\n",
              "\n",
              "    .dataframe thead th {\n",
              "        text-align: right;\n",
              "    }\n",
              "</style>\n",
              "<table border=\"1\" class=\"dataframe\">\n",
              "  <thead>\n",
              "    <tr style=\"text-align: right;\">\n",
              "      <th></th>\n",
              "      <th>id</th>\n",
              "      <th>creationdate</th>\n",
              "      <th>score</th>\n",
              "      <th>viewcount</th>\n",
              "      <th>title</th>\n",
              "      <th>answercount</th>\n",
              "      <th>commentcount</th>\n",
              "      <th>favoritecount</th>\n",
              "      <th>quest_name</th>\n",
              "      <th>quest_rep</th>\n",
              "      <th>ans_name</th>\n",
              "      <th>ans_rep</th>\n",
              "    </tr>\n",
              "  </thead>\n",
              "  <tbody>\n",
              "    <tr>\n",
              "      <th>7787</th>\n",
              "      <td>26493306</td>\n",
              "      <td>2014-10-21 18:06:10</td>\n",
              "      <td>1</td>\n",
              "      <td>6</td>\n",
              "      <td>How to convert hierarchical DataFrame back fro...</td>\n",
              "      <td>0</td>\n",
              "      <td>2</td>\n",
              "      <td>1.0</td>\n",
              "      <td>exp1orer</td>\n",
              "      <td>3551.0</td>\n",
              "      <td>NaN</td>\n",
              "      <td>NaN</td>\n",
              "    </tr>\n",
              "    <tr>\n",
              "      <th>17653</th>\n",
              "      <td>33641540</td>\n",
              "      <td>2015-11-10 23:19:36</td>\n",
              "      <td>0</td>\n",
              "      <td>9</td>\n",
              "      <td>Joining Dataframes in Pandas deletes an existi...</td>\n",
              "      <td>1</td>\n",
              "      <td>0</td>\n",
              "      <td>NaN</td>\n",
              "      <td>Rahul Biswas</td>\n",
              "      <td>88.0</td>\n",
              "      <td>NaN</td>\n",
              "      <td>NaN</td>\n",
              "    </tr>\n",
              "    <tr>\n",
              "      <th>29414</th>\n",
              "      <td>40062672</td>\n",
              "      <td>2016-10-15 18:24:21</td>\n",
              "      <td>-1</td>\n",
              "      <td>9</td>\n",
              "      <td>Replace one or more sub-strings from multiple ...</td>\n",
              "      <td>1</td>\n",
              "      <td>0</td>\n",
              "      <td>NaN</td>\n",
              "      <td>Andreuccio</td>\n",
              "      <td>186.0</td>\n",
              "      <td>NaN</td>\n",
              "      <td>NaN</td>\n",
              "    </tr>\n",
              "    <tr>\n",
              "      <th>36086</th>\n",
              "      <td>42538091</td>\n",
              "      <td>2017-03-01 17:20:37</td>\n",
              "      <td>0</td>\n",
              "      <td>9</td>\n",
              "      <td>Saving box plot pandas python</td>\n",
              "      <td>0</td>\n",
              "      <td>0</td>\n",
              "      <td>NaN</td>\n",
              "      <td>user2906657</td>\n",
              "      <td>119.0</td>\n",
              "      <td>NaN</td>\n",
              "      <td>NaN</td>\n",
              "    </tr>\n",
              "    <tr>\n",
              "      <th>36340</th>\n",
              "      <td>42080039</td>\n",
              "      <td>2017-02-07 01:13:30</td>\n",
              "      <td>0</td>\n",
              "      <td>8</td>\n",
              "      <td>pandas: count the non-duplicated elements when...</td>\n",
              "      <td>1</td>\n",
              "      <td>0</td>\n",
              "      <td>NaN</td>\n",
              "      <td>Edamame</td>\n",
              "      <td>2281.0</td>\n",
              "      <td>root</td>\n",
              "      <td>12202.0</td>\n",
              "    </tr>\n",
              "  </tbody>\n",
              "</table>\n",
              "</div>"
            ],
            "text/plain": [
              "             id         creationdate  score  ...  quest_rep ans_name  ans_rep\n",
              "7787   26493306  2014-10-21 18:06:10      1  ...     3551.0      NaN      NaN\n",
              "17653  33641540  2015-11-10 23:19:36      0  ...       88.0      NaN      NaN\n",
              "29414  40062672  2016-10-15 18:24:21     -1  ...      186.0      NaN      NaN\n",
              "36086  42538091  2017-03-01 17:20:37      0  ...      119.0      NaN      NaN\n",
              "36340  42080039  2017-02-07 01:13:30      0  ...     2281.0     root  12202.0\n",
              "\n",
              "[5 rows x 12 columns]"
            ]
          },
          "execution_count": 18,
          "metadata": {
            "tags": []
          },
          "output_type": "execute_result"
        }
      ],
      "source": [
        "so[so['viewcount'] < 10].head()"
      ]
    },
    {
      "cell_type": "markdown",
      "metadata": {
        "id": "aKyzHtKtX5sa"
      },
      "source": [
        "### Exercise 3\n",
        "<span  style=\"color:green; font-size:16px\">Find all the questions where the person asking it is the same as the person answering it</span>"
      ]
    },
    {
      "cell_type": "code",
      "execution_count": null,
      "metadata": {
        "colab": {
          "base_uri": "https://localhost:8080/",
          "height": 204
        },
        "id": "2svPdVJtX5sa",
        "outputId": "489bbfcf-86c5-4365-90b8-b1146d28190f"
      },
      "outputs": [
        {
          "data": {
            "text/html": [
              "<div>\n",
              "<style scoped>\n",
              "    .dataframe tbody tr th:only-of-type {\n",
              "        vertical-align: middle;\n",
              "    }\n",
              "\n",
              "    .dataframe tbody tr th {\n",
              "        vertical-align: top;\n",
              "    }\n",
              "\n",
              "    .dataframe thead th {\n",
              "        text-align: right;\n",
              "    }\n",
              "</style>\n",
              "<table border=\"1\" class=\"dataframe\">\n",
              "  <thead>\n",
              "    <tr style=\"text-align: right;\">\n",
              "      <th></th>\n",
              "      <th>id</th>\n",
              "      <th>creationdate</th>\n",
              "      <th>score</th>\n",
              "      <th>viewcount</th>\n",
              "      <th>title</th>\n",
              "      <th>answercount</th>\n",
              "      <th>commentcount</th>\n",
              "      <th>favoritecount</th>\n",
              "      <th>quest_name</th>\n",
              "      <th>quest_rep</th>\n",
              "      <th>ans_name</th>\n",
              "      <th>ans_rep</th>\n",
              "    </tr>\n",
              "  </thead>\n",
              "  <tbody>\n",
              "    <tr>\n",
              "      <th>10</th>\n",
              "      <td>8273092</td>\n",
              "      <td>2011-11-25 18:39:02</td>\n",
              "      <td>1</td>\n",
              "      <td>2333</td>\n",
              "      <td>python: pandas install errors</td>\n",
              "      <td>2</td>\n",
              "      <td>0</td>\n",
              "      <td>NaN</td>\n",
              "      <td>codingknob</td>\n",
              "      <td>2279.0</td>\n",
              "      <td>codingknob</td>\n",
              "      <td>2279.0</td>\n",
              "    </tr>\n",
              "    <tr>\n",
              "      <th>33</th>\n",
              "      <td>9721429</td>\n",
              "      <td>2012-03-15 14:08:31</td>\n",
              "      <td>9</td>\n",
              "      <td>5732</td>\n",
              "      <td>How do I read a fix width format text file in ...</td>\n",
              "      <td>4</td>\n",
              "      <td>2</td>\n",
              "      <td>NaN</td>\n",
              "      <td>user1234440</td>\n",
              "      <td>3369.0</td>\n",
              "      <td>user1234440</td>\n",
              "      <td>3369.0</td>\n",
              "    </tr>\n",
              "    <tr>\n",
              "      <th>58</th>\n",
              "      <td>10020591</td>\n",
              "      <td>2012-04-04 23:17:23</td>\n",
              "      <td>21</td>\n",
              "      <td>20171</td>\n",
              "      <td>How to resample a dataframe with different fun...</td>\n",
              "      <td>4</td>\n",
              "      <td>0</td>\n",
              "      <td>15.0</td>\n",
              "      <td>bmu</td>\n",
              "      <td>17129.0</td>\n",
              "      <td>bmu</td>\n",
              "      <td>17129.0</td>\n",
              "    </tr>\n",
              "    <tr>\n",
              "      <th>68</th>\n",
              "      <td>10175068</td>\n",
              "      <td>2012-04-16 13:27:44</td>\n",
              "      <td>15</td>\n",
              "      <td>7501</td>\n",
              "      <td>Select data at a particular level from a Multi...</td>\n",
              "      <td>2</td>\n",
              "      <td>3</td>\n",
              "      <td>5.0</td>\n",
              "      <td>elyase</td>\n",
              "      <td>19551.0</td>\n",
              "      <td>elyase</td>\n",
              "      <td>19551.0</td>\n",
              "    </tr>\n",
              "    <tr>\n",
              "      <th>74</th>\n",
              "      <td>10264739</td>\n",
              "      <td>2012-04-22 02:35:06</td>\n",
              "      <td>9</td>\n",
              "      <td>2362</td>\n",
              "      <td>major memory problems reading in a csv file us...</td>\n",
              "      <td>3</td>\n",
              "      <td>2</td>\n",
              "      <td>7.0</td>\n",
              "      <td>vgoklani</td>\n",
              "      <td>1752.0</td>\n",
              "      <td>vgoklani</td>\n",
              "      <td>1752.0</td>\n",
              "    </tr>\n",
              "  </tbody>\n",
              "</table>\n",
              "</div>"
            ],
            "text/plain": [
              "          id         creationdate  score  ...  quest_rep     ans_name  ans_rep\n",
              "10   8273092  2011-11-25 18:39:02      1  ...     2279.0   codingknob   2279.0\n",
              "33   9721429  2012-03-15 14:08:31      9  ...     3369.0  user1234440   3369.0\n",
              "58  10020591  2012-04-04 23:17:23     21  ...    17129.0          bmu  17129.0\n",
              "68  10175068  2012-04-16 13:27:44     15  ...    19551.0       elyase  19551.0\n",
              "74  10264739  2012-04-22 02:35:06      9  ...     1752.0     vgoklani   1752.0\n",
              "\n",
              "[5 rows x 12 columns]"
            ]
          },
          "execution_count": 19,
          "metadata": {
            "tags": []
          },
          "output_type": "execute_result"
        }
      ],
      "source": [
        "so[so['quest_name'] == so['ans_name']].head()"
      ]
    },
    {
      "cell_type": "markdown",
      "metadata": {
        "id": "TNGfVL3vX5sa"
      },
      "source": [
        "### Exercise 4\n",
        "<span  style=\"color:green; font-size:16px\">Find all the questions that don't have an accepted answer, but have a score of more than 100</span>"
      ]
    },
    {
      "cell_type": "code",
      "execution_count": null,
      "metadata": {
        "colab": {
          "base_uri": "https://localhost:8080/",
          "height": 266
        },
        "id": "Dzh69sRqX5sb",
        "outputId": "f9d2e05e-1f74-4f87-b373-e55865f0643c"
      },
      "outputs": [
        {
          "data": {
            "text/html": [
              "<div>\n",
              "<style scoped>\n",
              "    .dataframe tbody tr th:only-of-type {\n",
              "        vertical-align: middle;\n",
              "    }\n",
              "\n",
              "    .dataframe tbody tr th {\n",
              "        vertical-align: top;\n",
              "    }\n",
              "\n",
              "    .dataframe thead th {\n",
              "        text-align: right;\n",
              "    }\n",
              "</style>\n",
              "<table border=\"1\" class=\"dataframe\">\n",
              "  <thead>\n",
              "    <tr style=\"text-align: right;\">\n",
              "      <th></th>\n",
              "      <th>id</th>\n",
              "      <th>creationdate</th>\n",
              "      <th>score</th>\n",
              "      <th>viewcount</th>\n",
              "      <th>title</th>\n",
              "      <th>answercount</th>\n",
              "      <th>commentcount</th>\n",
              "      <th>favoritecount</th>\n",
              "      <th>quest_name</th>\n",
              "      <th>quest_rep</th>\n",
              "      <th>ans_name</th>\n",
              "      <th>ans_rep</th>\n",
              "    </tr>\n",
              "  </thead>\n",
              "  <tbody>\n",
              "    <tr>\n",
              "      <th>184</th>\n",
              "      <td>11350770</td>\n",
              "      <td>2012-07-05 18:57:34</td>\n",
              "      <td>149</td>\n",
              "      <td>155776</td>\n",
              "      <td>pandas + dataframe - select by partial string</td>\n",
              "      <td>7</td>\n",
              "      <td>0</td>\n",
              "      <td>52.0</td>\n",
              "      <td>euforia</td>\n",
              "      <td>816.0</td>\n",
              "      <td>NaN</td>\n",
              "      <td>NaN</td>\n",
              "    </tr>\n",
              "    <tr>\n",
              "      <th>514</th>\n",
              "      <td>13148429</td>\n",
              "      <td>2012-10-30 22:22:59</td>\n",
              "      <td>312</td>\n",
              "      <td>228357</td>\n",
              "      <td>How to change the order of DataFrame columns?</td>\n",
              "      <td>19</td>\n",
              "      <td>1</td>\n",
              "      <td>90.0</td>\n",
              "      <td>Timmie</td>\n",
              "      <td>1689.0</td>\n",
              "      <td>NaN</td>\n",
              "      <td>NaN</td>\n",
              "    </tr>\n",
              "    <tr>\n",
              "      <th>527</th>\n",
              "      <td>13187778</td>\n",
              "      <td>2012-11-02 00:57:33</td>\n",
              "      <td>102</td>\n",
              "      <td>202329</td>\n",
              "      <td>Convert pandas dataframe to numpy array, prese...</td>\n",
              "      <td>8</td>\n",
              "      <td>0</td>\n",
              "      <td>45.0</td>\n",
              "      <td>mister.nobody.nz</td>\n",
              "      <td>511.0</td>\n",
              "      <td>NaN</td>\n",
              "      <td>NaN</td>\n",
              "    </tr>\n",
              "    <tr>\n",
              "      <th>560</th>\n",
              "      <td>13331698</td>\n",
              "      <td>2012-11-11 13:48:53</td>\n",
              "      <td>154</td>\n",
              "      <td>174964</td>\n",
              "      <td>How to apply a function to two columns of Pand...</td>\n",
              "      <td>9</td>\n",
              "      <td>4</td>\n",
              "      <td>66.0</td>\n",
              "      <td>bigbug</td>\n",
              "      <td>7865.0</td>\n",
              "      <td>NaN</td>\n",
              "      <td>NaN</td>\n",
              "    </tr>\n",
              "    <tr>\n",
              "      <th>5013</th>\n",
              "      <td>19377969</td>\n",
              "      <td>2013-10-15 09:42:52</td>\n",
              "      <td>128</td>\n",
              "      <td>144045</td>\n",
              "      <td>Combine two columns of text in dataframe in pa...</td>\n",
              "      <td>10</td>\n",
              "      <td>1</td>\n",
              "      <td>49.0</td>\n",
              "      <td>user2866103</td>\n",
              "      <td>831.0</td>\n",
              "      <td>NaN</td>\n",
              "      <td>NaN</td>\n",
              "    </tr>\n",
              "    <tr>\n",
              "      <th>5370</th>\n",
              "      <td>20845213</td>\n",
              "      <td>2013-12-30 18:24:25</td>\n",
              "      <td>130</td>\n",
              "      <td>61332</td>\n",
              "      <td>How to avoid Python/Pandas creating an index i...</td>\n",
              "      <td>3</td>\n",
              "      <td>3</td>\n",
              "      <td>14.0</td>\n",
              "      <td>Alexis</td>\n",
              "      <td>835.0</td>\n",
              "      <td>NaN</td>\n",
              "      <td>NaN</td>\n",
              "    </tr>\n",
              "    <tr>\n",
              "      <th>8289</th>\n",
              "      <td>26266362</td>\n",
              "      <td>2014-10-08 21:00:19</td>\n",
              "      <td>132</td>\n",
              "      <td>108655</td>\n",
              "      <td>How to count the Nan values in the column in P...</td>\n",
              "      <td>9</td>\n",
              "      <td>0</td>\n",
              "      <td>39.0</td>\n",
              "      <td>user3799307</td>\n",
              "      <td>661.0</td>\n",
              "      <td>NaN</td>\n",
              "      <td>NaN</td>\n",
              "    </tr>\n",
              "  </tbody>\n",
              "</table>\n",
              "</div>"
            ],
            "text/plain": [
              "            id         creationdate  score  ...  quest_rep ans_name  ans_rep\n",
              "184   11350770  2012-07-05 18:57:34    149  ...      816.0      NaN      NaN\n",
              "514   13148429  2012-10-30 22:22:59    312  ...     1689.0      NaN      NaN\n",
              "527   13187778  2012-11-02 00:57:33    102  ...      511.0      NaN      NaN\n",
              "560   13331698  2012-11-11 13:48:53    154  ...     7865.0      NaN      NaN\n",
              "5013  19377969  2013-10-15 09:42:52    128  ...      831.0      NaN      NaN\n",
              "5370  20845213  2013-12-30 18:24:25    130  ...      835.0      NaN      NaN\n",
              "8289  26266362  2014-10-08 21:00:19    132  ...      661.0      NaN      NaN\n",
              "\n",
              "[7 rows x 12 columns]"
            ]
          },
          "execution_count": 20,
          "metadata": {
            "tags": []
          },
          "output_type": "execute_result"
        }
      ],
      "source": [
        "so[so['ans_name'].isnull() & (so['score'] > 100)]"
      ]
    },
    {
      "cell_type": "markdown",
      "metadata": {
        "id": "339IsdQDX5sb"
      },
      "source": [
        "### Exercise 5\n",
        "<span  style=\"color:green; font-size:16px\">Find all the questions where the reputation of the person asking the question is higher than the person answering it. Then find the percentage of times this happens</span>"
      ]
    },
    {
      "cell_type": "code",
      "execution_count": null,
      "metadata": {
        "colab": {
          "base_uri": "https://localhost:8080/",
          "height": 204
        },
        "id": "pRoLNborX5sb",
        "outputId": "b2580a8b-99ba-40fb-85e4-1e49b6ca293b"
      },
      "outputs": [
        {
          "data": {
            "text/html": [
              "<div>\n",
              "<style scoped>\n",
              "    .dataframe tbody tr th:only-of-type {\n",
              "        vertical-align: middle;\n",
              "    }\n",
              "\n",
              "    .dataframe tbody tr th {\n",
              "        vertical-align: top;\n",
              "    }\n",
              "\n",
              "    .dataframe thead th {\n",
              "        text-align: right;\n",
              "    }\n",
              "</style>\n",
              "<table border=\"1\" class=\"dataframe\">\n",
              "  <thead>\n",
              "    <tr style=\"text-align: right;\">\n",
              "      <th></th>\n",
              "      <th>id</th>\n",
              "      <th>creationdate</th>\n",
              "      <th>score</th>\n",
              "      <th>viewcount</th>\n",
              "      <th>title</th>\n",
              "      <th>answercount</th>\n",
              "      <th>commentcount</th>\n",
              "      <th>favoritecount</th>\n",
              "      <th>quest_name</th>\n",
              "      <th>quest_rep</th>\n",
              "      <th>ans_name</th>\n",
              "      <th>ans_rep</th>\n",
              "    </tr>\n",
              "  </thead>\n",
              "  <tbody>\n",
              "    <tr>\n",
              "      <th>26</th>\n",
              "      <td>9588331</td>\n",
              "      <td>2012-03-06 17:01:47</td>\n",
              "      <td>22</td>\n",
              "      <td>10038</td>\n",
              "      <td>Simple cross-tabulation in pandas</td>\n",
              "      <td>2</td>\n",
              "      <td>3</td>\n",
              "      <td>5.0</td>\n",
              "      <td>Jon Clements</td>\n",
              "      <td>85944.0</td>\n",
              "      <td>Jeff Hammerbacher</td>\n",
              "      <td>3172.0</td>\n",
              "    </tr>\n",
              "    <tr>\n",
              "      <th>51</th>\n",
              "      <td>9962114</td>\n",
              "      <td>2012-04-01 05:25:20</td>\n",
              "      <td>9</td>\n",
              "      <td>8079</td>\n",
              "      <td>Control Charts in Python</td>\n",
              "      <td>1</td>\n",
              "      <td>0</td>\n",
              "      <td>3.0</td>\n",
              "      <td>John</td>\n",
              "      <td>8807.0</td>\n",
              "      <td>Josh Hemann</td>\n",
              "      <td>590.0</td>\n",
              "    </tr>\n",
              "    <tr>\n",
              "      <th>99</th>\n",
              "      <td>10636024</td>\n",
              "      <td>2012-05-17 12:48:00</td>\n",
              "      <td>36</td>\n",
              "      <td>30386</td>\n",
              "      <td>Python / Pandas - GUI for viewing a DataFrame ...</td>\n",
              "      <td>15</td>\n",
              "      <td>6</td>\n",
              "      <td>27.0</td>\n",
              "      <td>Ross R</td>\n",
              "      <td>1562.0</td>\n",
              "      <td>user1319128</td>\n",
              "      <td>555.0</td>\n",
              "    </tr>\n",
              "    <tr>\n",
              "      <th>101</th>\n",
              "      <td>10671227</td>\n",
              "      <td>2012-05-20 06:14:57</td>\n",
              "      <td>0</td>\n",
              "      <td>473</td>\n",
              "      <td>Pandas FloatingPoint Error</td>\n",
              "      <td>1</td>\n",
              "      <td>5</td>\n",
              "      <td>NaN</td>\n",
              "      <td>tshauck</td>\n",
              "      <td>5957.0</td>\n",
              "      <td>Karmel</td>\n",
              "      <td>2870.0</td>\n",
              "    </tr>\n",
              "    <tr>\n",
              "      <th>112</th>\n",
              "      <td>10760364</td>\n",
              "      <td>2012-05-25 19:33:39</td>\n",
              "      <td>8</td>\n",
              "      <td>2977</td>\n",
              "      <td>\"Zebra Tables\" in IPython Notebook?</td>\n",
              "      <td>3</td>\n",
              "      <td>0</td>\n",
              "      <td>4.0</td>\n",
              "      <td>JD Long</td>\n",
              "      <td>33098.0</td>\n",
              "      <td>minrk</td>\n",
              "      <td>22244.0</td>\n",
              "    </tr>\n",
              "  </tbody>\n",
              "</table>\n",
              "</div>"
            ],
            "text/plain": [
              "           id         creationdate  ...           ans_name  ans_rep\n",
              "26    9588331  2012-03-06 17:01:47  ...  Jeff Hammerbacher   3172.0\n",
              "51    9962114  2012-04-01 05:25:20  ...        Josh Hemann    590.0\n",
              "99   10636024  2012-05-17 12:48:00  ...        user1319128    555.0\n",
              "101  10671227  2012-05-20 06:14:57  ...             Karmel   2870.0\n",
              "112  10760364  2012-05-25 19:33:39  ...              minrk  22244.0\n",
              "\n",
              "[5 rows x 12 columns]"
            ]
          },
          "execution_count": 21,
          "metadata": {
            "tags": []
          },
          "output_type": "execute_result"
        }
      ],
      "source": [
        "quest_higher_rep = so[so['quest_rep'] > so['ans_rep']]\n",
        "quest_higher_rep.head()"
      ]
    },
    {
      "cell_type": "code",
      "execution_count": null,
      "metadata": {
        "colab": {
          "base_uri": "https://localhost:8080/"
        },
        "id": "ZUB7zj1QX5sb",
        "outputId": "e6f1cc50-959a-495c-bf10-a2ada25fc2a0"
      },
      "outputs": [
        {
          "data": {
            "text/plain": [
              "0.039717720486542075"
            ]
          },
          "execution_count": 22,
          "metadata": {
            "tags": []
          },
          "output_type": "execute_result"
        }
      ],
      "source": [
        "# about 4% of the time\n",
        "len(quest_higher_rep) / len(so)"
      ]
    },
    {
      "cell_type": "code",
      "execution_count": null,
      "metadata": {
        "colab": {
          "base_uri": "https://localhost:8080/"
        },
        "id": "auwAOwI-X5sc",
        "outputId": "ff5979b3-2441-42a4-c47e-5826e550c26d"
      },
      "outputs": [
        {
          "data": {
            "text/plain": [
              "0.039717720486542075"
            ]
          },
          "execution_count": 23,
          "metadata": {
            "tags": []
          },
          "output_type": "execute_result"
        }
      ],
      "source": [
        "# advanced - same solution\n",
        "(so['quest_rep'] > so['ans_rep']).mean()"
      ]
    },
    {
      "cell_type": "markdown",
      "metadata": {
        "id": "yYODu3QVX5sc"
      },
      "source": [
        "### Exercise 6\n",
        "<span  style=\"color:green; font-size:16px\">Find all the questions where the number of answers is between 5 and 10 inclusive and the number of views is less than 1,000.</span>"
      ]
    },
    {
      "cell_type": "code",
      "execution_count": null,
      "metadata": {
        "colab": {
          "base_uri": "https://localhost:8080/",
          "height": 204
        },
        "id": "DIAbaVGDX5sc",
        "outputId": "da6ed975-3cbf-48fc-bd31-52e17801b431"
      },
      "outputs": [
        {
          "data": {
            "text/html": [
              "<div>\n",
              "<style scoped>\n",
              "    .dataframe tbody tr th:only-of-type {\n",
              "        vertical-align: middle;\n",
              "    }\n",
              "\n",
              "    .dataframe tbody tr th {\n",
              "        vertical-align: top;\n",
              "    }\n",
              "\n",
              "    .dataframe thead th {\n",
              "        text-align: right;\n",
              "    }\n",
              "</style>\n",
              "<table border=\"1\" class=\"dataframe\">\n",
              "  <thead>\n",
              "    <tr style=\"text-align: right;\">\n",
              "      <th></th>\n",
              "      <th>id</th>\n",
              "      <th>creationdate</th>\n",
              "      <th>score</th>\n",
              "      <th>viewcount</th>\n",
              "      <th>title</th>\n",
              "      <th>answercount</th>\n",
              "      <th>commentcount</th>\n",
              "      <th>favoritecount</th>\n",
              "      <th>quest_name</th>\n",
              "      <th>quest_rep</th>\n",
              "      <th>ans_name</th>\n",
              "      <th>ans_rep</th>\n",
              "    </tr>\n",
              "  </thead>\n",
              "  <tbody>\n",
              "    <tr>\n",
              "      <th>620</th>\n",
              "      <td>13580875</td>\n",
              "      <td>2012-11-27 09:19:07</td>\n",
              "      <td>2</td>\n",
              "      <td>963</td>\n",
              "      <td>Running average / frequency of time series data?</td>\n",
              "      <td>5</td>\n",
              "      <td>9</td>\n",
              "      <td>1.0</td>\n",
              "      <td>Prof. Falken</td>\n",
              "      <td>15061.0</td>\n",
              "      <td>Victor K</td>\n",
              "      <td>332.0</td>\n",
              "    </tr>\n",
              "    <tr>\n",
              "      <th>1316</th>\n",
              "      <td>14742893</td>\n",
              "      <td>2013-02-07 03:13:31</td>\n",
              "      <td>2</td>\n",
              "      <td>598</td>\n",
              "      <td>Interpolation Function</td>\n",
              "      <td>5</td>\n",
              "      <td>0</td>\n",
              "      <td>NaN</td>\n",
              "      <td>eWizardII</td>\n",
              "      <td>886.0</td>\n",
              "      <td>NaN</td>\n",
              "      <td>NaN</td>\n",
              "    </tr>\n",
              "    <tr>\n",
              "      <th>4816</th>\n",
              "      <td>21315997</td>\n",
              "      <td>2014-01-23 18:02:57</td>\n",
              "      <td>2</td>\n",
              "      <td>716</td>\n",
              "      <td>Python Pandas vs R. Transformation Code Concis...</td>\n",
              "      <td>5</td>\n",
              "      <td>2</td>\n",
              "      <td>2.0</td>\n",
              "      <td>user2684301</td>\n",
              "      <td>1465.0</td>\n",
              "      <td>Jeff</td>\n",
              "      <td>62248.0</td>\n",
              "    </tr>\n",
              "    <tr>\n",
              "      <th>4958</th>\n",
              "      <td>19892107</td>\n",
              "      <td>2013-11-10 16:28:50</td>\n",
              "      <td>5</td>\n",
              "      <td>385</td>\n",
              "      <td>Updating csv with data from a csv with differe...</td>\n",
              "      <td>6</td>\n",
              "      <td>0</td>\n",
              "      <td>1.0</td>\n",
              "      <td>OliverSteph</td>\n",
              "      <td>32.0</td>\n",
              "      <td>NaN</td>\n",
              "      <td>NaN</td>\n",
              "    </tr>\n",
              "    <tr>\n",
              "      <th>5339</th>\n",
              "      <td>21040578</td>\n",
              "      <td>2014-01-10 09:33:09</td>\n",
              "      <td>-1</td>\n",
              "      <td>175</td>\n",
              "      <td>combining mutiple csv file</td>\n",
              "      <td>8</td>\n",
              "      <td>2</td>\n",
              "      <td>NaN</td>\n",
              "      <td>user104853</td>\n",
              "      <td>16.0</td>\n",
              "      <td>NaN</td>\n",
              "      <td>NaN</td>\n",
              "    </tr>\n",
              "  </tbody>\n",
              "</table>\n",
              "</div>"
            ],
            "text/plain": [
              "            id         creationdate  score  ...  quest_rep  ans_name  ans_rep\n",
              "620   13580875  2012-11-27 09:19:07      2  ...    15061.0  Victor K    332.0\n",
              "1316  14742893  2013-02-07 03:13:31      2  ...      886.0       NaN      NaN\n",
              "4816  21315997  2014-01-23 18:02:57      2  ...     1465.0      Jeff  62248.0\n",
              "4958  19892107  2013-11-10 16:28:50      5  ...       32.0       NaN      NaN\n",
              "5339  21040578  2014-01-10 09:33:09     -1  ...       16.0       NaN      NaN\n",
              "\n",
              "[5 rows x 12 columns]"
            ]
          },
          "execution_count": 24,
          "metadata": {
            "tags": []
          },
          "output_type": "execute_result"
        }
      ],
      "source": [
        "so[so['answercount'].between(5, 10) & (so['viewcount'] < 1000)].head()"
      ]
    },
    {
      "cell_type": "markdown",
      "metadata": {
        "id": "LFZv_6vtX5sd"
      },
      "source": [
        "### Exercise 7\n",
        "<span  style=\"color:green; font-size:16px\">Find the inverse of exercise 6. Verify your results by adding the rows of both returned Series to see if it matches the number of rows of the original</span>"
      ]
    },
    {
      "cell_type": "code",
      "execution_count": null,
      "metadata": {
        "collapsed": true,
        "id": "cMsosBKHX5sd"
      },
      "outputs": [],
      "source": [
        "ex6 = so[so['answercount'].between(5, 10) & (so['viewcount'] < 1000)]\n",
        "\n",
        "criteria = (so['answercount'].between(5, 10) & (so['viewcount'] < 1000))\n",
        "ex7 = so[~criteria]"
      ]
    },
    {
      "cell_type": "code",
      "execution_count": null,
      "metadata": {
        "colab": {
          "base_uri": "https://localhost:8080/"
        },
        "id": "bSpQMeHeX5sd",
        "outputId": "bcacb0a4-431c-4060-e88b-b72757195c36"
      },
      "outputs": [
        {
          "data": {
            "text/plain": [
              "56398"
            ]
          },
          "execution_count": 26,
          "metadata": {
            "tags": []
          },
          "output_type": "execute_result"
        }
      ],
      "source": [
        "len(ex6) + len(ex7)"
      ]
    },
    {
      "cell_type": "code",
      "execution_count": null,
      "metadata": {
        "colab": {
          "base_uri": "https://localhost:8080/"
        },
        "id": "c2dv6LZsX5sd",
        "outputId": "a90e6aa2-e665-4691-9527-9bd20b9bbcfe"
      },
      "outputs": [
        {
          "data": {
            "text/plain": [
              "56398"
            ]
          },
          "execution_count": 27,
          "metadata": {
            "tags": []
          },
          "output_type": "execute_result"
        }
      ],
      "source": [
        "len(so)"
      ]
    },
    {
      "cell_type": "markdown",
      "metadata": {
        "id": "zMdBd03XX5se"
      },
      "source": [
        "### Use the employee data for the rest of the exercises"
      ]
    },
    {
      "cell_type": "code",
      "execution_count": 5,
      "metadata": {
        "colab": {
          "base_uri": "https://localhost:8080/",
          "height": 195
        },
        "id": "pYq7q9cdX5se",
        "outputId": "dda6ec23-30cb-4d63-fd76-38a600ae1f59"
      },
      "outputs": [
        {
          "data": {
            "text/html": [
              "<div>\n",
              "<style scoped>\n",
              "    .dataframe tbody tr th:only-of-type {\n",
              "        vertical-align: middle;\n",
              "    }\n",
              "\n",
              "    .dataframe tbody tr th {\n",
              "        vertical-align: top;\n",
              "    }\n",
              "\n",
              "    .dataframe thead th {\n",
              "        text-align: right;\n",
              "    }\n",
              "</style>\n",
              "<table border=\"1\" class=\"dataframe\">\n",
              "  <thead>\n",
              "    <tr style=\"text-align: right;\">\n",
              "      <th></th>\n",
              "      <th>POSITION_TITLE</th>\n",
              "      <th>DEPARTMENT</th>\n",
              "      <th>BASE_SALARY</th>\n",
              "      <th>ETHNICITY</th>\n",
              "      <th>EMPLOYMENT_TYPE</th>\n",
              "      <th>GENDER</th>\n",
              "      <th>HIRE_DATE</th>\n",
              "      <th>JOB_DATE</th>\n",
              "    </tr>\n",
              "  </thead>\n",
              "  <tbody>\n",
              "    <tr>\n",
              "      <th>0</th>\n",
              "      <td>ASSISTANT DIRECTOR (EX LVL)</td>\n",
              "      <td>Municipal Courts Department</td>\n",
              "      <td>121862.0</td>\n",
              "      <td>Hispanic/Latino</td>\n",
              "      <td>Full Time</td>\n",
              "      <td>Female</td>\n",
              "      <td>2006-06-12</td>\n",
              "      <td>2012-10-13</td>\n",
              "    </tr>\n",
              "    <tr>\n",
              "      <th>1</th>\n",
              "      <td>LIBRARY ASSISTANT</td>\n",
              "      <td>Library</td>\n",
              "      <td>26125.0</td>\n",
              "      <td>Hispanic/Latino</td>\n",
              "      <td>Full Time</td>\n",
              "      <td>Female</td>\n",
              "      <td>2000-07-19</td>\n",
              "      <td>2010-09-18</td>\n",
              "    </tr>\n",
              "    <tr>\n",
              "      <th>2</th>\n",
              "      <td>POLICE OFFICER</td>\n",
              "      <td>Houston Police Department-HPD</td>\n",
              "      <td>45279.0</td>\n",
              "      <td>White</td>\n",
              "      <td>Full Time</td>\n",
              "      <td>Male</td>\n",
              "      <td>2015-02-03</td>\n",
              "      <td>2015-02-03</td>\n",
              "    </tr>\n",
              "    <tr>\n",
              "      <th>3</th>\n",
              "      <td>ENGINEER/OPERATOR</td>\n",
              "      <td>Houston Fire Department (HFD)</td>\n",
              "      <td>63166.0</td>\n",
              "      <td>White</td>\n",
              "      <td>Full Time</td>\n",
              "      <td>Male</td>\n",
              "      <td>1982-02-08</td>\n",
              "      <td>1991-05-25</td>\n",
              "    </tr>\n",
              "    <tr>\n",
              "      <th>4</th>\n",
              "      <td>ELECTRICIAN</td>\n",
              "      <td>General Services Department</td>\n",
              "      <td>56347.0</td>\n",
              "      <td>White</td>\n",
              "      <td>Full Time</td>\n",
              "      <td>Male</td>\n",
              "      <td>1989-06-19</td>\n",
              "      <td>1994-10-22</td>\n",
              "    </tr>\n",
              "  </tbody>\n",
              "</table>\n",
              "</div>"
            ],
            "text/plain": [
              "                POSITION_TITLE  ...    JOB_DATE\n",
              "0  ASSISTANT DIRECTOR (EX LVL)  ...  2012-10-13\n",
              "1            LIBRARY ASSISTANT  ...  2010-09-18\n",
              "2               POLICE OFFICER  ...  2015-02-03\n",
              "3            ENGINEER/OPERATOR  ...  1991-05-25\n",
              "4                  ELECTRICIAN  ...  1994-10-22\n",
              "\n",
              "[5 rows x 8 columns]"
            ]
          },
          "execution_count": 5,
          "metadata": {
            "tags": []
          },
          "output_type": "execute_result"
        }
      ],
      "source": [
        "employee = pd.read_csv('https://raw.githubusercontent.com/michalis0/Business-Intelligence-and-Analytics/master/week2%20-%20Pandas%20and%20Python/Pandas/data/employee.csv')\n",
        "employee.head()"
      ]
    },
    {
      "cell_type": "markdown",
      "metadata": {
        "id": "rT8AyNSYX5sf"
      },
      "source": [
        "### Exercise 8\n",
        "<span  style=\"color:green; font-size:16px\">Find the females that have a salary over 100,000 OR males with salary under 50,000</span>"
      ]
    },
    {
      "cell_type": "code",
      "execution_count": 6,
      "metadata": {
        "colab": {
          "base_uri": "https://localhost:8080/",
          "height": 195
        },
        "id": "6NwGu2uTX5sf",
        "outputId": "e9387bed-e6a9-4bd0-fcd4-bd10930b861b"
      },
      "outputs": [
        {
          "data": {
            "text/html": [
              "<div>\n",
              "<style scoped>\n",
              "    .dataframe tbody tr th:only-of-type {\n",
              "        vertical-align: middle;\n",
              "    }\n",
              "\n",
              "    .dataframe tbody tr th {\n",
              "        vertical-align: top;\n",
              "    }\n",
              "\n",
              "    .dataframe thead th {\n",
              "        text-align: right;\n",
              "    }\n",
              "</style>\n",
              "<table border=\"1\" class=\"dataframe\">\n",
              "  <thead>\n",
              "    <tr style=\"text-align: right;\">\n",
              "      <th></th>\n",
              "      <th>POSITION_TITLE</th>\n",
              "      <th>DEPARTMENT</th>\n",
              "      <th>BASE_SALARY</th>\n",
              "      <th>ETHNICITY</th>\n",
              "      <th>EMPLOYMENT_TYPE</th>\n",
              "      <th>GENDER</th>\n",
              "      <th>HIRE_DATE</th>\n",
              "      <th>JOB_DATE</th>\n",
              "    </tr>\n",
              "  </thead>\n",
              "  <tbody>\n",
              "    <tr>\n",
              "      <th>0</th>\n",
              "      <td>ASSISTANT DIRECTOR (EX LVL)</td>\n",
              "      <td>Municipal Courts Department</td>\n",
              "      <td>121862.0</td>\n",
              "      <td>Hispanic/Latino</td>\n",
              "      <td>Full Time</td>\n",
              "      <td>Female</td>\n",
              "      <td>2006-06-12</td>\n",
              "      <td>2012-10-13</td>\n",
              "    </tr>\n",
              "    <tr>\n",
              "      <th>2</th>\n",
              "      <td>POLICE OFFICER</td>\n",
              "      <td>Houston Police Department-HPD</td>\n",
              "      <td>45279.0</td>\n",
              "      <td>White</td>\n",
              "      <td>Full Time</td>\n",
              "      <td>Male</td>\n",
              "      <td>2015-02-03</td>\n",
              "      <td>2015-02-03</td>\n",
              "    </tr>\n",
              "    <tr>\n",
              "      <th>7</th>\n",
              "      <td>CARPENTER</td>\n",
              "      <td>Houston Airport System (HAS)</td>\n",
              "      <td>42390.0</td>\n",
              "      <td>White</td>\n",
              "      <td>Full Time</td>\n",
              "      <td>Male</td>\n",
              "      <td>2013-11-04</td>\n",
              "      <td>2013-11-04</td>\n",
              "    </tr>\n",
              "    <tr>\n",
              "      <th>9</th>\n",
              "      <td>AIRPORT OPERATIONS COORDINATOR</td>\n",
              "      <td>Houston Airport System (HAS)</td>\n",
              "      <td>44616.0</td>\n",
              "      <td>NaN</td>\n",
              "      <td>Full Time</td>\n",
              "      <td>Male</td>\n",
              "      <td>2016-03-14</td>\n",
              "      <td>2016-03-14</td>\n",
              "    </tr>\n",
              "    <tr>\n",
              "      <th>12</th>\n",
              "      <td>CUSTOMER SERVICE REPRESENTATIVE I</td>\n",
              "      <td>Public Works &amp; Engineering-PWE</td>\n",
              "      <td>30347.0</td>\n",
              "      <td>Black or African American</td>\n",
              "      <td>Full Time</td>\n",
              "      <td>Male</td>\n",
              "      <td>2015-11-16</td>\n",
              "      <td>2015-11-16</td>\n",
              "    </tr>\n",
              "  </tbody>\n",
              "</table>\n",
              "</div>"
            ],
            "text/plain": [
              "                       POSITION_TITLE  ...    JOB_DATE\n",
              "0         ASSISTANT DIRECTOR (EX LVL)  ...  2012-10-13\n",
              "2                      POLICE OFFICER  ...  2015-02-03\n",
              "7                           CARPENTER  ...  2013-11-04\n",
              "9      AIRPORT OPERATIONS COORDINATOR  ...  2016-03-14\n",
              "12  CUSTOMER SERVICE REPRESENTATIVE I  ...  2015-11-16\n",
              "\n",
              "[5 rows x 8 columns]"
            ]
          },
          "execution_count": 6,
          "metadata": {
            "tags": []
          },
          "output_type": "execute_result"
        }
      ],
      "source": [
        "c1 = (employee['GENDER'] == 'Female') & (employee['BASE_SALARY'] > 100000)\n",
        "c2 = (employee['GENDER'] == 'Male') & (employee['BASE_SALARY'] < 50000)\n",
        "c_all = c1 | c2\n",
        "employee[c_all].head()"
      ]
    },
    {
      "cell_type": "markdown",
      "metadata": {
        "id": "SpfaF8qaX5sf"
      },
      "source": [
        "### Exercise 9\n",
        "<span  style=\"color:green; font-size:16px\">Find the females in the following departments with salary over 60,000 (Parks & Recreation, Solid Waste Management, Fleet Management Department, Library)  </span>"
      ]
    },
    {
      "cell_type": "code",
      "execution_count": 7,
      "metadata": {
        "colab": {
          "base_uri": "https://localhost:8080/",
          "height": 225
        },
        "id": "LT0ZGg9qX5sf",
        "outputId": "ed21da51-0d42-4e97-e29c-221dd0ef7b62"
      },
      "outputs": [
        {
          "data": {
            "text/html": [
              "<div>\n",
              "<style scoped>\n",
              "    .dataframe tbody tr th:only-of-type {\n",
              "        vertical-align: middle;\n",
              "    }\n",
              "\n",
              "    .dataframe tbody tr th {\n",
              "        vertical-align: top;\n",
              "    }\n",
              "\n",
              "    .dataframe thead th {\n",
              "        text-align: right;\n",
              "    }\n",
              "</style>\n",
              "<table border=\"1\" class=\"dataframe\">\n",
              "  <thead>\n",
              "    <tr style=\"text-align: right;\">\n",
              "      <th></th>\n",
              "      <th>POSITION_TITLE</th>\n",
              "      <th>DEPARTMENT</th>\n",
              "      <th>BASE_SALARY</th>\n",
              "      <th>ETHNICITY</th>\n",
              "      <th>EMPLOYMENT_TYPE</th>\n",
              "      <th>GENDER</th>\n",
              "      <th>HIRE_DATE</th>\n",
              "      <th>JOB_DATE</th>\n",
              "    </tr>\n",
              "  </thead>\n",
              "  <tbody>\n",
              "    <tr>\n",
              "      <th>249</th>\n",
              "      <td>STAFF ANALYST</td>\n",
              "      <td>Solid Waste Management</td>\n",
              "      <td>75041.0</td>\n",
              "      <td>Hispanic/Latino</td>\n",
              "      <td>Full Time</td>\n",
              "      <td>Female</td>\n",
              "      <td>1992-10-21</td>\n",
              "      <td>2015-07-18</td>\n",
              "    </tr>\n",
              "    <tr>\n",
              "      <th>412</th>\n",
              "      <td>ADMINISTRATIVE COORDINATOR</td>\n",
              "      <td>Library</td>\n",
              "      <td>79302.0</td>\n",
              "      <td>Hispanic/Latino</td>\n",
              "      <td>Full Time</td>\n",
              "      <td>Female</td>\n",
              "      <td>2003-12-22</td>\n",
              "      <td>2005-04-02</td>\n",
              "    </tr>\n",
              "    <tr>\n",
              "      <th>476</th>\n",
              "      <td>ADMINISTRATIVE SUPERVISOR</td>\n",
              "      <td>Library</td>\n",
              "      <td>60632.0</td>\n",
              "      <td>Black or African American</td>\n",
              "      <td>Full Time</td>\n",
              "      <td>Female</td>\n",
              "      <td>1993-05-10</td>\n",
              "      <td>2014-11-08</td>\n",
              "    </tr>\n",
              "    <tr>\n",
              "      <th>892</th>\n",
              "      <td>LIBRARIAN III</td>\n",
              "      <td>Library</td>\n",
              "      <td>61454.0</td>\n",
              "      <td>White</td>\n",
              "      <td>Full Time</td>\n",
              "      <td>Female</td>\n",
              "      <td>1998-11-02</td>\n",
              "      <td>2002-06-15</td>\n",
              "    </tr>\n",
              "    <tr>\n",
              "      <th>1165</th>\n",
              "      <td>DEPUTY ASSISTANT DIRECTOR (EXECUTIVE LEV</td>\n",
              "      <td>Library</td>\n",
              "      <td>107763.0</td>\n",
              "      <td>Black or African American</td>\n",
              "      <td>Full Time</td>\n",
              "      <td>Female</td>\n",
              "      <td>1993-11-16</td>\n",
              "      <td>2014-03-15</td>\n",
              "    </tr>\n",
              "    <tr>\n",
              "      <th>1484</th>\n",
              "      <td>SENIOR STAFF ANALYST (EXECUTIVE LEVEL)</td>\n",
              "      <td>Parks &amp; Recreation</td>\n",
              "      <td>83916.0</td>\n",
              "      <td>Hispanic/Latino</td>\n",
              "      <td>Full Time</td>\n",
              "      <td>Female</td>\n",
              "      <td>1999-07-26</td>\n",
              "      <td>2013-08-31</td>\n",
              "    </tr>\n",
              "  </tbody>\n",
              "</table>\n",
              "</div>"
            ],
            "text/plain": [
              "                                POSITION_TITLE  ...    JOB_DATE\n",
              "249                              STAFF ANALYST  ...  2015-07-18\n",
              "412                 ADMINISTRATIVE COORDINATOR  ...  2005-04-02\n",
              "476                  ADMINISTRATIVE SUPERVISOR  ...  2014-11-08\n",
              "892                              LIBRARIAN III  ...  2002-06-15\n",
              "1165  DEPUTY ASSISTANT DIRECTOR (EXECUTIVE LEV  ...  2014-03-15\n",
              "1484    SENIOR STAFF ANALYST (EXECUTIVE LEVEL)  ...  2013-08-31\n",
              "\n",
              "[6 rows x 8 columns]"
            ]
          },
          "execution_count": 7,
          "metadata": {
            "tags": []
          },
          "output_type": "execute_result"
        }
      ],
      "source": [
        "deps = ['Parks & Recreation', 'Solid Waste Management', 'Fleet Management Department', 'Library']\n",
        "c1 = employee['DEPARTMENT'].isin(deps) \n",
        "c2 = employee['GENDER'] == 'Female'\n",
        "c3 = employee['BASE_SALARY'] > 60000\n",
        "\n",
        "employee[c1 & c2 & c3]"
      ]
    },
    {
      "cell_type": "markdown",
      "metadata": {
        "id": "f8OPaIEBX5sg"
      },
      "source": [
        "### Exercise 10\n",
        "<span  style=\"color:green; font-size:16px\">Find all the males with salary over 100,000. Return only the ethnicity, gender and salary columns</span>"
      ]
    },
    {
      "cell_type": "code",
      "execution_count": 8,
      "metadata": {
        "colab": {
          "base_uri": "https://localhost:8080/",
          "height": 195
        },
        "id": "N6ZEAIALX5sg",
        "outputId": "8991f096-e611-4cfd-b648-5235fb16ce9b"
      },
      "outputs": [
        {
          "data": {
            "text/html": [
              "<div>\n",
              "<style scoped>\n",
              "    .dataframe tbody tr th:only-of-type {\n",
              "        vertical-align: middle;\n",
              "    }\n",
              "\n",
              "    .dataframe tbody tr th {\n",
              "        vertical-align: top;\n",
              "    }\n",
              "\n",
              "    .dataframe thead th {\n",
              "        text-align: right;\n",
              "    }\n",
              "</style>\n",
              "<table border=\"1\" class=\"dataframe\">\n",
              "  <thead>\n",
              "    <tr style=\"text-align: right;\">\n",
              "      <th></th>\n",
              "      <th>ETHNICITY</th>\n",
              "      <th>GENDER</th>\n",
              "      <th>BASE_SALARY</th>\n",
              "    </tr>\n",
              "  </thead>\n",
              "  <tbody>\n",
              "    <tr>\n",
              "      <th>8</th>\n",
              "      <td>White</td>\n",
              "      <td>Male</td>\n",
              "      <td>107962.0</td>\n",
              "    </tr>\n",
              "    <tr>\n",
              "      <th>11</th>\n",
              "      <td>Black or African American</td>\n",
              "      <td>Male</td>\n",
              "      <td>180416.0</td>\n",
              "    </tr>\n",
              "    <tr>\n",
              "      <th>43</th>\n",
              "      <td>Hispanic/Latino</td>\n",
              "      <td>Male</td>\n",
              "      <td>165216.0</td>\n",
              "    </tr>\n",
              "    <tr>\n",
              "      <th>169</th>\n",
              "      <td>White</td>\n",
              "      <td>Male</td>\n",
              "      <td>120916.0</td>\n",
              "    </tr>\n",
              "    <tr>\n",
              "      <th>178</th>\n",
              "      <td>White</td>\n",
              "      <td>Male</td>\n",
              "      <td>210588.0</td>\n",
              "    </tr>\n",
              "  </tbody>\n",
              "</table>\n",
              "</div>"
            ],
            "text/plain": [
              "                     ETHNICITY GENDER  BASE_SALARY\n",
              "8                        White   Male     107962.0\n",
              "11   Black or African American   Male     180416.0\n",
              "43             Hispanic/Latino   Male     165216.0\n",
              "169                      White   Male     120916.0\n",
              "178                      White   Male     210588.0"
            ]
          },
          "execution_count": 8,
          "metadata": {
            "tags": []
          },
          "output_type": "execute_result"
        }
      ],
      "source": [
        "criteria = (employee['GENDER'] == 'Male') & (employee['BASE_SALARY'] > 100000)\n",
        "employee.loc[criteria, ['ETHNICITY', 'GENDER', 'BASE_SALARY']].head()"
      ]
    },
    {
      "cell_type": "markdown",
      "metadata": {
        "id": "gmQmpq58X5sg"
      },
      "source": [
        "### Exercise 11\n",
        "<span  style=\"color:green; font-size:16px\">Select all salaries as a Series in a separate variable. From this series select all salaries under 25,000</span>"
      ]
    },
    {
      "cell_type": "code",
      "execution_count": 9,
      "metadata": {
        "colab": {
          "base_uri": "https://localhost:8080/"
        },
        "id": "YqRluIXvX5sg",
        "outputId": "e5976805-199d-4372-aecb-1c86737092d8"
      },
      "outputs": [
        {
          "data": {
            "text/plain": [
              "454    24960.0\n",
              "Name: BASE_SALARY, dtype: float64"
            ]
          },
          "execution_count": 9,
          "metadata": {
            "tags": []
          },
          "output_type": "execute_result"
        }
      ],
      "source": [
        "s = employee['BASE_SALARY']\n",
        "s[s < 25000]"
      ]
    },
    {
      "cell_type": "markdown",
      "metadata": {
        "id": "ArclPgAyX5sg"
      },
      "source": [
        "### Exercise 12\n",
        "<span  style=\"color:green; font-size:16px\">Get the same exact result as exercise 11, but make your selection from the employee DataFrame. Use only a single line of code</span>"
      ]
    },
    {
      "cell_type": "code",
      "execution_count": 10,
      "metadata": {
        "colab": {
          "base_uri": "https://localhost:8080/"
        },
        "id": "eGMTO1u_X5sh",
        "outputId": "832ff3d0-7030-475c-c309-a4e61a242609"
      },
      "outputs": [
        {
          "data": {
            "text/plain": [
              "454    24960.0\n",
              "Name: BASE_SALARY, dtype: float64"
            ]
          },
          "execution_count": 10,
          "metadata": {
            "tags": []
          },
          "output_type": "execute_result"
        }
      ],
      "source": [
        "employee.loc[employee['BASE_SALARY'] < 25000, 'BASE_SALARY']"
      ]
    },
    {
      "cell_type": "markdown",
      "metadata": {
        "collapsed": true,
        "id": "V-7sqQo8X5sh"
      },
      "source": [
        "# Part 3: Assigning subsets of data"
      ]
    },
    {
      "cell_type": "code",
      "execution_count": null,
      "metadata": {
        "collapsed": true,
        "id": "-T7IFO-OX5sh"
      },
      "outputs": [],
      "source": [
        "import pandas as pd\n",
        "import numpy as np"
      ]
    },
    {
      "cell_type": "code",
      "execution_count": null,
      "metadata": {
        "colab": {
          "base_uri": "https://localhost:8080/",
          "height": 254
        },
        "id": "nt9ixC7MX5sh",
        "outputId": "34087e7e-5f94-49d1-89b1-a46f67a06c46"
      },
      "outputs": [
        {
          "data": {
            "text/html": [
              "<div>\n",
              "<style scoped>\n",
              "    .dataframe tbody tr th:only-of-type {\n",
              "        vertical-align: middle;\n",
              "    }\n",
              "\n",
              "    .dataframe tbody tr th {\n",
              "        vertical-align: top;\n",
              "    }\n",
              "\n",
              "    .dataframe thead th {\n",
              "        text-align: right;\n",
              "    }\n",
              "</style>\n",
              "<table border=\"1\" class=\"dataframe\">\n",
              "  <thead>\n",
              "    <tr style=\"text-align: right;\">\n",
              "      <th></th>\n",
              "      <th>GENDER</th>\n",
              "      <th>NATIONALITY</th>\n",
              "      <th>DEPARTMENT</th>\n",
              "      <th>YEARS EXPERIENCE</th>\n",
              "      <th>SALARY</th>\n",
              "    </tr>\n",
              "  </thead>\n",
              "  <tbody>\n",
              "    <tr>\n",
              "      <th>Tom</th>\n",
              "      <td>Male</td>\n",
              "      <td>Switzerland</td>\n",
              "      <td>Engineering</td>\n",
              "      <td>23</td>\n",
              "      <td>107962</td>\n",
              "    </tr>\n",
              "    <tr>\n",
              "      <th>Niko</th>\n",
              "      <td>Male</td>\n",
              "      <td>USA</td>\n",
              "      <td>Engineering</td>\n",
              "      <td>1</td>\n",
              "      <td>30347</td>\n",
              "    </tr>\n",
              "    <tr>\n",
              "      <th>Penelope</th>\n",
              "      <td>Female</td>\n",
              "      <td>Switzerland</td>\n",
              "      <td>Engineering</td>\n",
              "      <td>12</td>\n",
              "      <td>60258</td>\n",
              "    </tr>\n",
              "    <tr>\n",
              "      <th>Aria</th>\n",
              "      <td>Female</td>\n",
              "      <td>USA</td>\n",
              "      <td>Engineering</td>\n",
              "      <td>8</td>\n",
              "      <td>43618</td>\n",
              "    </tr>\n",
              "    <tr>\n",
              "      <th>Sofia</th>\n",
              "      <td>Female</td>\n",
              "      <td>USA</td>\n",
              "      <td>Parks &amp; Recreation</td>\n",
              "      <td>23</td>\n",
              "      <td>26125</td>\n",
              "    </tr>\n",
              "    <tr>\n",
              "      <th>Dean</th>\n",
              "      <td>Male</td>\n",
              "      <td>USA</td>\n",
              "      <td>Parks &amp; Recreation</td>\n",
              "      <td>3</td>\n",
              "      <td>33592</td>\n",
              "    </tr>\n",
              "    <tr>\n",
              "      <th>Zach</th>\n",
              "      <td>Male</td>\n",
              "      <td>Switzerland</td>\n",
              "      <td>Parks &amp; Recreation</td>\n",
              "      <td>4</td>\n",
              "      <td>37565</td>\n",
              "    </tr>\n",
              "  </tbody>\n",
              "</table>\n",
              "</div>"
            ],
            "text/plain": [
              "          GENDER  NATIONALITY          DEPARTMENT  YEARS EXPERIENCE  SALARY\n",
              "Tom         Male  Switzerland         Engineering                23  107962\n",
              "Niko        Male          USA         Engineering                 1   30347\n",
              "Penelope  Female  Switzerland         Engineering                12   60258\n",
              "Aria      Female          USA         Engineering                 8   43618\n",
              "Sofia     Female          USA  Parks & Recreation                23   26125\n",
              "Dean        Male          USA  Parks & Recreation                 3   33592\n",
              "Zach        Male  Switzerland  Parks & Recreation                 4   37565"
            ]
          },
          "execution_count": 6,
          "metadata": {
            "tags": []
          },
          "output_type": "execute_result"
        }
      ],
      "source": [
        "df = pd.read_csv('https://github.com/michalis0/Business-Intelligence-and-Analytics/raw/master/week2%20-%20Pandas%20and%20Python/Pandas/data/employee_sample.csv', index_col=0)\n",
        "df"
      ]
    },
    {
      "cell_type": "code",
      "execution_count": null,
      "metadata": {
        "collapsed": true,
        "id": "upCLQCuWX5sh"
      },
      "outputs": [],
      "source": [
        "def style_diff(df, df_orig):\n",
        "    style = {True: '', \n",
        "             False: 'color: red; background-color: yellow'}\n",
        "    df_style = (df == df_orig).replace(style)\n",
        "    return df.style.apply(lambda x: df_style, axis=None)"
      ]
    },
    {
      "cell_type": "markdown",
      "metadata": {
        "id": "6hj_5PSDX5si"
      },
      "source": [
        "### Exercise 1\n",
        "<span  style=\"color:green; font-size:16px\"> Create a Series with the index equal to the same values in **`df`** but in a different order. Make the values of the Series integers representing the employee's age ranging somewhere from 20 to 65. Create a new column **`AGE`**. Does the order of the index matter?</span>"
      ]
    },
    {
      "cell_type": "code",
      "execution_count": null,
      "metadata": {
        "colab": {
          "base_uri": "https://localhost:8080/"
        },
        "id": "ZdMZtm16X5si",
        "outputId": "bf61505d-db61-4180-cf7b-5c19ef9c4d62"
      },
      "outputs": [
        {
          "data": {
            "text/plain": [
              "Aria        25\n",
              "Niko        30\n",
              "Tom         40\n",
              "Zach        50\n",
              "Penelope    35\n",
              "Sofia       36\n",
              "Dean        44\n",
              "dtype: int64"
            ]
          },
          "execution_count": 8,
          "metadata": {
            "tags": []
          },
          "output_type": "execute_result"
        }
      ],
      "source": [
        "s = pd.Series(data=[25, 30, 40, 50, 35, 36, 44],\n",
        "              index=['Aria', 'Niko', 'Tom', 'Zach', 'Penelope', 'Sofia', 'Dean'])\n",
        "s"
      ]
    },
    {
      "cell_type": "code",
      "execution_count": null,
      "metadata": {
        "colab": {
          "base_uri": "https://localhost:8080/",
          "height": 254
        },
        "id": "NVImtGoLX5si",
        "outputId": "f4c3eea8-ce1b-48e1-e184-1874c856e40a"
      },
      "outputs": [
        {
          "data": {
            "text/html": [
              "<div>\n",
              "<style scoped>\n",
              "    .dataframe tbody tr th:only-of-type {\n",
              "        vertical-align: middle;\n",
              "    }\n",
              "\n",
              "    .dataframe tbody tr th {\n",
              "        vertical-align: top;\n",
              "    }\n",
              "\n",
              "    .dataframe thead th {\n",
              "        text-align: right;\n",
              "    }\n",
              "</style>\n",
              "<table border=\"1\" class=\"dataframe\">\n",
              "  <thead>\n",
              "    <tr style=\"text-align: right;\">\n",
              "      <th></th>\n",
              "      <th>GENDER</th>\n",
              "      <th>NATIONALITY</th>\n",
              "      <th>DEPARTMENT</th>\n",
              "      <th>YEARS EXPERIENCE</th>\n",
              "      <th>SALARY</th>\n",
              "      <th>AGE</th>\n",
              "    </tr>\n",
              "  </thead>\n",
              "  <tbody>\n",
              "    <tr>\n",
              "      <th>Tom</th>\n",
              "      <td>Male</td>\n",
              "      <td>Switzerland</td>\n",
              "      <td>Engineering</td>\n",
              "      <td>23</td>\n",
              "      <td>107962</td>\n",
              "      <td>40</td>\n",
              "    </tr>\n",
              "    <tr>\n",
              "      <th>Niko</th>\n",
              "      <td>Male</td>\n",
              "      <td>USA</td>\n",
              "      <td>Engineering</td>\n",
              "      <td>1</td>\n",
              "      <td>30347</td>\n",
              "      <td>30</td>\n",
              "    </tr>\n",
              "    <tr>\n",
              "      <th>Penelope</th>\n",
              "      <td>Female</td>\n",
              "      <td>Switzerland</td>\n",
              "      <td>Engineering</td>\n",
              "      <td>12</td>\n",
              "      <td>60258</td>\n",
              "      <td>35</td>\n",
              "    </tr>\n",
              "    <tr>\n",
              "      <th>Aria</th>\n",
              "      <td>Female</td>\n",
              "      <td>USA</td>\n",
              "      <td>Engineering</td>\n",
              "      <td>8</td>\n",
              "      <td>43618</td>\n",
              "      <td>25</td>\n",
              "    </tr>\n",
              "    <tr>\n",
              "      <th>Sofia</th>\n",
              "      <td>Female</td>\n",
              "      <td>USA</td>\n",
              "      <td>Parks &amp; Recreation</td>\n",
              "      <td>23</td>\n",
              "      <td>26125</td>\n",
              "      <td>36</td>\n",
              "    </tr>\n",
              "    <tr>\n",
              "      <th>Dean</th>\n",
              "      <td>Male</td>\n",
              "      <td>USA</td>\n",
              "      <td>Parks &amp; Recreation</td>\n",
              "      <td>3</td>\n",
              "      <td>33592</td>\n",
              "      <td>44</td>\n",
              "    </tr>\n",
              "    <tr>\n",
              "      <th>Zach</th>\n",
              "      <td>Male</td>\n",
              "      <td>Switzerland</td>\n",
              "      <td>Parks &amp; Recreation</td>\n",
              "      <td>4</td>\n",
              "      <td>37565</td>\n",
              "      <td>50</td>\n",
              "    </tr>\n",
              "  </tbody>\n",
              "</table>\n",
              "</div>"
            ],
            "text/plain": [
              "          GENDER  NATIONALITY  ...  SALARY  AGE\n",
              "Tom         Male  Switzerland  ...  107962   40\n",
              "Niko        Male          USA  ...   30347   30\n",
              "Penelope  Female  Switzerland  ...   60258   35\n",
              "Aria      Female          USA  ...   43618   25\n",
              "Sofia     Female          USA  ...   26125   36\n",
              "Dean        Male          USA  ...   33592   44\n",
              "Zach        Male  Switzerland  ...   37565   50\n",
              "\n",
              "[7 rows x 6 columns]"
            ]
          },
          "execution_count": 9,
          "metadata": {
            "tags": []
          },
          "output_type": "execute_result"
        }
      ],
      "source": [
        "df['AGE'] = s\n",
        "df"
      ]
    },
    {
      "cell_type": "markdown",
      "metadata": {
        "id": "zJC8Z-E4X5si"
      },
      "source": [
        "The order of the index does not matter. They automatically align on their index."
      ]
    },
    {
      "cell_type": "markdown",
      "metadata": {
        "id": "RlrWlI0PX5si"
      },
      "source": [
        "### Exercise 2\n",
        "<span  style=\"color:green; font-size:16px\"> Create a new column **`BONUS`** equal to 0 for everyone</span>"
      ]
    },
    {
      "cell_type": "code",
      "execution_count": null,
      "metadata": {
        "colab": {
          "base_uri": "https://localhost:8080/",
          "height": 254
        },
        "id": "-lsGzXv_X5sj",
        "outputId": "eb629788-f7d9-4c83-8db7-5b16af425bf9"
      },
      "outputs": [
        {
          "data": {
            "text/html": [
              "<div>\n",
              "<style scoped>\n",
              "    .dataframe tbody tr th:only-of-type {\n",
              "        vertical-align: middle;\n",
              "    }\n",
              "\n",
              "    .dataframe tbody tr th {\n",
              "        vertical-align: top;\n",
              "    }\n",
              "\n",
              "    .dataframe thead th {\n",
              "        text-align: right;\n",
              "    }\n",
              "</style>\n",
              "<table border=\"1\" class=\"dataframe\">\n",
              "  <thead>\n",
              "    <tr style=\"text-align: right;\">\n",
              "      <th></th>\n",
              "      <th>GENDER</th>\n",
              "      <th>NATIONALITY</th>\n",
              "      <th>DEPARTMENT</th>\n",
              "      <th>YEARS EXPERIENCE</th>\n",
              "      <th>SALARY</th>\n",
              "      <th>AGE</th>\n",
              "      <th>BONUS</th>\n",
              "    </tr>\n",
              "  </thead>\n",
              "  <tbody>\n",
              "    <tr>\n",
              "      <th>Tom</th>\n",
              "      <td>Male</td>\n",
              "      <td>Switzerland</td>\n",
              "      <td>Engineering</td>\n",
              "      <td>23</td>\n",
              "      <td>107962</td>\n",
              "      <td>40</td>\n",
              "      <td>0</td>\n",
              "    </tr>\n",
              "    <tr>\n",
              "      <th>Niko</th>\n",
              "      <td>Male</td>\n",
              "      <td>USA</td>\n",
              "      <td>Engineering</td>\n",
              "      <td>1</td>\n",
              "      <td>30347</td>\n",
              "      <td>30</td>\n",
              "      <td>0</td>\n",
              "    </tr>\n",
              "    <tr>\n",
              "      <th>Penelope</th>\n",
              "      <td>Female</td>\n",
              "      <td>Switzerland</td>\n",
              "      <td>Engineering</td>\n",
              "      <td>12</td>\n",
              "      <td>60258</td>\n",
              "      <td>35</td>\n",
              "      <td>0</td>\n",
              "    </tr>\n",
              "    <tr>\n",
              "      <th>Aria</th>\n",
              "      <td>Female</td>\n",
              "      <td>USA</td>\n",
              "      <td>Engineering</td>\n",
              "      <td>8</td>\n",
              "      <td>43618</td>\n",
              "      <td>25</td>\n",
              "      <td>0</td>\n",
              "    </tr>\n",
              "    <tr>\n",
              "      <th>Sofia</th>\n",
              "      <td>Female</td>\n",
              "      <td>USA</td>\n",
              "      <td>Parks &amp; Recreation</td>\n",
              "      <td>23</td>\n",
              "      <td>26125</td>\n",
              "      <td>36</td>\n",
              "      <td>0</td>\n",
              "    </tr>\n",
              "    <tr>\n",
              "      <th>Dean</th>\n",
              "      <td>Male</td>\n",
              "      <td>USA</td>\n",
              "      <td>Parks &amp; Recreation</td>\n",
              "      <td>3</td>\n",
              "      <td>33592</td>\n",
              "      <td>44</td>\n",
              "      <td>0</td>\n",
              "    </tr>\n",
              "    <tr>\n",
              "      <th>Zach</th>\n",
              "      <td>Male</td>\n",
              "      <td>Switzerland</td>\n",
              "      <td>Parks &amp; Recreation</td>\n",
              "      <td>4</td>\n",
              "      <td>37565</td>\n",
              "      <td>50</td>\n",
              "      <td>0</td>\n",
              "    </tr>\n",
              "  </tbody>\n",
              "</table>\n",
              "</div>"
            ],
            "text/plain": [
              "          GENDER  NATIONALITY          DEPARTMENT  ...  SALARY  AGE  BONUS\n",
              "Tom         Male  Switzerland         Engineering  ...  107962   40      0\n",
              "Niko        Male          USA         Engineering  ...   30347   30      0\n",
              "Penelope  Female  Switzerland         Engineering  ...   60258   35      0\n",
              "Aria      Female          USA         Engineering  ...   43618   25      0\n",
              "Sofia     Female          USA  Parks & Recreation  ...   26125   36      0\n",
              "Dean        Male          USA  Parks & Recreation  ...   33592   44      0\n",
              "Zach        Male  Switzerland  Parks & Recreation  ...   37565   50      0\n",
              "\n",
              "[7 rows x 7 columns]"
            ]
          },
          "execution_count": 10,
          "metadata": {
            "tags": []
          },
          "output_type": "execute_result"
        }
      ],
      "source": [
        "df['BONUS'] = 0\n",
        "df"
      ]
    },
    {
      "cell_type": "markdown",
      "metadata": {
        "id": "zsFbvahyX5sj"
      },
      "source": [
        "### Exercise 3\n",
        "<span  style=\"color:green; font-size:16px\"> Change the **`BONUS`** column so that everyone with more than 10 years of experience get $10,000. Use the **`style_diff`** function to display the results.</span>"
      ]
    },
    {
      "cell_type": "code",
      "execution_count": null,
      "metadata": {
        "colab": {
          "base_uri": "https://localhost:8080/",
          "height": 178
        },
        "id": "CQG66Zd3X5sj",
        "outputId": "9fc176c3-f52a-4b62-b3eb-15aae1277fae"
      },
      "outputs": [
        {
          "data": {
            "text/html": [
              "<style  type=\"text/css\" >\n",
              "#T_dd8a64a8_86a3_11eb_a251_0242ac1c0002row0_col6,#T_dd8a64a8_86a3_11eb_a251_0242ac1c0002row2_col6,#T_dd8a64a8_86a3_11eb_a251_0242ac1c0002row4_col6{\n",
              "            color:  red;\n",
              "             background-color:  yellow;\n",
              "        }</style><table id=\"T_dd8a64a8_86a3_11eb_a251_0242ac1c0002\" ><thead>    <tr>        <th class=\"blank level0\" ></th>        <th class=\"col_heading level0 col0\" >GENDER</th>        <th class=\"col_heading level0 col1\" >NATIONALITY</th>        <th class=\"col_heading level0 col2\" >DEPARTMENT</th>        <th class=\"col_heading level0 col3\" >YEARS EXPERIENCE</th>        <th class=\"col_heading level0 col4\" >SALARY</th>        <th class=\"col_heading level0 col5\" >AGE</th>        <th class=\"col_heading level0 col6\" >BONUS</th>    </tr></thead><tbody>\n",
              "                <tr>\n",
              "                        <th id=\"T_dd8a64a8_86a3_11eb_a251_0242ac1c0002level0_row0\" class=\"row_heading level0 row0\" >Tom</th>\n",
              "                        <td id=\"T_dd8a64a8_86a3_11eb_a251_0242ac1c0002row0_col0\" class=\"data row0 col0\" >Male</td>\n",
              "                        <td id=\"T_dd8a64a8_86a3_11eb_a251_0242ac1c0002row0_col1\" class=\"data row0 col1\" >Switzerland</td>\n",
              "                        <td id=\"T_dd8a64a8_86a3_11eb_a251_0242ac1c0002row0_col2\" class=\"data row0 col2\" >Engineering</td>\n",
              "                        <td id=\"T_dd8a64a8_86a3_11eb_a251_0242ac1c0002row0_col3\" class=\"data row0 col3\" >23</td>\n",
              "                        <td id=\"T_dd8a64a8_86a3_11eb_a251_0242ac1c0002row0_col4\" class=\"data row0 col4\" >107962</td>\n",
              "                        <td id=\"T_dd8a64a8_86a3_11eb_a251_0242ac1c0002row0_col5\" class=\"data row0 col5\" >40</td>\n",
              "                        <td id=\"T_dd8a64a8_86a3_11eb_a251_0242ac1c0002row0_col6\" class=\"data row0 col6\" >10000</td>\n",
              "            </tr>\n",
              "            <tr>\n",
              "                        <th id=\"T_dd8a64a8_86a3_11eb_a251_0242ac1c0002level0_row1\" class=\"row_heading level0 row1\" >Niko</th>\n",
              "                        <td id=\"T_dd8a64a8_86a3_11eb_a251_0242ac1c0002row1_col0\" class=\"data row1 col0\" >Male</td>\n",
              "                        <td id=\"T_dd8a64a8_86a3_11eb_a251_0242ac1c0002row1_col1\" class=\"data row1 col1\" >USA</td>\n",
              "                        <td id=\"T_dd8a64a8_86a3_11eb_a251_0242ac1c0002row1_col2\" class=\"data row1 col2\" >Engineering</td>\n",
              "                        <td id=\"T_dd8a64a8_86a3_11eb_a251_0242ac1c0002row1_col3\" class=\"data row1 col3\" >1</td>\n",
              "                        <td id=\"T_dd8a64a8_86a3_11eb_a251_0242ac1c0002row1_col4\" class=\"data row1 col4\" >30347</td>\n",
              "                        <td id=\"T_dd8a64a8_86a3_11eb_a251_0242ac1c0002row1_col5\" class=\"data row1 col5\" >30</td>\n",
              "                        <td id=\"T_dd8a64a8_86a3_11eb_a251_0242ac1c0002row1_col6\" class=\"data row1 col6\" >0</td>\n",
              "            </tr>\n",
              "            <tr>\n",
              "                        <th id=\"T_dd8a64a8_86a3_11eb_a251_0242ac1c0002level0_row2\" class=\"row_heading level0 row2\" >Penelope</th>\n",
              "                        <td id=\"T_dd8a64a8_86a3_11eb_a251_0242ac1c0002row2_col0\" class=\"data row2 col0\" >Female</td>\n",
              "                        <td id=\"T_dd8a64a8_86a3_11eb_a251_0242ac1c0002row2_col1\" class=\"data row2 col1\" >Switzerland</td>\n",
              "                        <td id=\"T_dd8a64a8_86a3_11eb_a251_0242ac1c0002row2_col2\" class=\"data row2 col2\" >Engineering</td>\n",
              "                        <td id=\"T_dd8a64a8_86a3_11eb_a251_0242ac1c0002row2_col3\" class=\"data row2 col3\" >12</td>\n",
              "                        <td id=\"T_dd8a64a8_86a3_11eb_a251_0242ac1c0002row2_col4\" class=\"data row2 col4\" >60258</td>\n",
              "                        <td id=\"T_dd8a64a8_86a3_11eb_a251_0242ac1c0002row2_col5\" class=\"data row2 col5\" >35</td>\n",
              "                        <td id=\"T_dd8a64a8_86a3_11eb_a251_0242ac1c0002row2_col6\" class=\"data row2 col6\" >10000</td>\n",
              "            </tr>\n",
              "            <tr>\n",
              "                        <th id=\"T_dd8a64a8_86a3_11eb_a251_0242ac1c0002level0_row3\" class=\"row_heading level0 row3\" >Aria</th>\n",
              "                        <td id=\"T_dd8a64a8_86a3_11eb_a251_0242ac1c0002row3_col0\" class=\"data row3 col0\" >Female</td>\n",
              "                        <td id=\"T_dd8a64a8_86a3_11eb_a251_0242ac1c0002row3_col1\" class=\"data row3 col1\" >USA</td>\n",
              "                        <td id=\"T_dd8a64a8_86a3_11eb_a251_0242ac1c0002row3_col2\" class=\"data row3 col2\" >Engineering</td>\n",
              "                        <td id=\"T_dd8a64a8_86a3_11eb_a251_0242ac1c0002row3_col3\" class=\"data row3 col3\" >8</td>\n",
              "                        <td id=\"T_dd8a64a8_86a3_11eb_a251_0242ac1c0002row3_col4\" class=\"data row3 col4\" >43618</td>\n",
              "                        <td id=\"T_dd8a64a8_86a3_11eb_a251_0242ac1c0002row3_col5\" class=\"data row3 col5\" >25</td>\n",
              "                        <td id=\"T_dd8a64a8_86a3_11eb_a251_0242ac1c0002row3_col6\" class=\"data row3 col6\" >0</td>\n",
              "            </tr>\n",
              "            <tr>\n",
              "                        <th id=\"T_dd8a64a8_86a3_11eb_a251_0242ac1c0002level0_row4\" class=\"row_heading level0 row4\" >Sofia</th>\n",
              "                        <td id=\"T_dd8a64a8_86a3_11eb_a251_0242ac1c0002row4_col0\" class=\"data row4 col0\" >Female</td>\n",
              "                        <td id=\"T_dd8a64a8_86a3_11eb_a251_0242ac1c0002row4_col1\" class=\"data row4 col1\" >USA</td>\n",
              "                        <td id=\"T_dd8a64a8_86a3_11eb_a251_0242ac1c0002row4_col2\" class=\"data row4 col2\" >Parks & Recreation</td>\n",
              "                        <td id=\"T_dd8a64a8_86a3_11eb_a251_0242ac1c0002row4_col3\" class=\"data row4 col3\" >23</td>\n",
              "                        <td id=\"T_dd8a64a8_86a3_11eb_a251_0242ac1c0002row4_col4\" class=\"data row4 col4\" >26125</td>\n",
              "                        <td id=\"T_dd8a64a8_86a3_11eb_a251_0242ac1c0002row4_col5\" class=\"data row4 col5\" >36</td>\n",
              "                        <td id=\"T_dd8a64a8_86a3_11eb_a251_0242ac1c0002row4_col6\" class=\"data row4 col6\" >10000</td>\n",
              "            </tr>\n",
              "            <tr>\n",
              "                        <th id=\"T_dd8a64a8_86a3_11eb_a251_0242ac1c0002level0_row5\" class=\"row_heading level0 row5\" >Dean</th>\n",
              "                        <td id=\"T_dd8a64a8_86a3_11eb_a251_0242ac1c0002row5_col0\" class=\"data row5 col0\" >Male</td>\n",
              "                        <td id=\"T_dd8a64a8_86a3_11eb_a251_0242ac1c0002row5_col1\" class=\"data row5 col1\" >USA</td>\n",
              "                        <td id=\"T_dd8a64a8_86a3_11eb_a251_0242ac1c0002row5_col2\" class=\"data row5 col2\" >Parks & Recreation</td>\n",
              "                        <td id=\"T_dd8a64a8_86a3_11eb_a251_0242ac1c0002row5_col3\" class=\"data row5 col3\" >3</td>\n",
              "                        <td id=\"T_dd8a64a8_86a3_11eb_a251_0242ac1c0002row5_col4\" class=\"data row5 col4\" >33592</td>\n",
              "                        <td id=\"T_dd8a64a8_86a3_11eb_a251_0242ac1c0002row5_col5\" class=\"data row5 col5\" >44</td>\n",
              "                        <td id=\"T_dd8a64a8_86a3_11eb_a251_0242ac1c0002row5_col6\" class=\"data row5 col6\" >0</td>\n",
              "            </tr>\n",
              "            <tr>\n",
              "                        <th id=\"T_dd8a64a8_86a3_11eb_a251_0242ac1c0002level0_row6\" class=\"row_heading level0 row6\" >Zach</th>\n",
              "                        <td id=\"T_dd8a64a8_86a3_11eb_a251_0242ac1c0002row6_col0\" class=\"data row6 col0\" >Male</td>\n",
              "                        <td id=\"T_dd8a64a8_86a3_11eb_a251_0242ac1c0002row6_col1\" class=\"data row6 col1\" >Switzerland</td>\n",
              "                        <td id=\"T_dd8a64a8_86a3_11eb_a251_0242ac1c0002row6_col2\" class=\"data row6 col2\" >Parks & Recreation</td>\n",
              "                        <td id=\"T_dd8a64a8_86a3_11eb_a251_0242ac1c0002row6_col3\" class=\"data row6 col3\" >4</td>\n",
              "                        <td id=\"T_dd8a64a8_86a3_11eb_a251_0242ac1c0002row6_col4\" class=\"data row6 col4\" >37565</td>\n",
              "                        <td id=\"T_dd8a64a8_86a3_11eb_a251_0242ac1c0002row6_col5\" class=\"data row6 col5\" >50</td>\n",
              "                        <td id=\"T_dd8a64a8_86a3_11eb_a251_0242ac1c0002row6_col6\" class=\"data row6 col6\" >0</td>\n",
              "            </tr>\n",
              "    </tbody></table>"
            ],
            "text/plain": [
              "<pandas.io.formats.style.Styler at 0x7f838bc70410>"
            ]
          },
          "execution_count": 11,
          "metadata": {
            "tags": []
          },
          "output_type": "execute_result"
        }
      ],
      "source": [
        "df_orig = df.copy()\n",
        "df.loc[df['YEARS EXPERIENCE'] > 10, 'BONUS'] = 10000\n",
        "style_diff(df, df_orig)"
      ]
    },
    {
      "cell_type": "markdown",
      "metadata": {
        "id": "NgC16qWHX5sj"
      },
      "source": [
        "### Exercise 4\n",
        "<span  style=\"color:green; font-size:16px\"> Create a new column **`TOTAL SALARY`** that is 10% higher than the current **`SALARY`** column and add the bonus on top of that as well. Use **`.loc`** on the left-hand side and NOT *just the indexing operator*. Make the data type **`TOTAL SALARY`** an integer.</span>"
      ]
    },
    {
      "cell_type": "code",
      "execution_count": null,
      "metadata": {
        "colab": {
          "base_uri": "https://localhost:8080/",
          "height": 254
        },
        "id": "EWK9XzVTX5sj",
        "outputId": "e3d3802e-c10b-4f8f-db22-7c955b2b128b"
      },
      "outputs": [
        {
          "data": {
            "text/html": [
              "<div>\n",
              "<style scoped>\n",
              "    .dataframe tbody tr th:only-of-type {\n",
              "        vertical-align: middle;\n",
              "    }\n",
              "\n",
              "    .dataframe tbody tr th {\n",
              "        vertical-align: top;\n",
              "    }\n",
              "\n",
              "    .dataframe thead th {\n",
              "        text-align: right;\n",
              "    }\n",
              "</style>\n",
              "<table border=\"1\" class=\"dataframe\">\n",
              "  <thead>\n",
              "    <tr style=\"text-align: right;\">\n",
              "      <th></th>\n",
              "      <th>GENDER</th>\n",
              "      <th>NATIONALITY</th>\n",
              "      <th>DEPARTMENT</th>\n",
              "      <th>YEARS EXPERIENCE</th>\n",
              "      <th>SALARY</th>\n",
              "      <th>AGE</th>\n",
              "      <th>BONUS</th>\n",
              "      <th>TOTAL SALARY</th>\n",
              "    </tr>\n",
              "  </thead>\n",
              "  <tbody>\n",
              "    <tr>\n",
              "      <th>Tom</th>\n",
              "      <td>Male</td>\n",
              "      <td>Switzerland</td>\n",
              "      <td>Engineering</td>\n",
              "      <td>23</td>\n",
              "      <td>107962</td>\n",
              "      <td>40</td>\n",
              "      <td>10000</td>\n",
              "      <td>128758</td>\n",
              "    </tr>\n",
              "    <tr>\n",
              "      <th>Niko</th>\n",
              "      <td>Male</td>\n",
              "      <td>USA</td>\n",
              "      <td>Engineering</td>\n",
              "      <td>1</td>\n",
              "      <td>30347</td>\n",
              "      <td>30</td>\n",
              "      <td>0</td>\n",
              "      <td>33381</td>\n",
              "    </tr>\n",
              "    <tr>\n",
              "      <th>Penelope</th>\n",
              "      <td>Female</td>\n",
              "      <td>Switzerland</td>\n",
              "      <td>Engineering</td>\n",
              "      <td>12</td>\n",
              "      <td>60258</td>\n",
              "      <td>35</td>\n",
              "      <td>10000</td>\n",
              "      <td>76283</td>\n",
              "    </tr>\n",
              "    <tr>\n",
              "      <th>Aria</th>\n",
              "      <td>Female</td>\n",
              "      <td>USA</td>\n",
              "      <td>Engineering</td>\n",
              "      <td>8</td>\n",
              "      <td>43618</td>\n",
              "      <td>25</td>\n",
              "      <td>0</td>\n",
              "      <td>47979</td>\n",
              "    </tr>\n",
              "    <tr>\n",
              "      <th>Sofia</th>\n",
              "      <td>Female</td>\n",
              "      <td>USA</td>\n",
              "      <td>Parks &amp; Recreation</td>\n",
              "      <td>23</td>\n",
              "      <td>26125</td>\n",
              "      <td>36</td>\n",
              "      <td>10000</td>\n",
              "      <td>38737</td>\n",
              "    </tr>\n",
              "    <tr>\n",
              "      <th>Dean</th>\n",
              "      <td>Male</td>\n",
              "      <td>USA</td>\n",
              "      <td>Parks &amp; Recreation</td>\n",
              "      <td>3</td>\n",
              "      <td>33592</td>\n",
              "      <td>44</td>\n",
              "      <td>0</td>\n",
              "      <td>36951</td>\n",
              "    </tr>\n",
              "    <tr>\n",
              "      <th>Zach</th>\n",
              "      <td>Male</td>\n",
              "      <td>Switzerland</td>\n",
              "      <td>Parks &amp; Recreation</td>\n",
              "      <td>4</td>\n",
              "      <td>37565</td>\n",
              "      <td>50</td>\n",
              "      <td>0</td>\n",
              "      <td>41321</td>\n",
              "    </tr>\n",
              "  </tbody>\n",
              "</table>\n",
              "</div>"
            ],
            "text/plain": [
              "          GENDER  NATIONALITY          DEPARTMENT  ...  AGE  BONUS  TOTAL SALARY\n",
              "Tom         Male  Switzerland         Engineering  ...   40  10000        128758\n",
              "Niko        Male          USA         Engineering  ...   30      0         33381\n",
              "Penelope  Female  Switzerland         Engineering  ...   35  10000         76283\n",
              "Aria      Female          USA         Engineering  ...   25      0         47979\n",
              "Sofia     Female          USA  Parks & Recreation  ...   36  10000         38737\n",
              "Dean        Male          USA  Parks & Recreation  ...   44      0         36951\n",
              "Zach        Male  Switzerland  Parks & Recreation  ...   50      0         41321\n",
              "\n",
              "[7 rows x 8 columns]"
            ]
          },
          "execution_count": 12,
          "metadata": {
            "tags": []
          },
          "output_type": "execute_result"
        }
      ],
      "source": [
        "df.loc[:, 'TOTAL SALARY'] = df['SALARY'] * 1.1 + df['BONUS']\n",
        "df.loc[:, 'TOTAL SALARY'] = df.loc[:, 'TOTAL SALARY'].astype(int)\n",
        "df"
      ]
    },
    {
      "cell_type": "code",
      "execution_count": null,
      "metadata": {
        "colab": {
          "base_uri": "https://localhost:8080/",
          "height": 254
        },
        "id": "bWfapW50X5sk",
        "outputId": "6e85fda8-da85-4bdd-8922-26069ca1bb60"
      },
      "outputs": [
        {
          "data": {
            "text/html": [
              "<div>\n",
              "<style scoped>\n",
              "    .dataframe tbody tr th:only-of-type {\n",
              "        vertical-align: middle;\n",
              "    }\n",
              "\n",
              "    .dataframe tbody tr th {\n",
              "        vertical-align: top;\n",
              "    }\n",
              "\n",
              "    .dataframe thead th {\n",
              "        text-align: right;\n",
              "    }\n",
              "</style>\n",
              "<table border=\"1\" class=\"dataframe\">\n",
              "  <thead>\n",
              "    <tr style=\"text-align: right;\">\n",
              "      <th></th>\n",
              "      <th>GENDER</th>\n",
              "      <th>NATIONALITY</th>\n",
              "      <th>DEPARTMENT</th>\n",
              "      <th>YEARS EXPERIENCE</th>\n",
              "      <th>SALARY</th>\n",
              "      <th>AGE</th>\n",
              "      <th>BONUS</th>\n",
              "      <th>TOTAL SALARY</th>\n",
              "    </tr>\n",
              "  </thead>\n",
              "  <tbody>\n",
              "    <tr>\n",
              "      <th>Tom</th>\n",
              "      <td>Male</td>\n",
              "      <td>Switzerland</td>\n",
              "      <td>Engineering</td>\n",
              "      <td>23</td>\n",
              "      <td>107962</td>\n",
              "      <td>40</td>\n",
              "      <td>10000</td>\n",
              "      <td>128758</td>\n",
              "    </tr>\n",
              "    <tr>\n",
              "      <th>Niko</th>\n",
              "      <td>Male</td>\n",
              "      <td>USA</td>\n",
              "      <td>Engineering</td>\n",
              "      <td>1</td>\n",
              "      <td>30347</td>\n",
              "      <td>30</td>\n",
              "      <td>0</td>\n",
              "      <td>33381</td>\n",
              "    </tr>\n",
              "    <tr>\n",
              "      <th>Penelope</th>\n",
              "      <td>Female</td>\n",
              "      <td>Switzerland</td>\n",
              "      <td>Engineering</td>\n",
              "      <td>12</td>\n",
              "      <td>60258</td>\n",
              "      <td>35</td>\n",
              "      <td>10000</td>\n",
              "      <td>76283</td>\n",
              "    </tr>\n",
              "    <tr>\n",
              "      <th>Aria</th>\n",
              "      <td>Female</td>\n",
              "      <td>USA</td>\n",
              "      <td>Engineering</td>\n",
              "      <td>8</td>\n",
              "      <td>43618</td>\n",
              "      <td>25</td>\n",
              "      <td>0</td>\n",
              "      <td>47979</td>\n",
              "    </tr>\n",
              "    <tr>\n",
              "      <th>Sofia</th>\n",
              "      <td>Female</td>\n",
              "      <td>USA</td>\n",
              "      <td>Parks &amp; Recreation</td>\n",
              "      <td>23</td>\n",
              "      <td>26125</td>\n",
              "      <td>36</td>\n",
              "      <td>10000</td>\n",
              "      <td>38737</td>\n",
              "    </tr>\n",
              "    <tr>\n",
              "      <th>Dean</th>\n",
              "      <td>Male</td>\n",
              "      <td>USA</td>\n",
              "      <td>Parks &amp; Recreation</td>\n",
              "      <td>3</td>\n",
              "      <td>33592</td>\n",
              "      <td>44</td>\n",
              "      <td>0</td>\n",
              "      <td>36951</td>\n",
              "    </tr>\n",
              "    <tr>\n",
              "      <th>Zach</th>\n",
              "      <td>Male</td>\n",
              "      <td>Switzerland</td>\n",
              "      <td>Parks &amp; Recreation</td>\n",
              "      <td>4</td>\n",
              "      <td>37565</td>\n",
              "      <td>50</td>\n",
              "      <td>0</td>\n",
              "      <td>41321</td>\n",
              "    </tr>\n",
              "  </tbody>\n",
              "</table>\n",
              "</div>"
            ],
            "text/plain": [
              "          GENDER  NATIONALITY          DEPARTMENT  ...  AGE  BONUS  TOTAL SALARY\n",
              "Tom         Male  Switzerland         Engineering  ...   40  10000        128758\n",
              "Niko        Male          USA         Engineering  ...   30      0         33381\n",
              "Penelope  Female  Switzerland         Engineering  ...   35  10000         76283\n",
              "Aria      Female          USA         Engineering  ...   25      0         47979\n",
              "Sofia     Female          USA  Parks & Recreation  ...   36  10000         38737\n",
              "Dean        Male          USA  Parks & Recreation  ...   44      0         36951\n",
              "Zach        Male  Switzerland  Parks & Recreation  ...   50      0         41321\n",
              "\n",
              "[7 rows x 8 columns]"
            ]
          },
          "execution_count": 13,
          "metadata": {
            "tags": []
          },
          "output_type": "execute_result"
        }
      ],
      "source": [
        "# in one line\n",
        "df.loc[:, 'TOTAL SALARY'] = (df['SALARY'] * 1.1 + df['BONUS']).astype(int)\n",
        "df"
      ]
    },
    {
      "cell_type": "markdown",
      "metadata": {
        "id": "hLFr1WqmX5sk"
      },
      "source": [
        "### Exercise 5\n",
        "<span  style=\"color:green; font-size:16px\"> Set Aria's department to 'Police'. Highlight the change</span>"
      ]
    },
    {
      "cell_type": "code",
      "execution_count": null,
      "metadata": {
        "colab": {
          "base_uri": "https://localhost:8080/",
          "height": 178
        },
        "id": "ak6179XOX5sk",
        "outputId": "fe58ce94-708e-4cb8-9424-97df00d10f62",
        "scrolled": true
      },
      "outputs": [
        {
          "data": {
            "text/html": [
              "<style  type=\"text/css\" >\n",
              "#T_e6e6eb84_86a3_11eb_a251_0242ac1c0002row3_col2{\n",
              "            color:  red;\n",
              "             background-color:  yellow;\n",
              "        }</style><table id=\"T_e6e6eb84_86a3_11eb_a251_0242ac1c0002\" ><thead>    <tr>        <th class=\"blank level0\" ></th>        <th class=\"col_heading level0 col0\" >GENDER</th>        <th class=\"col_heading level0 col1\" >NATIONALITY</th>        <th class=\"col_heading level0 col2\" >DEPARTMENT</th>        <th class=\"col_heading level0 col3\" >YEARS EXPERIENCE</th>        <th class=\"col_heading level0 col4\" >SALARY</th>        <th class=\"col_heading level0 col5\" >AGE</th>        <th class=\"col_heading level0 col6\" >BONUS</th>        <th class=\"col_heading level0 col7\" >TOTAL SALARY</th>    </tr></thead><tbody>\n",
              "                <tr>\n",
              "                        <th id=\"T_e6e6eb84_86a3_11eb_a251_0242ac1c0002level0_row0\" class=\"row_heading level0 row0\" >Tom</th>\n",
              "                        <td id=\"T_e6e6eb84_86a3_11eb_a251_0242ac1c0002row0_col0\" class=\"data row0 col0\" >Male</td>\n",
              "                        <td id=\"T_e6e6eb84_86a3_11eb_a251_0242ac1c0002row0_col1\" class=\"data row0 col1\" >Switzerland</td>\n",
              "                        <td id=\"T_e6e6eb84_86a3_11eb_a251_0242ac1c0002row0_col2\" class=\"data row0 col2\" >Engineering</td>\n",
              "                        <td id=\"T_e6e6eb84_86a3_11eb_a251_0242ac1c0002row0_col3\" class=\"data row0 col3\" >23</td>\n",
              "                        <td id=\"T_e6e6eb84_86a3_11eb_a251_0242ac1c0002row0_col4\" class=\"data row0 col4\" >107962</td>\n",
              "                        <td id=\"T_e6e6eb84_86a3_11eb_a251_0242ac1c0002row0_col5\" class=\"data row0 col5\" >40</td>\n",
              "                        <td id=\"T_e6e6eb84_86a3_11eb_a251_0242ac1c0002row0_col6\" class=\"data row0 col6\" >10000</td>\n",
              "                        <td id=\"T_e6e6eb84_86a3_11eb_a251_0242ac1c0002row0_col7\" class=\"data row0 col7\" >128758</td>\n",
              "            </tr>\n",
              "            <tr>\n",
              "                        <th id=\"T_e6e6eb84_86a3_11eb_a251_0242ac1c0002level0_row1\" class=\"row_heading level0 row1\" >Niko</th>\n",
              "                        <td id=\"T_e6e6eb84_86a3_11eb_a251_0242ac1c0002row1_col0\" class=\"data row1 col0\" >Male</td>\n",
              "                        <td id=\"T_e6e6eb84_86a3_11eb_a251_0242ac1c0002row1_col1\" class=\"data row1 col1\" >USA</td>\n",
              "                        <td id=\"T_e6e6eb84_86a3_11eb_a251_0242ac1c0002row1_col2\" class=\"data row1 col2\" >Engineering</td>\n",
              "                        <td id=\"T_e6e6eb84_86a3_11eb_a251_0242ac1c0002row1_col3\" class=\"data row1 col3\" >1</td>\n",
              "                        <td id=\"T_e6e6eb84_86a3_11eb_a251_0242ac1c0002row1_col4\" class=\"data row1 col4\" >30347</td>\n",
              "                        <td id=\"T_e6e6eb84_86a3_11eb_a251_0242ac1c0002row1_col5\" class=\"data row1 col5\" >30</td>\n",
              "                        <td id=\"T_e6e6eb84_86a3_11eb_a251_0242ac1c0002row1_col6\" class=\"data row1 col6\" >0</td>\n",
              "                        <td id=\"T_e6e6eb84_86a3_11eb_a251_0242ac1c0002row1_col7\" class=\"data row1 col7\" >33381</td>\n",
              "            </tr>\n",
              "            <tr>\n",
              "                        <th id=\"T_e6e6eb84_86a3_11eb_a251_0242ac1c0002level0_row2\" class=\"row_heading level0 row2\" >Penelope</th>\n",
              "                        <td id=\"T_e6e6eb84_86a3_11eb_a251_0242ac1c0002row2_col0\" class=\"data row2 col0\" >Female</td>\n",
              "                        <td id=\"T_e6e6eb84_86a3_11eb_a251_0242ac1c0002row2_col1\" class=\"data row2 col1\" >Switzerland</td>\n",
              "                        <td id=\"T_e6e6eb84_86a3_11eb_a251_0242ac1c0002row2_col2\" class=\"data row2 col2\" >Engineering</td>\n",
              "                        <td id=\"T_e6e6eb84_86a3_11eb_a251_0242ac1c0002row2_col3\" class=\"data row2 col3\" >12</td>\n",
              "                        <td id=\"T_e6e6eb84_86a3_11eb_a251_0242ac1c0002row2_col4\" class=\"data row2 col4\" >60258</td>\n",
              "                        <td id=\"T_e6e6eb84_86a3_11eb_a251_0242ac1c0002row2_col5\" class=\"data row2 col5\" >35</td>\n",
              "                        <td id=\"T_e6e6eb84_86a3_11eb_a251_0242ac1c0002row2_col6\" class=\"data row2 col6\" >10000</td>\n",
              "                        <td id=\"T_e6e6eb84_86a3_11eb_a251_0242ac1c0002row2_col7\" class=\"data row2 col7\" >76283</td>\n",
              "            </tr>\n",
              "            <tr>\n",
              "                        <th id=\"T_e6e6eb84_86a3_11eb_a251_0242ac1c0002level0_row3\" class=\"row_heading level0 row3\" >Aria</th>\n",
              "                        <td id=\"T_e6e6eb84_86a3_11eb_a251_0242ac1c0002row3_col0\" class=\"data row3 col0\" >Female</td>\n",
              "                        <td id=\"T_e6e6eb84_86a3_11eb_a251_0242ac1c0002row3_col1\" class=\"data row3 col1\" >USA</td>\n",
              "                        <td id=\"T_e6e6eb84_86a3_11eb_a251_0242ac1c0002row3_col2\" class=\"data row3 col2\" >Police</td>\n",
              "                        <td id=\"T_e6e6eb84_86a3_11eb_a251_0242ac1c0002row3_col3\" class=\"data row3 col3\" >8</td>\n",
              "                        <td id=\"T_e6e6eb84_86a3_11eb_a251_0242ac1c0002row3_col4\" class=\"data row3 col4\" >43618</td>\n",
              "                        <td id=\"T_e6e6eb84_86a3_11eb_a251_0242ac1c0002row3_col5\" class=\"data row3 col5\" >25</td>\n",
              "                        <td id=\"T_e6e6eb84_86a3_11eb_a251_0242ac1c0002row3_col6\" class=\"data row3 col6\" >0</td>\n",
              "                        <td id=\"T_e6e6eb84_86a3_11eb_a251_0242ac1c0002row3_col7\" class=\"data row3 col7\" >47979</td>\n",
              "            </tr>\n",
              "            <tr>\n",
              "                        <th id=\"T_e6e6eb84_86a3_11eb_a251_0242ac1c0002level0_row4\" class=\"row_heading level0 row4\" >Sofia</th>\n",
              "                        <td id=\"T_e6e6eb84_86a3_11eb_a251_0242ac1c0002row4_col0\" class=\"data row4 col0\" >Female</td>\n",
              "                        <td id=\"T_e6e6eb84_86a3_11eb_a251_0242ac1c0002row4_col1\" class=\"data row4 col1\" >USA</td>\n",
              "                        <td id=\"T_e6e6eb84_86a3_11eb_a251_0242ac1c0002row4_col2\" class=\"data row4 col2\" >Parks & Recreation</td>\n",
              "                        <td id=\"T_e6e6eb84_86a3_11eb_a251_0242ac1c0002row4_col3\" class=\"data row4 col3\" >23</td>\n",
              "                        <td id=\"T_e6e6eb84_86a3_11eb_a251_0242ac1c0002row4_col4\" class=\"data row4 col4\" >26125</td>\n",
              "                        <td id=\"T_e6e6eb84_86a3_11eb_a251_0242ac1c0002row4_col5\" class=\"data row4 col5\" >36</td>\n",
              "                        <td id=\"T_e6e6eb84_86a3_11eb_a251_0242ac1c0002row4_col6\" class=\"data row4 col6\" >10000</td>\n",
              "                        <td id=\"T_e6e6eb84_86a3_11eb_a251_0242ac1c0002row4_col7\" class=\"data row4 col7\" >38737</td>\n",
              "            </tr>\n",
              "            <tr>\n",
              "                        <th id=\"T_e6e6eb84_86a3_11eb_a251_0242ac1c0002level0_row5\" class=\"row_heading level0 row5\" >Dean</th>\n",
              "                        <td id=\"T_e6e6eb84_86a3_11eb_a251_0242ac1c0002row5_col0\" class=\"data row5 col0\" >Male</td>\n",
              "                        <td id=\"T_e6e6eb84_86a3_11eb_a251_0242ac1c0002row5_col1\" class=\"data row5 col1\" >USA</td>\n",
              "                        <td id=\"T_e6e6eb84_86a3_11eb_a251_0242ac1c0002row5_col2\" class=\"data row5 col2\" >Parks & Recreation</td>\n",
              "                        <td id=\"T_e6e6eb84_86a3_11eb_a251_0242ac1c0002row5_col3\" class=\"data row5 col3\" >3</td>\n",
              "                        <td id=\"T_e6e6eb84_86a3_11eb_a251_0242ac1c0002row5_col4\" class=\"data row5 col4\" >33592</td>\n",
              "                        <td id=\"T_e6e6eb84_86a3_11eb_a251_0242ac1c0002row5_col5\" class=\"data row5 col5\" >44</td>\n",
              "                        <td id=\"T_e6e6eb84_86a3_11eb_a251_0242ac1c0002row5_col6\" class=\"data row5 col6\" >0</td>\n",
              "                        <td id=\"T_e6e6eb84_86a3_11eb_a251_0242ac1c0002row5_col7\" class=\"data row5 col7\" >36951</td>\n",
              "            </tr>\n",
              "            <tr>\n",
              "                        <th id=\"T_e6e6eb84_86a3_11eb_a251_0242ac1c0002level0_row6\" class=\"row_heading level0 row6\" >Zach</th>\n",
              "                        <td id=\"T_e6e6eb84_86a3_11eb_a251_0242ac1c0002row6_col0\" class=\"data row6 col0\" >Male</td>\n",
              "                        <td id=\"T_e6e6eb84_86a3_11eb_a251_0242ac1c0002row6_col1\" class=\"data row6 col1\" >Switzerland</td>\n",
              "                        <td id=\"T_e6e6eb84_86a3_11eb_a251_0242ac1c0002row6_col2\" class=\"data row6 col2\" >Parks & Recreation</td>\n",
              "                        <td id=\"T_e6e6eb84_86a3_11eb_a251_0242ac1c0002row6_col3\" class=\"data row6 col3\" >4</td>\n",
              "                        <td id=\"T_e6e6eb84_86a3_11eb_a251_0242ac1c0002row6_col4\" class=\"data row6 col4\" >37565</td>\n",
              "                        <td id=\"T_e6e6eb84_86a3_11eb_a251_0242ac1c0002row6_col5\" class=\"data row6 col5\" >50</td>\n",
              "                        <td id=\"T_e6e6eb84_86a3_11eb_a251_0242ac1c0002row6_col6\" class=\"data row6 col6\" >0</td>\n",
              "                        <td id=\"T_e6e6eb84_86a3_11eb_a251_0242ac1c0002row6_col7\" class=\"data row6 col7\" >41321</td>\n",
              "            </tr>\n",
              "    </tbody></table>"
            ],
            "text/plain": [
              "<pandas.io.formats.style.Styler at 0x7f838bcb63d0>"
            ]
          },
          "execution_count": 14,
          "metadata": {
            "tags": []
          },
          "output_type": "execute_result"
        }
      ],
      "source": [
        "df_orig = df.copy()\n",
        "df.loc['Aria', 'DEPARTMENT'] = 'Police'\n",
        "style_diff(df, df_orig)"
      ]
    },
    {
      "cell_type": "markdown",
      "metadata": {
        "id": "-e1s3Zf6X5sl"
      },
      "source": [
        "### Exercise 6\n",
        "<span  style=\"color:green; font-size:16px\"> Use **`.iloc`** to change the age of the employees with integer location 3 and 5 to 60 and 65 respectively. Highlight the change.</span>"
      ]
    },
    {
      "cell_type": "code",
      "execution_count": null,
      "metadata": {
        "colab": {
          "base_uri": "https://localhost:8080/",
          "height": 178
        },
        "id": "KvL7Q045X5sm",
        "outputId": "34e0bc53-31d0-4292-e0e9-eb64d9b82b2b"
      },
      "outputs": [
        {
          "data": {
            "text/html": [
              "<style  type=\"text/css\" >\n",
              "#T_e8f3fcdc_86a3_11eb_a251_0242ac1c0002row3_col5,#T_e8f3fcdc_86a3_11eb_a251_0242ac1c0002row5_col5{\n",
              "            color:  red;\n",
              "             background-color:  yellow;\n",
              "        }</style><table id=\"T_e8f3fcdc_86a3_11eb_a251_0242ac1c0002\" ><thead>    <tr>        <th class=\"blank level0\" ></th>        <th class=\"col_heading level0 col0\" >GENDER</th>        <th class=\"col_heading level0 col1\" >NATIONALITY</th>        <th class=\"col_heading level0 col2\" >DEPARTMENT</th>        <th class=\"col_heading level0 col3\" >YEARS EXPERIENCE</th>        <th class=\"col_heading level0 col4\" >SALARY</th>        <th class=\"col_heading level0 col5\" >AGE</th>        <th class=\"col_heading level0 col6\" >BONUS</th>        <th class=\"col_heading level0 col7\" >TOTAL SALARY</th>    </tr></thead><tbody>\n",
              "                <tr>\n",
              "                        <th id=\"T_e8f3fcdc_86a3_11eb_a251_0242ac1c0002level0_row0\" class=\"row_heading level0 row0\" >Tom</th>\n",
              "                        <td id=\"T_e8f3fcdc_86a3_11eb_a251_0242ac1c0002row0_col0\" class=\"data row0 col0\" >Male</td>\n",
              "                        <td id=\"T_e8f3fcdc_86a3_11eb_a251_0242ac1c0002row0_col1\" class=\"data row0 col1\" >Switzerland</td>\n",
              "                        <td id=\"T_e8f3fcdc_86a3_11eb_a251_0242ac1c0002row0_col2\" class=\"data row0 col2\" >Engineering</td>\n",
              "                        <td id=\"T_e8f3fcdc_86a3_11eb_a251_0242ac1c0002row0_col3\" class=\"data row0 col3\" >23</td>\n",
              "                        <td id=\"T_e8f3fcdc_86a3_11eb_a251_0242ac1c0002row0_col4\" class=\"data row0 col4\" >107962</td>\n",
              "                        <td id=\"T_e8f3fcdc_86a3_11eb_a251_0242ac1c0002row0_col5\" class=\"data row0 col5\" >40</td>\n",
              "                        <td id=\"T_e8f3fcdc_86a3_11eb_a251_0242ac1c0002row0_col6\" class=\"data row0 col6\" >10000</td>\n",
              "                        <td id=\"T_e8f3fcdc_86a3_11eb_a251_0242ac1c0002row0_col7\" class=\"data row0 col7\" >128758</td>\n",
              "            </tr>\n",
              "            <tr>\n",
              "                        <th id=\"T_e8f3fcdc_86a3_11eb_a251_0242ac1c0002level0_row1\" class=\"row_heading level0 row1\" >Niko</th>\n",
              "                        <td id=\"T_e8f3fcdc_86a3_11eb_a251_0242ac1c0002row1_col0\" class=\"data row1 col0\" >Male</td>\n",
              "                        <td id=\"T_e8f3fcdc_86a3_11eb_a251_0242ac1c0002row1_col1\" class=\"data row1 col1\" >USA</td>\n",
              "                        <td id=\"T_e8f3fcdc_86a3_11eb_a251_0242ac1c0002row1_col2\" class=\"data row1 col2\" >Engineering</td>\n",
              "                        <td id=\"T_e8f3fcdc_86a3_11eb_a251_0242ac1c0002row1_col3\" class=\"data row1 col3\" >1</td>\n",
              "                        <td id=\"T_e8f3fcdc_86a3_11eb_a251_0242ac1c0002row1_col4\" class=\"data row1 col4\" >30347</td>\n",
              "                        <td id=\"T_e8f3fcdc_86a3_11eb_a251_0242ac1c0002row1_col5\" class=\"data row1 col5\" >30</td>\n",
              "                        <td id=\"T_e8f3fcdc_86a3_11eb_a251_0242ac1c0002row1_col6\" class=\"data row1 col6\" >0</td>\n",
              "                        <td id=\"T_e8f3fcdc_86a3_11eb_a251_0242ac1c0002row1_col7\" class=\"data row1 col7\" >33381</td>\n",
              "            </tr>\n",
              "            <tr>\n",
              "                        <th id=\"T_e8f3fcdc_86a3_11eb_a251_0242ac1c0002level0_row2\" class=\"row_heading level0 row2\" >Penelope</th>\n",
              "                        <td id=\"T_e8f3fcdc_86a3_11eb_a251_0242ac1c0002row2_col0\" class=\"data row2 col0\" >Female</td>\n",
              "                        <td id=\"T_e8f3fcdc_86a3_11eb_a251_0242ac1c0002row2_col1\" class=\"data row2 col1\" >Switzerland</td>\n",
              "                        <td id=\"T_e8f3fcdc_86a3_11eb_a251_0242ac1c0002row2_col2\" class=\"data row2 col2\" >Engineering</td>\n",
              "                        <td id=\"T_e8f3fcdc_86a3_11eb_a251_0242ac1c0002row2_col3\" class=\"data row2 col3\" >12</td>\n",
              "                        <td id=\"T_e8f3fcdc_86a3_11eb_a251_0242ac1c0002row2_col4\" class=\"data row2 col4\" >60258</td>\n",
              "                        <td id=\"T_e8f3fcdc_86a3_11eb_a251_0242ac1c0002row2_col5\" class=\"data row2 col5\" >35</td>\n",
              "                        <td id=\"T_e8f3fcdc_86a3_11eb_a251_0242ac1c0002row2_col6\" class=\"data row2 col6\" >10000</td>\n",
              "                        <td id=\"T_e8f3fcdc_86a3_11eb_a251_0242ac1c0002row2_col7\" class=\"data row2 col7\" >76283</td>\n",
              "            </tr>\n",
              "            <tr>\n",
              "                        <th id=\"T_e8f3fcdc_86a3_11eb_a251_0242ac1c0002level0_row3\" class=\"row_heading level0 row3\" >Aria</th>\n",
              "                        <td id=\"T_e8f3fcdc_86a3_11eb_a251_0242ac1c0002row3_col0\" class=\"data row3 col0\" >Female</td>\n",
              "                        <td id=\"T_e8f3fcdc_86a3_11eb_a251_0242ac1c0002row3_col1\" class=\"data row3 col1\" >USA</td>\n",
              "                        <td id=\"T_e8f3fcdc_86a3_11eb_a251_0242ac1c0002row3_col2\" class=\"data row3 col2\" >Police</td>\n",
              "                        <td id=\"T_e8f3fcdc_86a3_11eb_a251_0242ac1c0002row3_col3\" class=\"data row3 col3\" >8</td>\n",
              "                        <td id=\"T_e8f3fcdc_86a3_11eb_a251_0242ac1c0002row3_col4\" class=\"data row3 col4\" >43618</td>\n",
              "                        <td id=\"T_e8f3fcdc_86a3_11eb_a251_0242ac1c0002row3_col5\" class=\"data row3 col5\" >60</td>\n",
              "                        <td id=\"T_e8f3fcdc_86a3_11eb_a251_0242ac1c0002row3_col6\" class=\"data row3 col6\" >0</td>\n",
              "                        <td id=\"T_e8f3fcdc_86a3_11eb_a251_0242ac1c0002row3_col7\" class=\"data row3 col7\" >47979</td>\n",
              "            </tr>\n",
              "            <tr>\n",
              "                        <th id=\"T_e8f3fcdc_86a3_11eb_a251_0242ac1c0002level0_row4\" class=\"row_heading level0 row4\" >Sofia</th>\n",
              "                        <td id=\"T_e8f3fcdc_86a3_11eb_a251_0242ac1c0002row4_col0\" class=\"data row4 col0\" >Female</td>\n",
              "                        <td id=\"T_e8f3fcdc_86a3_11eb_a251_0242ac1c0002row4_col1\" class=\"data row4 col1\" >USA</td>\n",
              "                        <td id=\"T_e8f3fcdc_86a3_11eb_a251_0242ac1c0002row4_col2\" class=\"data row4 col2\" >Parks & Recreation</td>\n",
              "                        <td id=\"T_e8f3fcdc_86a3_11eb_a251_0242ac1c0002row4_col3\" class=\"data row4 col3\" >23</td>\n",
              "                        <td id=\"T_e8f3fcdc_86a3_11eb_a251_0242ac1c0002row4_col4\" class=\"data row4 col4\" >26125</td>\n",
              "                        <td id=\"T_e8f3fcdc_86a3_11eb_a251_0242ac1c0002row4_col5\" class=\"data row4 col5\" >36</td>\n",
              "                        <td id=\"T_e8f3fcdc_86a3_11eb_a251_0242ac1c0002row4_col6\" class=\"data row4 col6\" >10000</td>\n",
              "                        <td id=\"T_e8f3fcdc_86a3_11eb_a251_0242ac1c0002row4_col7\" class=\"data row4 col7\" >38737</td>\n",
              "            </tr>\n",
              "            <tr>\n",
              "                        <th id=\"T_e8f3fcdc_86a3_11eb_a251_0242ac1c0002level0_row5\" class=\"row_heading level0 row5\" >Dean</th>\n",
              "                        <td id=\"T_e8f3fcdc_86a3_11eb_a251_0242ac1c0002row5_col0\" class=\"data row5 col0\" >Male</td>\n",
              "                        <td id=\"T_e8f3fcdc_86a3_11eb_a251_0242ac1c0002row5_col1\" class=\"data row5 col1\" >USA</td>\n",
              "                        <td id=\"T_e8f3fcdc_86a3_11eb_a251_0242ac1c0002row5_col2\" class=\"data row5 col2\" >Parks & Recreation</td>\n",
              "                        <td id=\"T_e8f3fcdc_86a3_11eb_a251_0242ac1c0002row5_col3\" class=\"data row5 col3\" >3</td>\n",
              "                        <td id=\"T_e8f3fcdc_86a3_11eb_a251_0242ac1c0002row5_col4\" class=\"data row5 col4\" >33592</td>\n",
              "                        <td id=\"T_e8f3fcdc_86a3_11eb_a251_0242ac1c0002row5_col5\" class=\"data row5 col5\" >65</td>\n",
              "                        <td id=\"T_e8f3fcdc_86a3_11eb_a251_0242ac1c0002row5_col6\" class=\"data row5 col6\" >0</td>\n",
              "                        <td id=\"T_e8f3fcdc_86a3_11eb_a251_0242ac1c0002row5_col7\" class=\"data row5 col7\" >36951</td>\n",
              "            </tr>\n",
              "            <tr>\n",
              "                        <th id=\"T_e8f3fcdc_86a3_11eb_a251_0242ac1c0002level0_row6\" class=\"row_heading level0 row6\" >Zach</th>\n",
              "                        <td id=\"T_e8f3fcdc_86a3_11eb_a251_0242ac1c0002row6_col0\" class=\"data row6 col0\" >Male</td>\n",
              "                        <td id=\"T_e8f3fcdc_86a3_11eb_a251_0242ac1c0002row6_col1\" class=\"data row6 col1\" >Switzerland</td>\n",
              "                        <td id=\"T_e8f3fcdc_86a3_11eb_a251_0242ac1c0002row6_col2\" class=\"data row6 col2\" >Parks & Recreation</td>\n",
              "                        <td id=\"T_e8f3fcdc_86a3_11eb_a251_0242ac1c0002row6_col3\" class=\"data row6 col3\" >4</td>\n",
              "                        <td id=\"T_e8f3fcdc_86a3_11eb_a251_0242ac1c0002row6_col4\" class=\"data row6 col4\" >37565</td>\n",
              "                        <td id=\"T_e8f3fcdc_86a3_11eb_a251_0242ac1c0002row6_col5\" class=\"data row6 col5\" >50</td>\n",
              "                        <td id=\"T_e8f3fcdc_86a3_11eb_a251_0242ac1c0002row6_col6\" class=\"data row6 col6\" >0</td>\n",
              "                        <td id=\"T_e8f3fcdc_86a3_11eb_a251_0242ac1c0002row6_col7\" class=\"data row6 col7\" >41321</td>\n",
              "            </tr>\n",
              "    </tbody></table>"
            ],
            "text/plain": [
              "<pandas.io.formats.style.Styler at 0x7f838a6f3450>"
            ]
          },
          "execution_count": 15,
          "metadata": {
            "tags": []
          },
          "output_type": "execute_result"
        }
      ],
      "source": [
        "df_orig = df.copy()\n",
        "df.iloc[[3, 5], -3] = [60, 65]\n",
        "style_diff(df, df_orig)"
      ]
    },
    {
      "cell_type": "markdown",
      "metadata": {
        "id": "8Ice24QZX5sm"
      },
      "source": [
        "# Part 4: How NOT to select subsets of data"
      ]
    },
    {
      "cell_type": "code",
      "execution_count": null,
      "metadata": {
        "collapsed": true,
        "id": "v2wFs9j5X5sm"
      },
      "outputs": [],
      "source": [
        "import pandas as pd\n",
        "import numpy as np"
      ]
    },
    {
      "cell_type": "markdown",
      "metadata": {
        "id": "63vdZfglX5sm"
      },
      "source": [
        "### Exercise 1\n",
        "<span  style=\"color:green; font-size:16px\"> Create a ten item list and then use chained indexing to select the items from 2 to the end and then from this subset, the first three items</span>"
      ]
    },
    {
      "cell_type": "code",
      "execution_count": null,
      "metadata": {
        "colab": {
          "base_uri": "https://localhost:8080/"
        },
        "id": "k8Phh4xFX5sm",
        "outputId": "2f7411f7-d9f9-4ee0-97c6-b79581d52ff9"
      },
      "outputs": [
        {
          "data": {
            "text/plain": [
              "[3, 4, 5]"
            ]
          },
          "execution_count": 49,
          "metadata": {
            "tags": []
          },
          "output_type": "execute_result"
        }
      ],
      "source": [
        "a = [1, 2, 3, 4, 5, 6, 7, 8, 9, 10]\n",
        "a[2:][:3]"
      ]
    },
    {
      "cell_type": "markdown",
      "metadata": {
        "id": "E6V6N9g5X5sn"
      },
      "source": [
        "### Exercise 2\n",
        "<span  style=\"color:green; font-size:16px\"> Get the same result from example 1 with just a single call to the indexing operator.</span>"
      ]
    },
    {
      "cell_type": "code",
      "execution_count": null,
      "metadata": {
        "colab": {
          "base_uri": "https://localhost:8080/"
        },
        "id": "QWL29mR5X5sn",
        "outputId": "1fac17d5-ef81-473b-af4e-f9b3c1bd69ea"
      },
      "outputs": [
        {
          "data": {
            "text/plain": [
              "[3, 4, 5]"
            ]
          },
          "execution_count": 50,
          "metadata": {
            "tags": []
          },
          "output_type": "execute_result"
        }
      ],
      "source": [
        "a[2:5]"
      ]
    },
    {
      "cell_type": "markdown",
      "metadata": {
        "id": "ysO_d0m6X5sn"
      },
      "source": [
        "Use the following DataFrame for the next several questions"
      ]
    },
    {
      "cell_type": "code",
      "execution_count": null,
      "metadata": {
        "colab": {
          "base_uri": "https://localhost:8080/",
          "height": 266
        },
        "id": "vorfMnojX5sn",
        "outputId": "10896b0b-0551-4cd9-95d5-675c3e93a286"
      },
      "outputs": [
        {
          "data": {
            "text/html": [
              "<div>\n",
              "<style scoped>\n",
              "    .dataframe tbody tr th:only-of-type {\n",
              "        vertical-align: middle;\n",
              "    }\n",
              "\n",
              "    .dataframe tbody tr th {\n",
              "        vertical-align: top;\n",
              "    }\n",
              "\n",
              "    .dataframe thead th {\n",
              "        text-align: right;\n",
              "    }\n",
              "</style>\n",
              "<table border=\"1\" class=\"dataframe\">\n",
              "  <thead>\n",
              "    <tr style=\"text-align: right;\">\n",
              "      <th></th>\n",
              "      <th>state</th>\n",
              "      <th>color</th>\n",
              "      <th>food</th>\n",
              "      <th>age</th>\n",
              "      <th>height</th>\n",
              "      <th>score</th>\n",
              "    </tr>\n",
              "  </thead>\n",
              "  <tbody>\n",
              "    <tr>\n",
              "      <th>Jane</th>\n",
              "      <td>NY</td>\n",
              "      <td>blue</td>\n",
              "      <td>Steak</td>\n",
              "      <td>30</td>\n",
              "      <td>165</td>\n",
              "      <td>4.6</td>\n",
              "    </tr>\n",
              "    <tr>\n",
              "      <th>Niko</th>\n",
              "      <td>TX</td>\n",
              "      <td>green</td>\n",
              "      <td>Lamb</td>\n",
              "      <td>2</td>\n",
              "      <td>70</td>\n",
              "      <td>8.3</td>\n",
              "    </tr>\n",
              "    <tr>\n",
              "      <th>Aaron</th>\n",
              "      <td>FL</td>\n",
              "      <td>red</td>\n",
              "      <td>Mango</td>\n",
              "      <td>12</td>\n",
              "      <td>120</td>\n",
              "      <td>9.0</td>\n",
              "    </tr>\n",
              "    <tr>\n",
              "      <th>Penelope</th>\n",
              "      <td>AL</td>\n",
              "      <td>white</td>\n",
              "      <td>Apple</td>\n",
              "      <td>4</td>\n",
              "      <td>80</td>\n",
              "      <td>3.3</td>\n",
              "    </tr>\n",
              "    <tr>\n",
              "      <th>Dean</th>\n",
              "      <td>AK</td>\n",
              "      <td>gray</td>\n",
              "      <td>Cheese</td>\n",
              "      <td>32</td>\n",
              "      <td>180</td>\n",
              "      <td>1.8</td>\n",
              "    </tr>\n",
              "    <tr>\n",
              "      <th>Christina</th>\n",
              "      <td>TX</td>\n",
              "      <td>black</td>\n",
              "      <td>Melon</td>\n",
              "      <td>33</td>\n",
              "      <td>172</td>\n",
              "      <td>9.5</td>\n",
              "    </tr>\n",
              "    <tr>\n",
              "      <th>Cornelia</th>\n",
              "      <td>TX</td>\n",
              "      <td>red</td>\n",
              "      <td>Beans</td>\n",
              "      <td>69</td>\n",
              "      <td>150</td>\n",
              "      <td>2.2</td>\n",
              "    </tr>\n",
              "  </tbody>\n",
              "</table>\n",
              "</div>"
            ],
            "text/plain": [
              "          state  color    food  age  height  score\n",
              "Jane         NY   blue   Steak   30     165    4.6\n",
              "Niko         TX  green    Lamb    2      70    8.3\n",
              "Aaron        FL    red   Mango   12     120    9.0\n",
              "Penelope     AL  white   Apple    4      80    3.3\n",
              "Dean         AK   gray  Cheese   32     180    1.8\n",
              "Christina    TX  black   Melon   33     172    9.5\n",
              "Cornelia     TX    red   Beans   69     150    2.2"
            ]
          },
          "execution_count": 51,
          "metadata": {
            "tags": []
          },
          "output_type": "execute_result"
        }
      ],
      "source": [
        "df = pd.read_csv('https://raw.githubusercontent.com/michalis0/Business-Intelligence-and-Analytics/master/week2%20-%20Pandas%20and%20Python/Pandas/data/sample_data.csv', index_col=0)\n",
        "df"
      ]
    },
    {
      "cell_type": "markdown",
      "metadata": {
        "id": "qn9Gr33LX5sn"
      },
      "source": [
        "### Exercise 3\n",
        "<span  style=\"color:green; font-size:16px\">Determine whether the following line of code is chained indexing. If it is, rewrite it so that it is not.</span>"
      ]
    },
    {
      "cell_type": "code",
      "execution_count": null,
      "metadata": {
        "colab": {
          "base_uri": "https://localhost:8080/",
          "height": 266
        },
        "id": "-tFqehgNX5so",
        "outputId": "c563fd3b-661d-4598-f55f-87435e4cae15"
      },
      "outputs": [
        {
          "data": {
            "text/html": [
              "<div>\n",
              "<style scoped>\n",
              "    .dataframe tbody tr th:only-of-type {\n",
              "        vertical-align: middle;\n",
              "    }\n",
              "\n",
              "    .dataframe tbody tr th {\n",
              "        vertical-align: top;\n",
              "    }\n",
              "\n",
              "    .dataframe thead th {\n",
              "        text-align: right;\n",
              "    }\n",
              "</style>\n",
              "<table border=\"1\" class=\"dataframe\">\n",
              "  <thead>\n",
              "    <tr style=\"text-align: right;\">\n",
              "      <th></th>\n",
              "      <th>state</th>\n",
              "      <th>food</th>\n",
              "      <th>color</th>\n",
              "      <th>score</th>\n",
              "    </tr>\n",
              "  </thead>\n",
              "  <tbody>\n",
              "    <tr>\n",
              "      <th>Jane</th>\n",
              "      <td>NY</td>\n",
              "      <td>Steak</td>\n",
              "      <td>blue</td>\n",
              "      <td>4.6</td>\n",
              "    </tr>\n",
              "    <tr>\n",
              "      <th>Niko</th>\n",
              "      <td>TX</td>\n",
              "      <td>Lamb</td>\n",
              "      <td>green</td>\n",
              "      <td>8.3</td>\n",
              "    </tr>\n",
              "    <tr>\n",
              "      <th>Aaron</th>\n",
              "      <td>FL</td>\n",
              "      <td>Mango</td>\n",
              "      <td>red</td>\n",
              "      <td>9.0</td>\n",
              "    </tr>\n",
              "    <tr>\n",
              "      <th>Penelope</th>\n",
              "      <td>AL</td>\n",
              "      <td>Apple</td>\n",
              "      <td>white</td>\n",
              "      <td>3.3</td>\n",
              "    </tr>\n",
              "    <tr>\n",
              "      <th>Dean</th>\n",
              "      <td>AK</td>\n",
              "      <td>Cheese</td>\n",
              "      <td>gray</td>\n",
              "      <td>1.8</td>\n",
              "    </tr>\n",
              "    <tr>\n",
              "      <th>Christina</th>\n",
              "      <td>TX</td>\n",
              "      <td>Melon</td>\n",
              "      <td>black</td>\n",
              "      <td>9.5</td>\n",
              "    </tr>\n",
              "    <tr>\n",
              "      <th>Cornelia</th>\n",
              "      <td>TX</td>\n",
              "      <td>Beans</td>\n",
              "      <td>red</td>\n",
              "      <td>2.2</td>\n",
              "    </tr>\n",
              "  </tbody>\n",
              "</table>\n",
              "</div>"
            ],
            "text/plain": [
              "          state    food  color  score\n",
              "Jane         NY   Steak   blue    4.6\n",
              "Niko         TX    Lamb  green    8.3\n",
              "Aaron        FL   Mango    red    9.0\n",
              "Penelope     AL   Apple  white    3.3\n",
              "Dean         AK  Cheese   gray    1.8\n",
              "Christina    TX   Melon  black    9.5\n",
              "Cornelia     TX   Beans    red    2.2"
            ]
          },
          "execution_count": 52,
          "metadata": {
            "tags": []
          },
          "output_type": "execute_result"
        }
      ],
      "source": [
        "df[['state', 'food', 'color', 'score']]"
      ]
    },
    {
      "cell_type": "markdown",
      "metadata": {
        "id": "bND0RqGBX5so"
      },
      "source": [
        "No, this is the correct way of choosing several columns - with a list of strings."
      ]
    },
    {
      "cell_type": "markdown",
      "metadata": {
        "id": "i_zfDp6PX5so"
      },
      "source": [
        "### Exercise 4\n",
        "<span  style=\"color:green; font-size:16px\">Determine whether the following line of code is chained indexing. If it is, rewrite it so that it is not.</span>"
      ]
    },
    {
      "cell_type": "code",
      "execution_count": null,
      "metadata": {
        "colab": {
          "base_uri": "https://localhost:8080/",
          "height": 204
        },
        "id": "SqfnCZj8X5so",
        "outputId": "432d02c4-2cb9-4674-e2ce-b606e5a5f054"
      },
      "outputs": [
        {
          "data": {
            "text/html": [
              "<div>\n",
              "<style scoped>\n",
              "    .dataframe tbody tr th:only-of-type {\n",
              "        vertical-align: middle;\n",
              "    }\n",
              "\n",
              "    .dataframe tbody tr th {\n",
              "        vertical-align: top;\n",
              "    }\n",
              "\n",
              "    .dataframe thead th {\n",
              "        text-align: right;\n",
              "    }\n",
              "</style>\n",
              "<table border=\"1\" class=\"dataframe\">\n",
              "  <thead>\n",
              "    <tr style=\"text-align: right;\">\n",
              "      <th></th>\n",
              "      <th>state</th>\n",
              "      <th>food</th>\n",
              "      <th>color</th>\n",
              "      <th>score</th>\n",
              "    </tr>\n",
              "  </thead>\n",
              "  <tbody>\n",
              "    <tr>\n",
              "      <th>Niko</th>\n",
              "      <td>TX</td>\n",
              "      <td>Lamb</td>\n",
              "      <td>green</td>\n",
              "      <td>8.3</td>\n",
              "    </tr>\n",
              "    <tr>\n",
              "      <th>Penelope</th>\n",
              "      <td>AL</td>\n",
              "      <td>Apple</td>\n",
              "      <td>white</td>\n",
              "      <td>3.3</td>\n",
              "    </tr>\n",
              "    <tr>\n",
              "      <th>Dean</th>\n",
              "      <td>AK</td>\n",
              "      <td>Cheese</td>\n",
              "      <td>gray</td>\n",
              "      <td>1.8</td>\n",
              "    </tr>\n",
              "    <tr>\n",
              "      <th>Cornelia</th>\n",
              "      <td>TX</td>\n",
              "      <td>Beans</td>\n",
              "      <td>red</td>\n",
              "      <td>2.2</td>\n",
              "    </tr>\n",
              "    <tr>\n",
              "      <th>Jane</th>\n",
              "      <td>NY</td>\n",
              "      <td>Steak</td>\n",
              "      <td>blue</td>\n",
              "      <td>4.6</td>\n",
              "    </tr>\n",
              "  </tbody>\n",
              "</table>\n",
              "</div>"
            ],
            "text/plain": [
              "         state    food  color  score\n",
              "Niko        TX    Lamb  green    8.3\n",
              "Penelope    AL   Apple  white    3.3\n",
              "Dean        AK  Cheese   gray    1.8\n",
              "Cornelia    TX   Beans    red    2.2\n",
              "Jane        NY   Steak   blue    4.6"
            ]
          },
          "execution_count": 53,
          "metadata": {
            "tags": []
          },
          "output_type": "execute_result"
        }
      ],
      "source": [
        "df.loc[['Niko', 'Penelope', 'Dean', 'Cornelia', 'Jane'], ['state', 'food', 'color', 'score']]"
      ]
    },
    {
      "cell_type": "markdown",
      "metadata": {
        "id": "HA6NefaAX5so"
      },
      "source": [
        "No, this is the correct way to choose rows and columns. There is exactly one call to **`.loc`**. The row selection is simultaneously done with the column selection."
      ]
    },
    {
      "cell_type": "markdown",
      "metadata": {
        "id": "dbOM3_dTX5so"
      },
      "source": [
        "### Exercise 5\n",
        "<span  style=\"color:green; font-size:16px\">Determine whether the following line of code is chained indexing. If it is, rewrite it so that it is not.</span>"
      ]
    },
    {
      "cell_type": "code",
      "execution_count": null,
      "metadata": {
        "colab": {
          "base_uri": "https://localhost:8080/",
          "height": 204
        },
        "id": "1fqKSf0hX5sp",
        "outputId": "9bec8670-dd84-4ca8-acbf-e1ed53509d5b"
      },
      "outputs": [
        {
          "data": {
            "text/html": [
              "<div>\n",
              "<style scoped>\n",
              "    .dataframe tbody tr th:only-of-type {\n",
              "        vertical-align: middle;\n",
              "    }\n",
              "\n",
              "    .dataframe tbody tr th {\n",
              "        vertical-align: top;\n",
              "    }\n",
              "\n",
              "    .dataframe thead th {\n",
              "        text-align: right;\n",
              "    }\n",
              "</style>\n",
              "<table border=\"1\" class=\"dataframe\">\n",
              "  <thead>\n",
              "    <tr style=\"text-align: right;\">\n",
              "      <th></th>\n",
              "      <th>state</th>\n",
              "      <th>food</th>\n",
              "      <th>color</th>\n",
              "      <th>score</th>\n",
              "    </tr>\n",
              "  </thead>\n",
              "  <tbody>\n",
              "    <tr>\n",
              "      <th>Niko</th>\n",
              "      <td>TX</td>\n",
              "      <td>Lamb</td>\n",
              "      <td>green</td>\n",
              "      <td>8.3</td>\n",
              "    </tr>\n",
              "    <tr>\n",
              "      <th>Penelope</th>\n",
              "      <td>AL</td>\n",
              "      <td>Apple</td>\n",
              "      <td>white</td>\n",
              "      <td>3.3</td>\n",
              "    </tr>\n",
              "    <tr>\n",
              "      <th>Dean</th>\n",
              "      <td>AK</td>\n",
              "      <td>Cheese</td>\n",
              "      <td>gray</td>\n",
              "      <td>1.8</td>\n",
              "    </tr>\n",
              "    <tr>\n",
              "      <th>Cornelia</th>\n",
              "      <td>TX</td>\n",
              "      <td>Beans</td>\n",
              "      <td>red</td>\n",
              "      <td>2.2</td>\n",
              "    </tr>\n",
              "    <tr>\n",
              "      <th>Jane</th>\n",
              "      <td>NY</td>\n",
              "      <td>Steak</td>\n",
              "      <td>blue</td>\n",
              "      <td>4.6</td>\n",
              "    </tr>\n",
              "  </tbody>\n",
              "</table>\n",
              "</div>"
            ],
            "text/plain": [
              "         state    food  color  score\n",
              "Niko        TX    Lamb  green    8.3\n",
              "Penelope    AL   Apple  white    3.3\n",
              "Dean        AK  Cheese   gray    1.8\n",
              "Cornelia    TX   Beans    red    2.2\n",
              "Jane        NY   Steak   blue    4.6"
            ]
          },
          "execution_count": 54,
          "metadata": {
            "tags": []
          },
          "output_type": "execute_result"
        }
      ],
      "source": [
        "df.loc[['Niko', 'Penelope', 'Dean', 'Cornelia', 'Jane']][['state', 'food', 'color', 'score']]"
      ]
    },
    {
      "cell_type": "markdown",
      "metadata": {
        "id": "A5UXHP9UX5sp"
      },
      "source": [
        "This is chained indexing. There is one call to **`.loc`** which selects the rows and another call to *just the indexing operator* which selects the columns. The idiomatic solution is the code from exercise 4"
      ]
    },
    {
      "cell_type": "markdown",
      "metadata": {
        "id": "EyCZh7q3X5sp"
      },
      "source": [
        "### Exercise 6\n",
        "<span  style=\"color:green; font-size:16px\">Determine whether the following line of code is chained indexing. If it is, rewrite it so that it is not.</span>"
      ]
    },
    {
      "cell_type": "code",
      "execution_count": null,
      "metadata": {
        "colab": {
          "base_uri": "https://localhost:8080/",
          "height": 142
        },
        "id": "eR_zV9DlX5sp",
        "outputId": "c32d2b60-e856-4960-9a32-46eb7611e1cc"
      },
      "outputs": [
        {
          "data": {
            "text/html": [
              "<div>\n",
              "<style scoped>\n",
              "    .dataframe tbody tr th:only-of-type {\n",
              "        vertical-align: middle;\n",
              "    }\n",
              "\n",
              "    .dataframe tbody tr th {\n",
              "        vertical-align: top;\n",
              "    }\n",
              "\n",
              "    .dataframe thead th {\n",
              "        text-align: right;\n",
              "    }\n",
              "</style>\n",
              "<table border=\"1\" class=\"dataframe\">\n",
              "  <thead>\n",
              "    <tr style=\"text-align: right;\">\n",
              "      <th></th>\n",
              "      <th>color</th>\n",
              "      <th>food</th>\n",
              "      <th>age</th>\n",
              "    </tr>\n",
              "  </thead>\n",
              "  <tbody>\n",
              "    <tr>\n",
              "      <th>Aaron</th>\n",
              "      <td>red</td>\n",
              "      <td>Mango</td>\n",
              "      <td>12</td>\n",
              "    </tr>\n",
              "    <tr>\n",
              "      <th>Penelope</th>\n",
              "      <td>white</td>\n",
              "      <td>Apple</td>\n",
              "      <td>4</td>\n",
              "    </tr>\n",
              "    <tr>\n",
              "      <th>Dean</th>\n",
              "      <td>gray</td>\n",
              "      <td>Cheese</td>\n",
              "      <td>32</td>\n",
              "    </tr>\n",
              "  </tbody>\n",
              "</table>\n",
              "</div>"
            ],
            "text/plain": [
              "          color    food  age\n",
              "Aaron       red   Mango   12\n",
              "Penelope  white   Apple    4\n",
              "Dean       gray  Cheese   32"
            ]
          },
          "execution_count": 55,
          "metadata": {
            "tags": []
          },
          "output_type": "execute_result"
        }
      ],
      "source": [
        "df.iloc[:5].iloc[2:, 1:4]"
      ]
    },
    {
      "cell_type": "markdown",
      "metadata": {
        "id": "QHuS5hA_X5sq"
      },
      "source": [
        "This is chained indexing. There are two separate calls to **`.iloc`**. Fix it like this:"
      ]
    },
    {
      "cell_type": "code",
      "execution_count": null,
      "metadata": {
        "colab": {
          "base_uri": "https://localhost:8080/",
          "height": 142
        },
        "id": "hq_uHbb6X5sq",
        "outputId": "92e2bfd8-cd20-4d61-a52c-2b0a777cd0e9"
      },
      "outputs": [
        {
          "data": {
            "text/html": [
              "<div>\n",
              "<style scoped>\n",
              "    .dataframe tbody tr th:only-of-type {\n",
              "        vertical-align: middle;\n",
              "    }\n",
              "\n",
              "    .dataframe tbody tr th {\n",
              "        vertical-align: top;\n",
              "    }\n",
              "\n",
              "    .dataframe thead th {\n",
              "        text-align: right;\n",
              "    }\n",
              "</style>\n",
              "<table border=\"1\" class=\"dataframe\">\n",
              "  <thead>\n",
              "    <tr style=\"text-align: right;\">\n",
              "      <th></th>\n",
              "      <th>color</th>\n",
              "      <th>food</th>\n",
              "      <th>age</th>\n",
              "    </tr>\n",
              "  </thead>\n",
              "  <tbody>\n",
              "    <tr>\n",
              "      <th>Aaron</th>\n",
              "      <td>red</td>\n",
              "      <td>Mango</td>\n",
              "      <td>12</td>\n",
              "    </tr>\n",
              "    <tr>\n",
              "      <th>Penelope</th>\n",
              "      <td>white</td>\n",
              "      <td>Apple</td>\n",
              "      <td>4</td>\n",
              "    </tr>\n",
              "    <tr>\n",
              "      <th>Dean</th>\n",
              "      <td>gray</td>\n",
              "      <td>Cheese</td>\n",
              "      <td>32</td>\n",
              "    </tr>\n",
              "  </tbody>\n",
              "</table>\n",
              "</div>"
            ],
            "text/plain": [
              "          color    food  age\n",
              "Aaron       red   Mango   12\n",
              "Penelope  white   Apple    4\n",
              "Dean       gray  Cheese   32"
            ]
          },
          "execution_count": 56,
          "metadata": {
            "tags": []
          },
          "output_type": "execute_result"
        }
      ],
      "source": [
        "df.iloc[2:5, 1:4]"
      ]
    },
    {
      "cell_type": "markdown",
      "metadata": {
        "id": "Tb6jwxUYX5sq"
      },
      "source": [
        "### Exercise 7\n",
        "<span  style=\"color:green; font-size:16px\">Determine whether the following line of code is chained indexing. If it is, rewrite it so that it is not.</span>"
      ]
    },
    {
      "cell_type": "code",
      "execution_count": null,
      "metadata": {
        "colab": {
          "base_uri": "https://localhost:8080/"
        },
        "id": "gg_IDcLtX5sq",
        "outputId": "60d6f1c7-a899-4b75-841b-16ccc5fd3955"
      },
      "outputs": [
        {
          "data": {
            "text/plain": [
              "Niko          2\n",
              "Christina    33\n",
              "Cornelia     69\n",
              "Name: age, dtype: int64"
            ]
          },
          "execution_count": 57,
          "metadata": {
            "tags": []
          },
          "output_type": "execute_result"
        }
      ],
      "source": [
        "df[df['state'] == 'TX']['age']"
      ]
    },
    {
      "cell_type": "markdown",
      "metadata": {
        "id": "WsG7j9T7X5sr"
      },
      "source": [
        "This is chained indexing. Use **`.loc`** for simultaneous boolean selection and column selection"
      ]
    },
    {
      "cell_type": "code",
      "execution_count": null,
      "metadata": {
        "colab": {
          "base_uri": "https://localhost:8080/"
        },
        "id": "7x7Fex9nX5sr",
        "outputId": "7d4af33a-46c4-47c5-8928-d92b9313c387"
      },
      "outputs": [
        {
          "data": {
            "text/plain": [
              "Niko          2\n",
              "Christina    33\n",
              "Cornelia     69\n",
              "Name: age, dtype: int64"
            ]
          },
          "execution_count": 58,
          "metadata": {
            "tags": []
          },
          "output_type": "execute_result"
        }
      ],
      "source": [
        "df.loc[df['state'] == 'TX', 'age']"
      ]
    },
    {
      "cell_type": "markdown",
      "metadata": {
        "id": "jqR1RMesX5sr"
      },
      "source": [
        "### Exercise 8\n",
        "<span  style=\"color:green; font-size:16px\">Determine whether the following line of code is chained indexing. If it is, rewrite it so that it is not.</span>"
      ]
    },
    {
      "cell_type": "code",
      "execution_count": null,
      "metadata": {
        "colab": {
          "base_uri": "https://localhost:8080/",
          "height": 111
        },
        "id": "7z3FRpADX5sr",
        "outputId": "d3b592c9-d150-4757-8320-dd9cd8f227e7"
      },
      "outputs": [
        {
          "data": {
            "text/html": [
              "<div>\n",
              "<style scoped>\n",
              "    .dataframe tbody tr th:only-of-type {\n",
              "        vertical-align: middle;\n",
              "    }\n",
              "\n",
              "    .dataframe tbody tr th {\n",
              "        vertical-align: top;\n",
              "    }\n",
              "\n",
              "    .dataframe thead th {\n",
              "        text-align: right;\n",
              "    }\n",
              "</style>\n",
              "<table border=\"1\" class=\"dataframe\">\n",
              "  <thead>\n",
              "    <tr style=\"text-align: right;\">\n",
              "      <th></th>\n",
              "      <th>age</th>\n",
              "      <th>state</th>\n",
              "    </tr>\n",
              "  </thead>\n",
              "  <tbody>\n",
              "    <tr>\n",
              "      <th>Jane</th>\n",
              "      <td>30</td>\n",
              "      <td>NY</td>\n",
              "    </tr>\n",
              "    <tr>\n",
              "      <th>Aaron</th>\n",
              "      <td>12</td>\n",
              "      <td>FL</td>\n",
              "    </tr>\n",
              "  </tbody>\n",
              "</table>\n",
              "</div>"
            ],
            "text/plain": [
              "       age state\n",
              "Jane    30    NY\n",
              "Aaron   12    FL"
            ]
          },
          "execution_count": 59,
          "metadata": {
            "tags": []
          },
          "output_type": "execute_result"
        }
      ],
      "source": [
        "df[['state', 'food', 'age', 'height']][['state', 'age']].loc[['Jane', 'Aaron'], ['age', 'state']]"
      ]
    },
    {
      "cell_type": "markdown",
      "metadata": {
        "id": "5y9gz0V8X5sr"
      },
      "source": [
        "This has three chains!"
      ]
    },
    {
      "cell_type": "code",
      "execution_count": null,
      "metadata": {
        "colab": {
          "base_uri": "https://localhost:8080/",
          "height": 111
        },
        "id": "dZkqLTBUX5sr",
        "outputId": "3cefe82a-cbe8-45a8-d1f0-670e44672ad2"
      },
      "outputs": [
        {
          "data": {
            "text/html": [
              "<div>\n",
              "<style scoped>\n",
              "    .dataframe tbody tr th:only-of-type {\n",
              "        vertical-align: middle;\n",
              "    }\n",
              "\n",
              "    .dataframe tbody tr th {\n",
              "        vertical-align: top;\n",
              "    }\n",
              "\n",
              "    .dataframe thead th {\n",
              "        text-align: right;\n",
              "    }\n",
              "</style>\n",
              "<table border=\"1\" class=\"dataframe\">\n",
              "  <thead>\n",
              "    <tr style=\"text-align: right;\">\n",
              "      <th></th>\n",
              "      <th>age</th>\n",
              "      <th>state</th>\n",
              "    </tr>\n",
              "  </thead>\n",
              "  <tbody>\n",
              "    <tr>\n",
              "      <th>Jane</th>\n",
              "      <td>30</td>\n",
              "      <td>NY</td>\n",
              "    </tr>\n",
              "    <tr>\n",
              "      <th>Aaron</th>\n",
              "      <td>12</td>\n",
              "      <td>FL</td>\n",
              "    </tr>\n",
              "  </tbody>\n",
              "</table>\n",
              "</div>"
            ],
            "text/plain": [
              "       age state\n",
              "Jane    30    NY\n",
              "Aaron   12    FL"
            ]
          },
          "execution_count": 60,
          "metadata": {
            "tags": []
          },
          "output_type": "execute_result"
        }
      ],
      "source": [
        "df.loc[['Jane', 'Aaron'], ['age', 'state']]"
      ]
    },
    {
      "cell_type": "markdown",
      "metadata": {
        "id": "RskHaE1aX5ss"
      },
      "source": [
        "### Exercise 9\n",
        "<span  style=\"color:green; font-size:16px\">Change the score for all people who are over 30 years of age to 99 without doing chained indexing</span>"
      ]
    },
    {
      "cell_type": "code",
      "execution_count": null,
      "metadata": {
        "colab": {
          "base_uri": "https://localhost:8080/",
          "height": 266
        },
        "id": "gQJdDSB2X5ss",
        "outputId": "19ba5f18-174c-4bb8-a31a-79138520d700"
      },
      "outputs": [
        {
          "data": {
            "text/html": [
              "<div>\n",
              "<style scoped>\n",
              "    .dataframe tbody tr th:only-of-type {\n",
              "        vertical-align: middle;\n",
              "    }\n",
              "\n",
              "    .dataframe tbody tr th {\n",
              "        vertical-align: top;\n",
              "    }\n",
              "\n",
              "    .dataframe thead th {\n",
              "        text-align: right;\n",
              "    }\n",
              "</style>\n",
              "<table border=\"1\" class=\"dataframe\">\n",
              "  <thead>\n",
              "    <tr style=\"text-align: right;\">\n",
              "      <th></th>\n",
              "      <th>state</th>\n",
              "      <th>color</th>\n",
              "      <th>food</th>\n",
              "      <th>age</th>\n",
              "      <th>height</th>\n",
              "      <th>score</th>\n",
              "    </tr>\n",
              "  </thead>\n",
              "  <tbody>\n",
              "    <tr>\n",
              "      <th>Jane</th>\n",
              "      <td>NY</td>\n",
              "      <td>blue</td>\n",
              "      <td>Steak</td>\n",
              "      <td>30</td>\n",
              "      <td>165</td>\n",
              "      <td>4.6</td>\n",
              "    </tr>\n",
              "    <tr>\n",
              "      <th>Niko</th>\n",
              "      <td>TX</td>\n",
              "      <td>green</td>\n",
              "      <td>Lamb</td>\n",
              "      <td>2</td>\n",
              "      <td>70</td>\n",
              "      <td>99.0</td>\n",
              "    </tr>\n",
              "    <tr>\n",
              "      <th>Aaron</th>\n",
              "      <td>FL</td>\n",
              "      <td>red</td>\n",
              "      <td>Mango</td>\n",
              "      <td>12</td>\n",
              "      <td>120</td>\n",
              "      <td>99.0</td>\n",
              "    </tr>\n",
              "    <tr>\n",
              "      <th>Penelope</th>\n",
              "      <td>AL</td>\n",
              "      <td>white</td>\n",
              "      <td>Apple</td>\n",
              "      <td>4</td>\n",
              "      <td>80</td>\n",
              "      <td>99.0</td>\n",
              "    </tr>\n",
              "    <tr>\n",
              "      <th>Dean</th>\n",
              "      <td>AK</td>\n",
              "      <td>gray</td>\n",
              "      <td>Cheese</td>\n",
              "      <td>32</td>\n",
              "      <td>180</td>\n",
              "      <td>1.8</td>\n",
              "    </tr>\n",
              "    <tr>\n",
              "      <th>Christina</th>\n",
              "      <td>TX</td>\n",
              "      <td>black</td>\n",
              "      <td>Melon</td>\n",
              "      <td>33</td>\n",
              "      <td>172</td>\n",
              "      <td>9.5</td>\n",
              "    </tr>\n",
              "    <tr>\n",
              "      <th>Cornelia</th>\n",
              "      <td>TX</td>\n",
              "      <td>red</td>\n",
              "      <td>Beans</td>\n",
              "      <td>69</td>\n",
              "      <td>150</td>\n",
              "      <td>2.2</td>\n",
              "    </tr>\n",
              "  </tbody>\n",
              "</table>\n",
              "</div>"
            ],
            "text/plain": [
              "          state  color    food  age  height  score\n",
              "Jane         NY   blue   Steak   30     165    4.6\n",
              "Niko         TX  green    Lamb    2      70   99.0\n",
              "Aaron        FL    red   Mango   12     120   99.0\n",
              "Penelope     AL  white   Apple    4      80   99.0\n",
              "Dean         AK   gray  Cheese   32     180    1.8\n",
              "Christina    TX  black   Melon   33     172    9.5\n",
              "Cornelia     TX    red   Beans   69     150    2.2"
            ]
          },
          "execution_count": 61,
          "metadata": {
            "tags": []
          },
          "output_type": "execute_result"
        }
      ],
      "source": [
        "df.loc[df['age'] < 30, 'score'] = 99\n",
        "df"
      ]
    },
    {
      "cell_type": "markdown",
      "metadata": {
        "id": "xdrIxMlHX5ss"
      },
      "source": [
        "### Exercise 10\n",
        "<span  style=\"color:green; font-size:16px\">Select the **`color`** and **`food`** columns into their own variable.  Then write one more line of code that will trigger the **`SettingWithCopy`** warning</span>"
      ]
    },
    {
      "cell_type": "code",
      "execution_count": null,
      "metadata": {
        "colab": {
          "base_uri": "https://localhost:8080/",
          "height": 266
        },
        "id": "NqEFIlcmX5st",
        "outputId": "4725ddc9-9faa-425d-aa77-c2064c2e3231"
      },
      "outputs": [
        {
          "data": {
            "text/html": [
              "<div>\n",
              "<style scoped>\n",
              "    .dataframe tbody tr th:only-of-type {\n",
              "        vertical-align: middle;\n",
              "    }\n",
              "\n",
              "    .dataframe tbody tr th {\n",
              "        vertical-align: top;\n",
              "    }\n",
              "\n",
              "    .dataframe thead th {\n",
              "        text-align: right;\n",
              "    }\n",
              "</style>\n",
              "<table border=\"1\" class=\"dataframe\">\n",
              "  <thead>\n",
              "    <tr style=\"text-align: right;\">\n",
              "      <th></th>\n",
              "      <th>color</th>\n",
              "      <th>food</th>\n",
              "    </tr>\n",
              "  </thead>\n",
              "  <tbody>\n",
              "    <tr>\n",
              "      <th>Jane</th>\n",
              "      <td>blue</td>\n",
              "      <td>Steak</td>\n",
              "    </tr>\n",
              "    <tr>\n",
              "      <th>Niko</th>\n",
              "      <td>green</td>\n",
              "      <td>Lamb</td>\n",
              "    </tr>\n",
              "    <tr>\n",
              "      <th>Aaron</th>\n",
              "      <td>red</td>\n",
              "      <td>Mango</td>\n",
              "    </tr>\n",
              "    <tr>\n",
              "      <th>Penelope</th>\n",
              "      <td>white</td>\n",
              "      <td>Apple</td>\n",
              "    </tr>\n",
              "    <tr>\n",
              "      <th>Dean</th>\n",
              "      <td>gray</td>\n",
              "      <td>Cheese</td>\n",
              "    </tr>\n",
              "    <tr>\n",
              "      <th>Christina</th>\n",
              "      <td>black</td>\n",
              "      <td>Melon</td>\n",
              "    </tr>\n",
              "    <tr>\n",
              "      <th>Cornelia</th>\n",
              "      <td>red</td>\n",
              "      <td>Beans</td>\n",
              "    </tr>\n",
              "  </tbody>\n",
              "</table>\n",
              "</div>"
            ],
            "text/plain": [
              "           color    food\n",
              "Jane        blue   Steak\n",
              "Niko       green    Lamb\n",
              "Aaron        red   Mango\n",
              "Penelope   white   Apple\n",
              "Dean        gray  Cheese\n",
              "Christina  black   Melon\n",
              "Cornelia     red   Beans"
            ]
          },
          "execution_count": 62,
          "metadata": {
            "tags": []
          },
          "output_type": "execute_result"
        }
      ],
      "source": [
        "df1 = df[['color', 'food']]\n",
        "df1"
      ]
    },
    {
      "cell_type": "code",
      "execution_count": null,
      "metadata": {
        "colab": {
          "base_uri": "https://localhost:8080/"
        },
        "id": "AmreBSFzX5st",
        "outputId": "3abc6a99-a280-4ca0-8cc6-a705b51b08b8"
      },
      "outputs": [
        {
          "name": "stderr",
          "output_type": "stream",
          "text": [
            "/usr/local/lib/python3.6/dist-packages/pandas/core/indexing.py:670: SettingWithCopyWarning: \n",
            "A value is trying to be set on a copy of a slice from a DataFrame\n",
            "\n",
            "See the caveats in the documentation: https://pandas.pydata.org/pandas-docs/stable/user_guide/indexing.html#returning-a-view-versus-a-copy\n",
            "  iloc._setitem_with_indexer(indexer, value)\n",
            "/usr/local/lib/python3.6/dist-packages/ipykernel_launcher.py:1: SettingWithCopyWarning: \n",
            "A value is trying to be set on a copy of a slice from a DataFrame\n",
            "\n",
            "See the caveats in the documentation: https://pandas.pydata.org/pandas-docs/stable/user_guide/indexing.html#returning-a-view-versus-a-copy\n",
            "  \"\"\"Entry point for launching an IPython kernel.\n"
          ]
        }
      ],
      "source": [
        "df1.loc[df['color'] == 'red', 'food'] = ['Watermelon', 'Gyros']"
      ]
    },
    {
      "cell_type": "code",
      "execution_count": null,
      "metadata": {
        "colab": {
          "base_uri": "https://localhost:8080/",
          "height": 266
        },
        "id": "6PFdeDKlX5su",
        "outputId": "471832b4-dab0-40ac-b877-2e2a19c94ce4"
      },
      "outputs": [
        {
          "data": {
            "text/html": [
              "<div>\n",
              "<style scoped>\n",
              "    .dataframe tbody tr th:only-of-type {\n",
              "        vertical-align: middle;\n",
              "    }\n",
              "\n",
              "    .dataframe tbody tr th {\n",
              "        vertical-align: top;\n",
              "    }\n",
              "\n",
              "    .dataframe thead th {\n",
              "        text-align: right;\n",
              "    }\n",
              "</style>\n",
              "<table border=\"1\" class=\"dataframe\">\n",
              "  <thead>\n",
              "    <tr style=\"text-align: right;\">\n",
              "      <th></th>\n",
              "      <th>color</th>\n",
              "      <th>food</th>\n",
              "    </tr>\n",
              "  </thead>\n",
              "  <tbody>\n",
              "    <tr>\n",
              "      <th>Jane</th>\n",
              "      <td>blue</td>\n",
              "      <td>Steak</td>\n",
              "    </tr>\n",
              "    <tr>\n",
              "      <th>Niko</th>\n",
              "      <td>green</td>\n",
              "      <td>Lamb</td>\n",
              "    </tr>\n",
              "    <tr>\n",
              "      <th>Aaron</th>\n",
              "      <td>red</td>\n",
              "      <td>Watermelon</td>\n",
              "    </tr>\n",
              "    <tr>\n",
              "      <th>Penelope</th>\n",
              "      <td>white</td>\n",
              "      <td>Apple</td>\n",
              "    </tr>\n",
              "    <tr>\n",
              "      <th>Dean</th>\n",
              "      <td>gray</td>\n",
              "      <td>Cheese</td>\n",
              "    </tr>\n",
              "    <tr>\n",
              "      <th>Christina</th>\n",
              "      <td>black</td>\n",
              "      <td>Melon</td>\n",
              "    </tr>\n",
              "    <tr>\n",
              "      <th>Cornelia</th>\n",
              "      <td>red</td>\n",
              "      <td>Gyros</td>\n",
              "    </tr>\n",
              "  </tbody>\n",
              "</table>\n",
              "</div>"
            ],
            "text/plain": [
              "           color        food\n",
              "Jane        blue       Steak\n",
              "Niko       green        Lamb\n",
              "Aaron        red  Watermelon\n",
              "Penelope   white       Apple\n",
              "Dean        gray      Cheese\n",
              "Christina  black       Melon\n",
              "Cornelia     red       Gyros"
            ]
          },
          "execution_count": 64,
          "metadata": {
            "tags": []
          },
          "output_type": "execute_result"
        }
      ],
      "source": [
        "df1"
      ]
    },
    {
      "cell_type": "markdown",
      "metadata": {
        "id": "dXYpfT6NX5su"
      },
      "source": [
        "### Exercise 11\n",
        "<span  style=\"color:green; font-size:16px\">Select the **`color`** and **`food`** columns into their own variable like you did in exercise 10.  Do the same operation as you did without getting the warning.</span>"
      ]
    },
    {
      "cell_type": "code",
      "execution_count": null,
      "metadata": {
        "colab": {
          "base_uri": "https://localhost:8080/",
          "height": 266
        },
        "id": "-G9Fz1M8X5su",
        "outputId": "7d6159cf-8f57-421d-976b-949351bfcc46"
      },
      "outputs": [
        {
          "data": {
            "text/html": [
              "<div>\n",
              "<style scoped>\n",
              "    .dataframe tbody tr th:only-of-type {\n",
              "        vertical-align: middle;\n",
              "    }\n",
              "\n",
              "    .dataframe tbody tr th {\n",
              "        vertical-align: top;\n",
              "    }\n",
              "\n",
              "    .dataframe thead th {\n",
              "        text-align: right;\n",
              "    }\n",
              "</style>\n",
              "<table border=\"1\" class=\"dataframe\">\n",
              "  <thead>\n",
              "    <tr style=\"text-align: right;\">\n",
              "      <th></th>\n",
              "      <th>color</th>\n",
              "      <th>food</th>\n",
              "    </tr>\n",
              "  </thead>\n",
              "  <tbody>\n",
              "    <tr>\n",
              "      <th>Jane</th>\n",
              "      <td>blue</td>\n",
              "      <td>Steak</td>\n",
              "    </tr>\n",
              "    <tr>\n",
              "      <th>Niko</th>\n",
              "      <td>green</td>\n",
              "      <td>Lamb</td>\n",
              "    </tr>\n",
              "    <tr>\n",
              "      <th>Aaron</th>\n",
              "      <td>red</td>\n",
              "      <td>Watermelon</td>\n",
              "    </tr>\n",
              "    <tr>\n",
              "      <th>Penelope</th>\n",
              "      <td>white</td>\n",
              "      <td>Apple</td>\n",
              "    </tr>\n",
              "    <tr>\n",
              "      <th>Dean</th>\n",
              "      <td>gray</td>\n",
              "      <td>Cheese</td>\n",
              "    </tr>\n",
              "    <tr>\n",
              "      <th>Christina</th>\n",
              "      <td>black</td>\n",
              "      <td>Melon</td>\n",
              "    </tr>\n",
              "    <tr>\n",
              "      <th>Cornelia</th>\n",
              "      <td>red</td>\n",
              "      <td>Gyros</td>\n",
              "    </tr>\n",
              "  </tbody>\n",
              "</table>\n",
              "</div>"
            ],
            "text/plain": [
              "           color        food\n",
              "Jane        blue       Steak\n",
              "Niko       green        Lamb\n",
              "Aaron        red  Watermelon\n",
              "Penelope   white       Apple\n",
              "Dean        gray      Cheese\n",
              "Christina  black       Melon\n",
              "Cornelia     red       Gyros"
            ]
          },
          "execution_count": 65,
          "metadata": {
            "tags": []
          },
          "output_type": "execute_result"
        }
      ],
      "source": [
        "df1 = df[['color', 'food']].copy()\n",
        "df1.loc[df['color'] == 'red', 'food'] = ['Watermelon', 'Gyros']\n",
        "df1"
      ]
    },
    {
      "cell_type": "code",
      "execution_count": null,
      "metadata": {
        "colab": {
          "base_uri": "https://localhost:8080/",
          "height": 266
        },
        "id": "AY9wWbTtX5sv",
        "outputId": "90d0e17c-9062-4700-9e8c-ebcc648eeb73"
      },
      "outputs": [
        {
          "data": {
            "text/html": [
              "<div>\n",
              "<style scoped>\n",
              "    .dataframe tbody tr th:only-of-type {\n",
              "        vertical-align: middle;\n",
              "    }\n",
              "\n",
              "    .dataframe tbody tr th {\n",
              "        vertical-align: top;\n",
              "    }\n",
              "\n",
              "    .dataframe thead th {\n",
              "        text-align: right;\n",
              "    }\n",
              "</style>\n",
              "<table border=\"1\" class=\"dataframe\">\n",
              "  <thead>\n",
              "    <tr style=\"text-align: right;\">\n",
              "      <th></th>\n",
              "      <th>state</th>\n",
              "      <th>color</th>\n",
              "      <th>food</th>\n",
              "      <th>age</th>\n",
              "      <th>height</th>\n",
              "      <th>score</th>\n",
              "    </tr>\n",
              "  </thead>\n",
              "  <tbody>\n",
              "    <tr>\n",
              "      <th>Jane</th>\n",
              "      <td>NY</td>\n",
              "      <td>blue</td>\n",
              "      <td>Steak</td>\n",
              "      <td>30</td>\n",
              "      <td>165</td>\n",
              "      <td>4.6</td>\n",
              "    </tr>\n",
              "    <tr>\n",
              "      <th>Niko</th>\n",
              "      <td>TX</td>\n",
              "      <td>green</td>\n",
              "      <td>Lamb</td>\n",
              "      <td>2</td>\n",
              "      <td>70</td>\n",
              "      <td>99.0</td>\n",
              "    </tr>\n",
              "    <tr>\n",
              "      <th>Aaron</th>\n",
              "      <td>FL</td>\n",
              "      <td>red</td>\n",
              "      <td>Mango</td>\n",
              "      <td>12</td>\n",
              "      <td>120</td>\n",
              "      <td>99.0</td>\n",
              "    </tr>\n",
              "    <tr>\n",
              "      <th>Penelope</th>\n",
              "      <td>AL</td>\n",
              "      <td>white</td>\n",
              "      <td>Apple</td>\n",
              "      <td>4</td>\n",
              "      <td>80</td>\n",
              "      <td>99.0</td>\n",
              "    </tr>\n",
              "    <tr>\n",
              "      <th>Dean</th>\n",
              "      <td>AK</td>\n",
              "      <td>gray</td>\n",
              "      <td>Cheese</td>\n",
              "      <td>32</td>\n",
              "      <td>180</td>\n",
              "      <td>1.8</td>\n",
              "    </tr>\n",
              "    <tr>\n",
              "      <th>Christina</th>\n",
              "      <td>TX</td>\n",
              "      <td>black</td>\n",
              "      <td>Melon</td>\n",
              "      <td>33</td>\n",
              "      <td>172</td>\n",
              "      <td>9.5</td>\n",
              "    </tr>\n",
              "    <tr>\n",
              "      <th>Cornelia</th>\n",
              "      <td>TX</td>\n",
              "      <td>red</td>\n",
              "      <td>Beans</td>\n",
              "      <td>69</td>\n",
              "      <td>150</td>\n",
              "      <td>2.2</td>\n",
              "    </tr>\n",
              "  </tbody>\n",
              "</table>\n",
              "</div>"
            ],
            "text/plain": [
              "          state  color    food  age  height  score\n",
              "Jane         NY   blue   Steak   30     165    4.6\n",
              "Niko         TX  green    Lamb    2      70   99.0\n",
              "Aaron        FL    red   Mango   12     120   99.0\n",
              "Penelope     AL  white   Apple    4      80   99.0\n",
              "Dean         AK   gray  Cheese   32     180    1.8\n",
              "Christina    TX  black   Melon   33     172    9.5\n",
              "Cornelia     TX    red   Beans   69     150    2.2"
            ]
          },
          "execution_count": 66,
          "metadata": {
            "tags": []
          },
          "output_type": "execute_result"
        }
      ],
      "source": [
        "df"
      ]
    },
    {
      "cell_type": "markdown",
      "metadata": {
        "id": "KTMCSCZLX5sv"
      },
      "source": [
        "### Exercise 12\n",
        "<span  style=\"color:green; font-size:16px\">Change the values of **`color`**, **`age`**, and **`score`** for **`Niko`** to anything you like</span>"
      ]
    },
    {
      "cell_type": "code",
      "execution_count": null,
      "metadata": {
        "colab": {
          "base_uri": "https://localhost:8080/",
          "height": 266
        },
        "id": "d1se65d_X5sv",
        "outputId": "e890b25b-3b21-4352-ac2d-3eb2963d244e"
      },
      "outputs": [
        {
          "data": {
            "text/html": [
              "<div>\n",
              "<style scoped>\n",
              "    .dataframe tbody tr th:only-of-type {\n",
              "        vertical-align: middle;\n",
              "    }\n",
              "\n",
              "    .dataframe tbody tr th {\n",
              "        vertical-align: top;\n",
              "    }\n",
              "\n",
              "    .dataframe thead th {\n",
              "        text-align: right;\n",
              "    }\n",
              "</style>\n",
              "<table border=\"1\" class=\"dataframe\">\n",
              "  <thead>\n",
              "    <tr style=\"text-align: right;\">\n",
              "      <th></th>\n",
              "      <th>state</th>\n",
              "      <th>color</th>\n",
              "      <th>food</th>\n",
              "      <th>age</th>\n",
              "      <th>height</th>\n",
              "      <th>score</th>\n",
              "    </tr>\n",
              "  </thead>\n",
              "  <tbody>\n",
              "    <tr>\n",
              "      <th>Jane</th>\n",
              "      <td>NY</td>\n",
              "      <td>blue</td>\n",
              "      <td>Steak</td>\n",
              "      <td>30</td>\n",
              "      <td>165</td>\n",
              "      <td>4.6</td>\n",
              "    </tr>\n",
              "    <tr>\n",
              "      <th>Niko</th>\n",
              "      <td>TX</td>\n",
              "      <td>RED</td>\n",
              "      <td>Lamb</td>\n",
              "      <td>999</td>\n",
              "      <td>70</td>\n",
              "      <td>-1.0</td>\n",
              "    </tr>\n",
              "    <tr>\n",
              "      <th>Aaron</th>\n",
              "      <td>FL</td>\n",
              "      <td>red</td>\n",
              "      <td>Mango</td>\n",
              "      <td>12</td>\n",
              "      <td>120</td>\n",
              "      <td>99.0</td>\n",
              "    </tr>\n",
              "    <tr>\n",
              "      <th>Penelope</th>\n",
              "      <td>AL</td>\n",
              "      <td>white</td>\n",
              "      <td>Apple</td>\n",
              "      <td>4</td>\n",
              "      <td>80</td>\n",
              "      <td>99.0</td>\n",
              "    </tr>\n",
              "    <tr>\n",
              "      <th>Dean</th>\n",
              "      <td>AK</td>\n",
              "      <td>gray</td>\n",
              "      <td>Cheese</td>\n",
              "      <td>32</td>\n",
              "      <td>180</td>\n",
              "      <td>1.8</td>\n",
              "    </tr>\n",
              "    <tr>\n",
              "      <th>Christina</th>\n",
              "      <td>TX</td>\n",
              "      <td>black</td>\n",
              "      <td>Melon</td>\n",
              "      <td>33</td>\n",
              "      <td>172</td>\n",
              "      <td>9.5</td>\n",
              "    </tr>\n",
              "    <tr>\n",
              "      <th>Cornelia</th>\n",
              "      <td>TX</td>\n",
              "      <td>red</td>\n",
              "      <td>Beans</td>\n",
              "      <td>69</td>\n",
              "      <td>150</td>\n",
              "      <td>2.2</td>\n",
              "    </tr>\n",
              "  </tbody>\n",
              "</table>\n",
              "</div>"
            ],
            "text/plain": [
              "          state  color    food  age  height  score\n",
              "Jane         NY   blue   Steak   30     165    4.6\n",
              "Niko         TX    RED    Lamb  999      70   -1.0\n",
              "Aaron        FL    red   Mango   12     120   99.0\n",
              "Penelope     AL  white   Apple    4      80   99.0\n",
              "Dean         AK   gray  Cheese   32     180    1.8\n",
              "Christina    TX  black   Melon   33     172    9.5\n",
              "Cornelia     TX    red   Beans   69     150    2.2"
            ]
          },
          "execution_count": 67,
          "metadata": {
            "tags": []
          },
          "output_type": "execute_result"
        }
      ],
      "source": [
        "df.loc['Niko', ['color', 'age', 'score']] = ['RED', 999, -1]\n",
        "df"
      ]
    },
    {
      "cell_type": "code",
      "execution_count": null,
      "metadata": {
        "collapsed": true,
        "id": "k__fmc87X5sv"
      },
      "outputs": [],
      "source": []
    }
  ],
  "metadata": {
    "colab": {
      "include_colab_link": true,
      "name": "Solutions.ipynb",
      "provenance": []
    },
    "kernelspec": {
      "display_name": "base",
      "language": "python",
      "name": "python3"
    },
    "language_info": {
      "codemirror_mode": {
        "name": "ipython",
        "version": 3
      },
      "file_extension": ".py",
      "mimetype": "text/x-python",
      "name": "python",
      "nbconvert_exporter": "python",
      "pygments_lexer": "ipython3",
      "version": "3.9.15"
    },
    "vscode": {
      "interpreter": {
        "hash": "b0cc462c96df3621bcc58e01fadcdf9264a069c5c4bbf07201077bb349d3c6bf"
      }
    }
  },
  "nbformat": 4,
  "nbformat_minor": 0
}
